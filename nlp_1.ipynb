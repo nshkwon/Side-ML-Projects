{
  "nbformat": 4,
  "nbformat_minor": 0,
  "metadata": {
    "colab": {
      "provenance": [],
      "toc_visible": true,
      "authorship_tag": "ABX9TyOWBeys4n2CFKpxGuCWWdAf",
      "include_colab_link": true
    },
    "kernelspec": {
      "name": "python3",
      "display_name": "Python 3"
    },
    "language_info": {
      "name": "python"
    }
  },
  "cells": [
    {
      "cell_type": "markdown",
      "metadata": {
        "id": "view-in-github",
        "colab_type": "text"
      },
      "source": [
        "<a href=\"https://colab.research.google.com/github/nshkwon/Side-ML-Projects/blob/main/nlp_1.ipynb\" target=\"_parent\"><img src=\"https://colab.research.google.com/assets/colab-badge.svg\" alt=\"Open In Colab\"/></a>"
      ]
    },
    {
      "cell_type": "code",
      "execution_count": null,
      "metadata": {
        "id": "_7zymfQcgif5"
      },
      "outputs": [],
      "source": [
        "import numpy as np\n",
        "import pandas as pd\n",
        "import matplotlib.pyplot as plt\n",
        "import seaborn as sns"
      ]
    },
    {
      "cell_type": "markdown",
      "source": [
        "dataset: https://www.kaggle.com/datasets/bittlingmayer/amazonreviews?select=test.ft.txt.bz2"
      ],
      "metadata": {
        "id": "9ALNnuIYyn2g"
      }
    },
    {
      "cell_type": "code",
      "source": [
        "import pandas as pd\n",
        "\n",
        "# Load the dataset\n",
        "dataset = pd.read_csv('/content/train.ft.txt', delimiter='\\t', quoting=3, header=None, names=['text'])\n",
        "\n",
        "# Split text into label and review columns only if not done already\n",
        "if 'label' not in dataset.columns or 'review' not in dataset.columns:\n",
        "    dataset[['label', 'review']] = dataset['text'].str.split(pat=' ', n=1, expand=True)\n",
        "    dataset['label'] = dataset['label'].map({'__label__1': 0, '__label__2': 1})\n",
        "    dataset.drop(columns=['text'], inplace=True)\n",
        "\n",
        "# Check if there are any rows that weren't correctly processed\n",
        "print(\"Rows with unprocessed labels:\", dataset[dataset['label'].isnull()].shape[0])"
      ],
      "metadata": {
        "colab": {
          "base_uri": "https://localhost:8080/"
        },
        "id": "9Txi433CgjLy",
        "outputId": "bf334fa9-0f4e-4bba-bd71-a2eb124fdc97"
      },
      "execution_count": null,
      "outputs": [
        {
          "output_type": "stream",
          "name": "stdout",
          "text": [
            "Rows with unprocessed labels: 0\n"
          ]
        }
      ]
    },
    {
      "cell_type": "code",
      "source": [
        "dataset.head()"
      ],
      "metadata": {
        "colab": {
          "base_uri": "https://localhost:8080/",
          "height": 206
        },
        "id": "hDX9nvjQhR_D",
        "outputId": "b89d00b8-55f4-4278-af82-3f34d87e732f"
      },
      "execution_count": null,
      "outputs": [
        {
          "output_type": "execute_result",
          "data": {
            "text/plain": [
              "   label                                             review\n",
              "0      1  Stuning even for the non-gamer: This sound tra...\n",
              "1      1  The best soundtrack ever to anything.: I'm rea...\n",
              "2      1  Amazing!: This soundtrack is my favorite music...\n",
              "3      1  Excellent Soundtrack: I truly like this soundt...\n",
              "4      1  Remember, Pull Your Jaw Off The Floor After He..."
            ],
            "text/html": [
              "\n",
              "  <div id=\"df-d7bc2a75-e5f2-44c3-bbef-f2569f68c072\" class=\"colab-df-container\">\n",
              "    <div>\n",
              "<style scoped>\n",
              "    .dataframe tbody tr th:only-of-type {\n",
              "        vertical-align: middle;\n",
              "    }\n",
              "\n",
              "    .dataframe tbody tr th {\n",
              "        vertical-align: top;\n",
              "    }\n",
              "\n",
              "    .dataframe thead th {\n",
              "        text-align: right;\n",
              "    }\n",
              "</style>\n",
              "<table border=\"1\" class=\"dataframe\">\n",
              "  <thead>\n",
              "    <tr style=\"text-align: right;\">\n",
              "      <th></th>\n",
              "      <th>label</th>\n",
              "      <th>review</th>\n",
              "    </tr>\n",
              "  </thead>\n",
              "  <tbody>\n",
              "    <tr>\n",
              "      <th>0</th>\n",
              "      <td>1</td>\n",
              "      <td>Stuning even for the non-gamer: This sound tra...</td>\n",
              "    </tr>\n",
              "    <tr>\n",
              "      <th>1</th>\n",
              "      <td>1</td>\n",
              "      <td>The best soundtrack ever to anything.: I'm rea...</td>\n",
              "    </tr>\n",
              "    <tr>\n",
              "      <th>2</th>\n",
              "      <td>1</td>\n",
              "      <td>Amazing!: This soundtrack is my favorite music...</td>\n",
              "    </tr>\n",
              "    <tr>\n",
              "      <th>3</th>\n",
              "      <td>1</td>\n",
              "      <td>Excellent Soundtrack: I truly like this soundt...</td>\n",
              "    </tr>\n",
              "    <tr>\n",
              "      <th>4</th>\n",
              "      <td>1</td>\n",
              "      <td>Remember, Pull Your Jaw Off The Floor After He...</td>\n",
              "    </tr>\n",
              "  </tbody>\n",
              "</table>\n",
              "</div>\n",
              "    <div class=\"colab-df-buttons\">\n",
              "\n",
              "  <div class=\"colab-df-container\">\n",
              "    <button class=\"colab-df-convert\" onclick=\"convertToInteractive('df-d7bc2a75-e5f2-44c3-bbef-f2569f68c072')\"\n",
              "            title=\"Convert this dataframe to an interactive table.\"\n",
              "            style=\"display:none;\">\n",
              "\n",
              "  <svg xmlns=\"http://www.w3.org/2000/svg\" height=\"24px\" viewBox=\"0 -960 960 960\">\n",
              "    <path d=\"M120-120v-720h720v720H120Zm60-500h600v-160H180v160Zm220 220h160v-160H400v160Zm0 220h160v-160H400v160ZM180-400h160v-160H180v160Zm440 0h160v-160H620v160ZM180-180h160v-160H180v160Zm440 0h160v-160H620v160Z\"/>\n",
              "  </svg>\n",
              "    </button>\n",
              "\n",
              "  <style>\n",
              "    .colab-df-container {\n",
              "      display:flex;\n",
              "      gap: 12px;\n",
              "    }\n",
              "\n",
              "    .colab-df-convert {\n",
              "      background-color: #E8F0FE;\n",
              "      border: none;\n",
              "      border-radius: 50%;\n",
              "      cursor: pointer;\n",
              "      display: none;\n",
              "      fill: #1967D2;\n",
              "      height: 32px;\n",
              "      padding: 0 0 0 0;\n",
              "      width: 32px;\n",
              "    }\n",
              "\n",
              "    .colab-df-convert:hover {\n",
              "      background-color: #E2EBFA;\n",
              "      box-shadow: 0px 1px 2px rgba(60, 64, 67, 0.3), 0px 1px 3px 1px rgba(60, 64, 67, 0.15);\n",
              "      fill: #174EA6;\n",
              "    }\n",
              "\n",
              "    .colab-df-buttons div {\n",
              "      margin-bottom: 4px;\n",
              "    }\n",
              "\n",
              "    [theme=dark] .colab-df-convert {\n",
              "      background-color: #3B4455;\n",
              "      fill: #D2E3FC;\n",
              "    }\n",
              "\n",
              "    [theme=dark] .colab-df-convert:hover {\n",
              "      background-color: #434B5C;\n",
              "      box-shadow: 0px 1px 3px 1px rgba(0, 0, 0, 0.15);\n",
              "      filter: drop-shadow(0px 1px 2px rgba(0, 0, 0, 0.3));\n",
              "      fill: #FFFFFF;\n",
              "    }\n",
              "  </style>\n",
              "\n",
              "    <script>\n",
              "      const buttonEl =\n",
              "        document.querySelector('#df-d7bc2a75-e5f2-44c3-bbef-f2569f68c072 button.colab-df-convert');\n",
              "      buttonEl.style.display =\n",
              "        google.colab.kernel.accessAllowed ? 'block' : 'none';\n",
              "\n",
              "      async function convertToInteractive(key) {\n",
              "        const element = document.querySelector('#df-d7bc2a75-e5f2-44c3-bbef-f2569f68c072');\n",
              "        const dataTable =\n",
              "          await google.colab.kernel.invokeFunction('convertToInteractive',\n",
              "                                                    [key], {});\n",
              "        if (!dataTable) return;\n",
              "\n",
              "        const docLinkHtml = 'Like what you see? Visit the ' +\n",
              "          '<a target=\"_blank\" href=https://colab.research.google.com/notebooks/data_table.ipynb>data table notebook</a>'\n",
              "          + ' to learn more about interactive tables.';\n",
              "        element.innerHTML = '';\n",
              "        dataTable['output_type'] = 'display_data';\n",
              "        await google.colab.output.renderOutput(dataTable, element);\n",
              "        const docLink = document.createElement('div');\n",
              "        docLink.innerHTML = docLinkHtml;\n",
              "        element.appendChild(docLink);\n",
              "      }\n",
              "    </script>\n",
              "  </div>\n",
              "\n",
              "\n",
              "<div id=\"df-62e9b692-9f20-48ad-bec8-81f629a60db9\">\n",
              "  <button class=\"colab-df-quickchart\" onclick=\"quickchart('df-62e9b692-9f20-48ad-bec8-81f629a60db9')\"\n",
              "            title=\"Suggest charts\"\n",
              "            style=\"display:none;\">\n",
              "\n",
              "<svg xmlns=\"http://www.w3.org/2000/svg\" height=\"24px\"viewBox=\"0 0 24 24\"\n",
              "     width=\"24px\">\n",
              "    <g>\n",
              "        <path d=\"M19 3H5c-1.1 0-2 .9-2 2v14c0 1.1.9 2 2 2h14c1.1 0 2-.9 2-2V5c0-1.1-.9-2-2-2zM9 17H7v-7h2v7zm4 0h-2V7h2v10zm4 0h-2v-4h2v4z\"/>\n",
              "    </g>\n",
              "</svg>\n",
              "  </button>\n",
              "\n",
              "<style>\n",
              "  .colab-df-quickchart {\n",
              "      --bg-color: #E8F0FE;\n",
              "      --fill-color: #1967D2;\n",
              "      --hover-bg-color: #E2EBFA;\n",
              "      --hover-fill-color: #174EA6;\n",
              "      --disabled-fill-color: #AAA;\n",
              "      --disabled-bg-color: #DDD;\n",
              "  }\n",
              "\n",
              "  [theme=dark] .colab-df-quickchart {\n",
              "      --bg-color: #3B4455;\n",
              "      --fill-color: #D2E3FC;\n",
              "      --hover-bg-color: #434B5C;\n",
              "      --hover-fill-color: #FFFFFF;\n",
              "      --disabled-bg-color: #3B4455;\n",
              "      --disabled-fill-color: #666;\n",
              "  }\n",
              "\n",
              "  .colab-df-quickchart {\n",
              "    background-color: var(--bg-color);\n",
              "    border: none;\n",
              "    border-radius: 50%;\n",
              "    cursor: pointer;\n",
              "    display: none;\n",
              "    fill: var(--fill-color);\n",
              "    height: 32px;\n",
              "    padding: 0;\n",
              "    width: 32px;\n",
              "  }\n",
              "\n",
              "  .colab-df-quickchart:hover {\n",
              "    background-color: var(--hover-bg-color);\n",
              "    box-shadow: 0 1px 2px rgba(60, 64, 67, 0.3), 0 1px 3px 1px rgba(60, 64, 67, 0.15);\n",
              "    fill: var(--button-hover-fill-color);\n",
              "  }\n",
              "\n",
              "  .colab-df-quickchart-complete:disabled,\n",
              "  .colab-df-quickchart-complete:disabled:hover {\n",
              "    background-color: var(--disabled-bg-color);\n",
              "    fill: var(--disabled-fill-color);\n",
              "    box-shadow: none;\n",
              "  }\n",
              "\n",
              "  .colab-df-spinner {\n",
              "    border: 2px solid var(--fill-color);\n",
              "    border-color: transparent;\n",
              "    border-bottom-color: var(--fill-color);\n",
              "    animation:\n",
              "      spin 1s steps(1) infinite;\n",
              "  }\n",
              "\n",
              "  @keyframes spin {\n",
              "    0% {\n",
              "      border-color: transparent;\n",
              "      border-bottom-color: var(--fill-color);\n",
              "      border-left-color: var(--fill-color);\n",
              "    }\n",
              "    20% {\n",
              "      border-color: transparent;\n",
              "      border-left-color: var(--fill-color);\n",
              "      border-top-color: var(--fill-color);\n",
              "    }\n",
              "    30% {\n",
              "      border-color: transparent;\n",
              "      border-left-color: var(--fill-color);\n",
              "      border-top-color: var(--fill-color);\n",
              "      border-right-color: var(--fill-color);\n",
              "    }\n",
              "    40% {\n",
              "      border-color: transparent;\n",
              "      border-right-color: var(--fill-color);\n",
              "      border-top-color: var(--fill-color);\n",
              "    }\n",
              "    60% {\n",
              "      border-color: transparent;\n",
              "      border-right-color: var(--fill-color);\n",
              "    }\n",
              "    80% {\n",
              "      border-color: transparent;\n",
              "      border-right-color: var(--fill-color);\n",
              "      border-bottom-color: var(--fill-color);\n",
              "    }\n",
              "    90% {\n",
              "      border-color: transparent;\n",
              "      border-bottom-color: var(--fill-color);\n",
              "    }\n",
              "  }\n",
              "</style>\n",
              "\n",
              "  <script>\n",
              "    async function quickchart(key) {\n",
              "      const quickchartButtonEl =\n",
              "        document.querySelector('#' + key + ' button');\n",
              "      quickchartButtonEl.disabled = true;  // To prevent multiple clicks.\n",
              "      quickchartButtonEl.classList.add('colab-df-spinner');\n",
              "      try {\n",
              "        const charts = await google.colab.kernel.invokeFunction(\n",
              "            'suggestCharts', [key], {});\n",
              "      } catch (error) {\n",
              "        console.error('Error during call to suggestCharts:', error);\n",
              "      }\n",
              "      quickchartButtonEl.classList.remove('colab-df-spinner');\n",
              "      quickchartButtonEl.classList.add('colab-df-quickchart-complete');\n",
              "    }\n",
              "    (() => {\n",
              "      let quickchartButtonEl =\n",
              "        document.querySelector('#df-62e9b692-9f20-48ad-bec8-81f629a60db9 button');\n",
              "      quickchartButtonEl.style.display =\n",
              "        google.colab.kernel.accessAllowed ? 'block' : 'none';\n",
              "    })();\n",
              "  </script>\n",
              "</div>\n",
              "    </div>\n",
              "  </div>\n"
            ],
            "application/vnd.google.colaboratory.intrinsic+json": {
              "type": "dataframe",
              "variable_name": "dataset",
              "summary": "{\n  \"name\": \"dataset\",\n  \"rows\": 85797,\n  \"fields\": [\n    {\n      \"column\": \"label\",\n      \"properties\": {\n        \"dtype\": \"number\",\n        \"std\": 0,\n        \"min\": 0,\n        \"max\": 1,\n        \"num_unique_values\": 2,\n        \"samples\": [\n          0,\n          1\n        ],\n        \"semantic_type\": \"\",\n        \"description\": \"\"\n      }\n    },\n    {\n      \"column\": \"review\",\n      \"properties\": {\n        \"dtype\": \"string\",\n        \"num_unique_values\": 85797,\n        \"samples\": [\n          \"Wiccan \\\"Light\\\": I'm rating this the same as the Cottage Witchery book by the same author. I suppose it is nice for someone dabbling in Pagan faiths, very basic with some introduction. I thought it was a written a bit condescendingly and I have a problem with all of the rhyming spells. It is very distracting.\",\n          \"honky tonk hero!: Hank Williams should be an inspiration to any musician regardless of the sound their going for. Being a punk rocker, I found his style and substance more geniune than Sid and Darcy combined! I was so taken by it, I tattooed \\\"LOVESICK\\\" on my knuckles! The man's music moved me that much. Your never going to go wrong with any of his work, but this collection of songs has a special quality. I had heard his greatest hits, as I'm sure everyone else has, but to listen to Pan American, I'll Be A Bachelor 'Til I Die, and I Don't Care (If Tomorrow Never Comes), that's where I really grasped the heart of what Hank is and was! A musician with supreme talent; and like Miles with Jazz and Elvis with Rock n' Roll; Hank is the standard every honky tonker has to live up too! Truly one of the best albums I've ever bought, and the liner notes are pretty decent. (Great picture of him with his ride on the cover). Buy it with confidence. Enjoy!\"\n        ],\n        \"semantic_type\": \"\",\n        \"description\": \"\"\n      }\n    }\n  ]\n}"
            }
          },
          "metadata": {},
          "execution_count": 3
        }
      ]
    },
    {
      "cell_type": "code",
      "source": [
        "dataset.shape"
      ],
      "metadata": {
        "colab": {
          "base_uri": "https://localhost:8080/"
        },
        "id": "-7oH14pYhe1T",
        "outputId": "75fdac3c-d5f7-4fb8-e987-19fc1f77c20f"
      },
      "execution_count": null,
      "outputs": [
        {
          "output_type": "execute_result",
          "data": {
            "text/plain": [
              "(85797, 2)"
            ]
          },
          "metadata": {},
          "execution_count": 4
        }
      ]
    },
    {
      "cell_type": "code",
      "source": [
        "dataset.info()"
      ],
      "metadata": {
        "colab": {
          "base_uri": "https://localhost:8080/"
        },
        "id": "PNiz4SmPhh-6",
        "outputId": "3474a1f7-e8fc-4865-bd9a-9536f81ddc08"
      },
      "execution_count": null,
      "outputs": [
        {
          "output_type": "stream",
          "name": "stdout",
          "text": [
            "<class 'pandas.core.frame.DataFrame'>\n",
            "RangeIndex: 85797 entries, 0 to 85796\n",
            "Data columns (total 2 columns):\n",
            " #   Column  Non-Null Count  Dtype \n",
            "---  ------  --------------  ----- \n",
            " 0   label   85797 non-null  int64 \n",
            " 1   review  85797 non-null  object\n",
            "dtypes: int64(1), object(1)\n",
            "memory usage: 1.3+ MB\n"
          ]
        }
      ]
    },
    {
      "cell_type": "code",
      "source": [
        "dataset.isnull().values.any()"
      ],
      "metadata": {
        "colab": {
          "base_uri": "https://localhost:8080/"
        },
        "id": "2pDMujNDiKGF",
        "outputId": "19d42457-6236-48e3-9142-ed47e4f21010"
      },
      "execution_count": null,
      "outputs": [
        {
          "output_type": "execute_result",
          "data": {
            "text/plain": [
              "False"
            ]
          },
          "metadata": {},
          "execution_count": 6
        }
      ]
    },
    {
      "cell_type": "code",
      "source": [
        "dataset.isnull().values.sum()"
      ],
      "metadata": {
        "colab": {
          "base_uri": "https://localhost:8080/"
        },
        "id": "AK2uf8Unq-0y",
        "outputId": "971955f8-323c-4813-ebb7-6a8dc38e03f0"
      },
      "execution_count": null,
      "outputs": [
        {
          "output_type": "execute_result",
          "data": {
            "text/plain": [
              "0"
            ]
          },
          "metadata": {},
          "execution_count": 7
        }
      ]
    },
    {
      "cell_type": "code",
      "source": [
        "dataset.columns[dataset.isnull().any()]"
      ],
      "metadata": {
        "colab": {
          "base_uri": "https://localhost:8080/"
        },
        "id": "POw7qgHOrBax",
        "outputId": "4252f630-b1f8-4947-d3d9-073fef0a0e84"
      },
      "execution_count": null,
      "outputs": [
        {
          "output_type": "execute_result",
          "data": {
            "text/plain": [
              "Index([], dtype='object')"
            ]
          },
          "metadata": {},
          "execution_count": 8
        }
      ]
    },
    {
      "cell_type": "code",
      "source": [
        "#dataset.dropna(inplace=True)"
      ],
      "metadata": {
        "id": "yiWrq1W6rymN"
      },
      "execution_count": null,
      "outputs": []
    },
    {
      "cell_type": "code",
      "source": [
        "#dataset.isnull().values.any()"
      ],
      "metadata": {
        "id": "e5wlnM-4sYOj"
      },
      "execution_count": null,
      "outputs": []
    },
    {
      "cell_type": "code",
      "source": [
        "dataset.shape"
      ],
      "metadata": {
        "id": "JfmFheOksaXZ",
        "outputId": "b6fcfcf1-8342-4d3a-f559-724433d5085d",
        "colab": {
          "base_uri": "https://localhost:8080/"
        }
      },
      "execution_count": null,
      "outputs": [
        {
          "output_type": "execute_result",
          "data": {
            "text/plain": [
              "(85797, 2)"
            ]
          },
          "metadata": {},
          "execution_count": 9
        }
      ]
    },
    {
      "cell_type": "code",
      "source": [
        "dataset.describe()"
      ],
      "metadata": {
        "id": "TxZQnDwBsbhF",
        "colab": {
          "base_uri": "https://localhost:8080/",
          "height": 300
        },
        "outputId": "26c45804-b897-4733-ac6a-f4fb0c01b857"
      },
      "execution_count": null,
      "outputs": [
        {
          "output_type": "execute_result",
          "data": {
            "text/plain": [
              "              label\n",
              "count  85797.000000\n",
              "mean       0.513281\n",
              "std        0.499826\n",
              "min        0.000000\n",
              "25%        0.000000\n",
              "50%        1.000000\n",
              "75%        1.000000\n",
              "max        1.000000"
            ],
            "text/html": [
              "\n",
              "  <div id=\"df-7ff3507b-1c4d-4ee4-9be2-6dcecd9c71bb\" class=\"colab-df-container\">\n",
              "    <div>\n",
              "<style scoped>\n",
              "    .dataframe tbody tr th:only-of-type {\n",
              "        vertical-align: middle;\n",
              "    }\n",
              "\n",
              "    .dataframe tbody tr th {\n",
              "        vertical-align: top;\n",
              "    }\n",
              "\n",
              "    .dataframe thead th {\n",
              "        text-align: right;\n",
              "    }\n",
              "</style>\n",
              "<table border=\"1\" class=\"dataframe\">\n",
              "  <thead>\n",
              "    <tr style=\"text-align: right;\">\n",
              "      <th></th>\n",
              "      <th>label</th>\n",
              "    </tr>\n",
              "  </thead>\n",
              "  <tbody>\n",
              "    <tr>\n",
              "      <th>count</th>\n",
              "      <td>85797.000000</td>\n",
              "    </tr>\n",
              "    <tr>\n",
              "      <th>mean</th>\n",
              "      <td>0.513281</td>\n",
              "    </tr>\n",
              "    <tr>\n",
              "      <th>std</th>\n",
              "      <td>0.499826</td>\n",
              "    </tr>\n",
              "    <tr>\n",
              "      <th>min</th>\n",
              "      <td>0.000000</td>\n",
              "    </tr>\n",
              "    <tr>\n",
              "      <th>25%</th>\n",
              "      <td>0.000000</td>\n",
              "    </tr>\n",
              "    <tr>\n",
              "      <th>50%</th>\n",
              "      <td>1.000000</td>\n",
              "    </tr>\n",
              "    <tr>\n",
              "      <th>75%</th>\n",
              "      <td>1.000000</td>\n",
              "    </tr>\n",
              "    <tr>\n",
              "      <th>max</th>\n",
              "      <td>1.000000</td>\n",
              "    </tr>\n",
              "  </tbody>\n",
              "</table>\n",
              "</div>\n",
              "    <div class=\"colab-df-buttons\">\n",
              "\n",
              "  <div class=\"colab-df-container\">\n",
              "    <button class=\"colab-df-convert\" onclick=\"convertToInteractive('df-7ff3507b-1c4d-4ee4-9be2-6dcecd9c71bb')\"\n",
              "            title=\"Convert this dataframe to an interactive table.\"\n",
              "            style=\"display:none;\">\n",
              "\n",
              "  <svg xmlns=\"http://www.w3.org/2000/svg\" height=\"24px\" viewBox=\"0 -960 960 960\">\n",
              "    <path d=\"M120-120v-720h720v720H120Zm60-500h600v-160H180v160Zm220 220h160v-160H400v160Zm0 220h160v-160H400v160ZM180-400h160v-160H180v160Zm440 0h160v-160H620v160ZM180-180h160v-160H180v160Zm440 0h160v-160H620v160Z\"/>\n",
              "  </svg>\n",
              "    </button>\n",
              "\n",
              "  <style>\n",
              "    .colab-df-container {\n",
              "      display:flex;\n",
              "      gap: 12px;\n",
              "    }\n",
              "\n",
              "    .colab-df-convert {\n",
              "      background-color: #E8F0FE;\n",
              "      border: none;\n",
              "      border-radius: 50%;\n",
              "      cursor: pointer;\n",
              "      display: none;\n",
              "      fill: #1967D2;\n",
              "      height: 32px;\n",
              "      padding: 0 0 0 0;\n",
              "      width: 32px;\n",
              "    }\n",
              "\n",
              "    .colab-df-convert:hover {\n",
              "      background-color: #E2EBFA;\n",
              "      box-shadow: 0px 1px 2px rgba(60, 64, 67, 0.3), 0px 1px 3px 1px rgba(60, 64, 67, 0.15);\n",
              "      fill: #174EA6;\n",
              "    }\n",
              "\n",
              "    .colab-df-buttons div {\n",
              "      margin-bottom: 4px;\n",
              "    }\n",
              "\n",
              "    [theme=dark] .colab-df-convert {\n",
              "      background-color: #3B4455;\n",
              "      fill: #D2E3FC;\n",
              "    }\n",
              "\n",
              "    [theme=dark] .colab-df-convert:hover {\n",
              "      background-color: #434B5C;\n",
              "      box-shadow: 0px 1px 3px 1px rgba(0, 0, 0, 0.15);\n",
              "      filter: drop-shadow(0px 1px 2px rgba(0, 0, 0, 0.3));\n",
              "      fill: #FFFFFF;\n",
              "    }\n",
              "  </style>\n",
              "\n",
              "    <script>\n",
              "      const buttonEl =\n",
              "        document.querySelector('#df-7ff3507b-1c4d-4ee4-9be2-6dcecd9c71bb button.colab-df-convert');\n",
              "      buttonEl.style.display =\n",
              "        google.colab.kernel.accessAllowed ? 'block' : 'none';\n",
              "\n",
              "      async function convertToInteractive(key) {\n",
              "        const element = document.querySelector('#df-7ff3507b-1c4d-4ee4-9be2-6dcecd9c71bb');\n",
              "        const dataTable =\n",
              "          await google.colab.kernel.invokeFunction('convertToInteractive',\n",
              "                                                    [key], {});\n",
              "        if (!dataTable) return;\n",
              "\n",
              "        const docLinkHtml = 'Like what you see? Visit the ' +\n",
              "          '<a target=\"_blank\" href=https://colab.research.google.com/notebooks/data_table.ipynb>data table notebook</a>'\n",
              "          + ' to learn more about interactive tables.';\n",
              "        element.innerHTML = '';\n",
              "        dataTable['output_type'] = 'display_data';\n",
              "        await google.colab.output.renderOutput(dataTable, element);\n",
              "        const docLink = document.createElement('div');\n",
              "        docLink.innerHTML = docLinkHtml;\n",
              "        element.appendChild(docLink);\n",
              "      }\n",
              "    </script>\n",
              "  </div>\n",
              "\n",
              "\n",
              "<div id=\"df-57054c21-eca1-40c8-933f-7727881f9233\">\n",
              "  <button class=\"colab-df-quickchart\" onclick=\"quickchart('df-57054c21-eca1-40c8-933f-7727881f9233')\"\n",
              "            title=\"Suggest charts\"\n",
              "            style=\"display:none;\">\n",
              "\n",
              "<svg xmlns=\"http://www.w3.org/2000/svg\" height=\"24px\"viewBox=\"0 0 24 24\"\n",
              "     width=\"24px\">\n",
              "    <g>\n",
              "        <path d=\"M19 3H5c-1.1 0-2 .9-2 2v14c0 1.1.9 2 2 2h14c1.1 0 2-.9 2-2V5c0-1.1-.9-2-2-2zM9 17H7v-7h2v7zm4 0h-2V7h2v10zm4 0h-2v-4h2v4z\"/>\n",
              "    </g>\n",
              "</svg>\n",
              "  </button>\n",
              "\n",
              "<style>\n",
              "  .colab-df-quickchart {\n",
              "      --bg-color: #E8F0FE;\n",
              "      --fill-color: #1967D2;\n",
              "      --hover-bg-color: #E2EBFA;\n",
              "      --hover-fill-color: #174EA6;\n",
              "      --disabled-fill-color: #AAA;\n",
              "      --disabled-bg-color: #DDD;\n",
              "  }\n",
              "\n",
              "  [theme=dark] .colab-df-quickchart {\n",
              "      --bg-color: #3B4455;\n",
              "      --fill-color: #D2E3FC;\n",
              "      --hover-bg-color: #434B5C;\n",
              "      --hover-fill-color: #FFFFFF;\n",
              "      --disabled-bg-color: #3B4455;\n",
              "      --disabled-fill-color: #666;\n",
              "  }\n",
              "\n",
              "  .colab-df-quickchart {\n",
              "    background-color: var(--bg-color);\n",
              "    border: none;\n",
              "    border-radius: 50%;\n",
              "    cursor: pointer;\n",
              "    display: none;\n",
              "    fill: var(--fill-color);\n",
              "    height: 32px;\n",
              "    padding: 0;\n",
              "    width: 32px;\n",
              "  }\n",
              "\n",
              "  .colab-df-quickchart:hover {\n",
              "    background-color: var(--hover-bg-color);\n",
              "    box-shadow: 0 1px 2px rgba(60, 64, 67, 0.3), 0 1px 3px 1px rgba(60, 64, 67, 0.15);\n",
              "    fill: var(--button-hover-fill-color);\n",
              "  }\n",
              "\n",
              "  .colab-df-quickchart-complete:disabled,\n",
              "  .colab-df-quickchart-complete:disabled:hover {\n",
              "    background-color: var(--disabled-bg-color);\n",
              "    fill: var(--disabled-fill-color);\n",
              "    box-shadow: none;\n",
              "  }\n",
              "\n",
              "  .colab-df-spinner {\n",
              "    border: 2px solid var(--fill-color);\n",
              "    border-color: transparent;\n",
              "    border-bottom-color: var(--fill-color);\n",
              "    animation:\n",
              "      spin 1s steps(1) infinite;\n",
              "  }\n",
              "\n",
              "  @keyframes spin {\n",
              "    0% {\n",
              "      border-color: transparent;\n",
              "      border-bottom-color: var(--fill-color);\n",
              "      border-left-color: var(--fill-color);\n",
              "    }\n",
              "    20% {\n",
              "      border-color: transparent;\n",
              "      border-left-color: var(--fill-color);\n",
              "      border-top-color: var(--fill-color);\n",
              "    }\n",
              "    30% {\n",
              "      border-color: transparent;\n",
              "      border-left-color: var(--fill-color);\n",
              "      border-top-color: var(--fill-color);\n",
              "      border-right-color: var(--fill-color);\n",
              "    }\n",
              "    40% {\n",
              "      border-color: transparent;\n",
              "      border-right-color: var(--fill-color);\n",
              "      border-top-color: var(--fill-color);\n",
              "    }\n",
              "    60% {\n",
              "      border-color: transparent;\n",
              "      border-right-color: var(--fill-color);\n",
              "    }\n",
              "    80% {\n",
              "      border-color: transparent;\n",
              "      border-right-color: var(--fill-color);\n",
              "      border-bottom-color: var(--fill-color);\n",
              "    }\n",
              "    90% {\n",
              "      border-color: transparent;\n",
              "      border-bottom-color: var(--fill-color);\n",
              "    }\n",
              "  }\n",
              "</style>\n",
              "\n",
              "  <script>\n",
              "    async function quickchart(key) {\n",
              "      const quickchartButtonEl =\n",
              "        document.querySelector('#' + key + ' button');\n",
              "      quickchartButtonEl.disabled = true;  // To prevent multiple clicks.\n",
              "      quickchartButtonEl.classList.add('colab-df-spinner');\n",
              "      try {\n",
              "        const charts = await google.colab.kernel.invokeFunction(\n",
              "            'suggestCharts', [key], {});\n",
              "      } catch (error) {\n",
              "        console.error('Error during call to suggestCharts:', error);\n",
              "      }\n",
              "      quickchartButtonEl.classList.remove('colab-df-spinner');\n",
              "      quickchartButtonEl.classList.add('colab-df-quickchart-complete');\n",
              "    }\n",
              "    (() => {\n",
              "      let quickchartButtonEl =\n",
              "        document.querySelector('#df-57054c21-eca1-40c8-933f-7727881f9233 button');\n",
              "      quickchartButtonEl.style.display =\n",
              "        google.colab.kernel.accessAllowed ? 'block' : 'none';\n",
              "    })();\n",
              "  </script>\n",
              "</div>\n",
              "    </div>\n",
              "  </div>\n"
            ],
            "application/vnd.google.colaboratory.intrinsic+json": {
              "type": "dataframe",
              "summary": "{\n  \"name\": \"dataset\",\n  \"rows\": 8,\n  \"fields\": [\n    {\n      \"column\": \"label\",\n      \"properties\": {\n        \"dtype\": \"number\",\n        \"std\": 30333.61756303173,\n        \"min\": 0.0,\n        \"max\": 85797.0,\n        \"num_unique_values\": 5,\n        \"samples\": [\n          0.5132813501637586,\n          1.0,\n          0.4998264874640138\n        ],\n        \"semantic_type\": \"\",\n        \"description\": \"\"\n      }\n    }\n  ]\n}"
            }
          },
          "metadata": {},
          "execution_count": 10
        }
      ]
    },
    {
      "cell_type": "code",
      "source": [
        "sns.countplot(data=dataset, x=dataset.label, label='Count')\n",
        "plt.show"
      ],
      "metadata": {
        "colab": {
          "base_uri": "https://localhost:8080/",
          "height": 619
        },
        "id": "Y150I6w-kAGg",
        "outputId": "cd6f56b3-521d-4b86-b783-72c96cc35c1f"
      },
      "execution_count": null,
      "outputs": [
        {
          "output_type": "execute_result",
          "data": {
            "text/plain": [
              "<function matplotlib.pyplot.show(close=None, block=None)>"
            ],
            "text/html": [
              "<div style=\"max-width:800px; border: 1px solid var(--colab-border-color);\"><style>\n",
              "      pre.function-repr-contents {\n",
              "        overflow-x: auto;\n",
              "        padding: 8px 12px;\n",
              "        max-height: 500px;\n",
              "      }\n",
              "\n",
              "      pre.function-repr-contents.function-repr-contents-collapsed {\n",
              "        cursor: pointer;\n",
              "        max-height: 100px;\n",
              "      }\n",
              "    </style>\n",
              "    <pre style=\"white-space: initial; background:\n",
              "         var(--colab-secondary-surface-color); padding: 8px 12px;\n",
              "         border-bottom: 1px solid var(--colab-border-color);\"><b>matplotlib.pyplot.show</b><br/>def show(*args, **kwargs)</pre><pre class=\"function-repr-contents function-repr-contents-collapsed\" style=\"\"><a class=\"filepath\" style=\"display:none\" href=\"#\">/usr/local/lib/python3.10/dist-packages/matplotlib/pyplot.py</a>Display all open figures.\n",
              "\n",
              "Parameters\n",
              "----------\n",
              "block : bool, optional\n",
              "    Whether to wait for all figures to be closed before returning.\n",
              "\n",
              "    If `True` block and run the GUI main loop until all figure windows\n",
              "    are closed.\n",
              "\n",
              "    If `False` ensure that all figure windows are displayed and return\n",
              "    immediately.  In this case, you are responsible for ensuring\n",
              "    that the event loop is running to have responsive figures.\n",
              "\n",
              "    Defaults to True in non-interactive mode and to False in interactive\n",
              "    mode (see `.pyplot.isinteractive`).\n",
              "\n",
              "See Also\n",
              "--------\n",
              "ion : Enable interactive mode, which shows / updates the figure after\n",
              "      every plotting command, so that calling ``show()`` is not necessary.\n",
              "ioff : Disable interactive mode.\n",
              "savefig : Save the figure to an image file instead of showing it on screen.\n",
              "\n",
              "Notes\n",
              "-----\n",
              "**Saving figures to file and showing a window at the same time**\n",
              "\n",
              "If you want an image file as well as a user interface window, use\n",
              "`.pyplot.savefig` before `.pyplot.show`. At the end of (a blocking)\n",
              "``show()`` the figure is closed and thus unregistered from pyplot. Calling\n",
              "`.pyplot.savefig` afterwards would save a new and thus empty figure. This\n",
              "limitation of command order does not apply if the show is non-blocking or\n",
              "if you keep a reference to the figure and use `.Figure.savefig`.\n",
              "\n",
              "**Auto-show in jupyter notebooks**\n",
              "\n",
              "The jupyter backends (activated via ``%matplotlib inline``,\n",
              "``%matplotlib notebook``, or ``%matplotlib widget``), call ``show()`` at\n",
              "the end of every cell by default. Thus, you usually don&#x27;t have to call it\n",
              "explicitly there.</pre>\n",
              "      <script>\n",
              "      if (google.colab.kernel.accessAllowed && google.colab.files && google.colab.files.view) {\n",
              "        for (const element of document.querySelectorAll('.filepath')) {\n",
              "          element.style.display = 'block'\n",
              "          element.onclick = (event) => {\n",
              "            event.preventDefault();\n",
              "            event.stopPropagation();\n",
              "            google.colab.files.view(element.textContent, 401);\n",
              "          };\n",
              "        }\n",
              "      }\n",
              "      for (const element of document.querySelectorAll('.function-repr-contents')) {\n",
              "        element.onclick = (event) => {\n",
              "          event.preventDefault();\n",
              "          event.stopPropagation();\n",
              "          element.classList.toggle('function-repr-contents-collapsed');\n",
              "        };\n",
              "      }\n",
              "      </script>\n",
              "      </div>"
            ]
          },
          "metadata": {},
          "execution_count": 11
        },
        {
          "output_type": "display_data",
          "data": {
            "text/plain": [
              "<Figure size 640x480 with 1 Axes>"
            ],
            "image/png": "[encoded data removed]"
          },
          "metadata": {}
        }
      ]
    },
    {
      "cell_type": "code",
      "source": [
        "(dataset.label == 1).sum()"
      ],
      "metadata": {
        "colab": {
          "base_uri": "https://localhost:8080/"
        },
        "id": "beQqh1J5jLBq",
        "outputId": "7bb08492-3509-42e5-ba71-a839010c5e20"
      },
      "execution_count": null,
      "outputs": [
        {
          "output_type": "execute_result",
          "data": {
            "text/plain": [
              "44038"
            ]
          },
          "metadata": {},
          "execution_count": 12
        }
      ]
    },
    {
      "cell_type": "code",
      "source": [
        "(dataset.label == 0).sum()"
      ],
      "metadata": {
        "colab": {
          "base_uri": "https://localhost:8080/"
        },
        "id": "gWTV_XG0jPMw",
        "outputId": "560f6143-f28f-4e69-8303-4d330b30d08b"
      },
      "execution_count": null,
      "outputs": [
        {
          "output_type": "execute_result",
          "data": {
            "text/plain": [
              "41759"
            ]
          },
          "metadata": {},
          "execution_count": 13
        }
      ]
    },
    {
      "cell_type": "code",
      "source": [],
      "metadata": {
        "id": "gMVk1XGqjRAu"
      },
      "execution_count": null,
      "outputs": []
    },
    {
      "cell_type": "markdown",
      "source": [
        "# length of message"
      ],
      "metadata": {
        "id": "GQ4hnq8ojl0n"
      }
    },
    {
      "cell_type": "code",
      "source": [
        "dataset['Length'] = dataset['review'].apply(len)"
      ],
      "metadata": {
        "id": "EhVTFvT4jndx"
      },
      "execution_count": null,
      "outputs": []
    },
    {
      "cell_type": "code",
      "source": [
        "dataset.head()"
      ],
      "metadata": {
        "colab": {
          "base_uri": "https://localhost:8080/",
          "height": 206
        },
        "id": "WWxQmw7PjpxF",
        "outputId": "3002608d-5957-4579-fb8b-5bdc0fc0b63b"
      },
      "execution_count": null,
      "outputs": [
        {
          "output_type": "execute_result",
          "data": {
            "text/plain": [
              "   label                                             review  Length\n",
              "0      1  Stuning even for the non-gamer: This sound tra...     426\n",
              "1      1  The best soundtrack ever to anything.: I'm rea...     509\n",
              "2      1  Amazing!: This soundtrack is my favorite music...     760\n",
              "3      1  Excellent Soundtrack: I truly like this soundt...     743\n",
              "4      1  Remember, Pull Your Jaw Off The Floor After He...     481"
            ],
            "text/html": [
              "\n",
              "  <div id=\"df-0e1eb049-3c4a-4c22-8f3b-952a53ec0334\" class=\"colab-df-container\">\n",
              "    <div>\n",
              "<style scoped>\n",
              "    .dataframe tbody tr th:only-of-type {\n",
              "        vertical-align: middle;\n",
              "    }\n",
              "\n",
              "    .dataframe tbody tr th {\n",
              "        vertical-align: top;\n",
              "    }\n",
              "\n",
              "    .dataframe thead th {\n",
              "        text-align: right;\n",
              "    }\n",
              "</style>\n",
              "<table border=\"1\" class=\"dataframe\">\n",
              "  <thead>\n",
              "    <tr style=\"text-align: right;\">\n",
              "      <th></th>\n",
              "      <th>label</th>\n",
              "      <th>review</th>\n",
              "      <th>Length</th>\n",
              "    </tr>\n",
              "  </thead>\n",
              "  <tbody>\n",
              "    <tr>\n",
              "      <th>0</th>\n",
              "      <td>1</td>\n",
              "      <td>Stuning even for the non-gamer: This sound tra...</td>\n",
              "      <td>426</td>\n",
              "    </tr>\n",
              "    <tr>\n",
              "      <th>1</th>\n",
              "      <td>1</td>\n",
              "      <td>The best soundtrack ever to anything.: I'm rea...</td>\n",
              "      <td>509</td>\n",
              "    </tr>\n",
              "    <tr>\n",
              "      <th>2</th>\n",
              "      <td>1</td>\n",
              "      <td>Amazing!: This soundtrack is my favorite music...</td>\n",
              "      <td>760</td>\n",
              "    </tr>\n",
              "    <tr>\n",
              "      <th>3</th>\n",
              "      <td>1</td>\n",
              "      <td>Excellent Soundtrack: I truly like this soundt...</td>\n",
              "      <td>743</td>\n",
              "    </tr>\n",
              "    <tr>\n",
              "      <th>4</th>\n",
              "      <td>1</td>\n",
              "      <td>Remember, Pull Your Jaw Off The Floor After He...</td>\n",
              "      <td>481</td>\n",
              "    </tr>\n",
              "  </tbody>\n",
              "</table>\n",
              "</div>\n",
              "    <div class=\"colab-df-buttons\">\n",
              "\n",
              "  <div class=\"colab-df-container\">\n",
              "    <button class=\"colab-df-convert\" onclick=\"convertToInteractive('df-0e1eb049-3c4a-4c22-8f3b-952a53ec0334')\"\n",
              "            title=\"Convert this dataframe to an interactive table.\"\n",
              "            style=\"display:none;\">\n",
              "\n",
              "  <svg xmlns=\"http://www.w3.org/2000/svg\" height=\"24px\" viewBox=\"0 -960 960 960\">\n",
              "    <path d=\"M120-120v-720h720v720H120Zm60-500h600v-160H180v160Zm220 220h160v-160H400v160Zm0 220h160v-160H400v160ZM180-400h160v-160H180v160Zm440 0h160v-160H620v160ZM180-180h160v-160H180v160Zm440 0h160v-160H620v160Z\"/>\n",
              "  </svg>\n",
              "    </button>\n",
              "\n",
              "  <style>\n",
              "    .colab-df-container {\n",
              "      display:flex;\n",
              "      gap: 12px;\n",
              "    }\n",
              "\n",
              "    .colab-df-convert {\n",
              "      background-color: #E8F0FE;\n",
              "      border: none;\n",
              "      border-radius: 50%;\n",
              "      cursor: pointer;\n",
              "      display: none;\n",
              "      fill: #1967D2;\n",
              "      height: 32px;\n",
              "      padding: 0 0 0 0;\n",
              "      width: 32px;\n",
              "    }\n",
              "\n",
              "    .colab-df-convert:hover {\n",
              "      background-color: #E2EBFA;\n",
              "      box-shadow: 0px 1px 2px rgba(60, 64, 67, 0.3), 0px 1px 3px 1px rgba(60, 64, 67, 0.15);\n",
              "      fill: #174EA6;\n",
              "    }\n",
              "\n",
              "    .colab-df-buttons div {\n",
              "      margin-bottom: 4px;\n",
              "    }\n",
              "\n",
              "    [theme=dark] .colab-df-convert {\n",
              "      background-color: #3B4455;\n",
              "      fill: #D2E3FC;\n",
              "    }\n",
              "\n",
              "    [theme=dark] .colab-df-convert:hover {\n",
              "      background-color: #434B5C;\n",
              "      box-shadow: 0px 1px 3px 1px rgba(0, 0, 0, 0.15);\n",
              "      filter: drop-shadow(0px 1px 2px rgba(0, 0, 0, 0.3));\n",
              "      fill: #FFFFFF;\n",
              "    }\n",
              "  </style>\n",
              "\n",
              "    <script>\n",
              "      const buttonEl =\n",
              "        document.querySelector('#df-0e1eb049-3c4a-4c22-8f3b-952a53ec0334 button.colab-df-convert');\n",
              "      buttonEl.style.display =\n",
              "        google.colab.kernel.accessAllowed ? 'block' : 'none';\n",
              "\n",
              "      async function convertToInteractive(key) {\n",
              "        const element = document.querySelector('#df-0e1eb049-3c4a-4c22-8f3b-952a53ec0334');\n",
              "        const dataTable =\n",
              "          await google.colab.kernel.invokeFunction('convertToInteractive',\n",
              "                                                    [key], {});\n",
              "        if (!dataTable) return;\n",
              "\n",
              "        const docLinkHtml = 'Like what you see? Visit the ' +\n",
              "          '<a target=\"_blank\" href=https://colab.research.google.com/notebooks/data_table.ipynb>data table notebook</a>'\n",
              "          + ' to learn more about interactive tables.';\n",
              "        element.innerHTML = '';\n",
              "        dataTable['output_type'] = 'display_data';\n",
              "        await google.colab.output.renderOutput(dataTable, element);\n",
              "        const docLink = document.createElement('div');\n",
              "        docLink.innerHTML = docLinkHtml;\n",
              "        element.appendChild(docLink);\n",
              "      }\n",
              "    </script>\n",
              "  </div>\n",
              "\n",
              "\n",
              "<div id=\"df-73345d5e-485a-4068-91aa-8ec1c0d043b6\">\n",
              "  <button class=\"colab-df-quickchart\" onclick=\"quickchart('df-73345d5e-485a-4068-91aa-8ec1c0d043b6')\"\n",
              "            title=\"Suggest charts\"\n",
              "            style=\"display:none;\">\n",
              "\n",
              "<svg xmlns=\"http://www.w3.org/2000/svg\" height=\"24px\"viewBox=\"0 0 24 24\"\n",
              "     width=\"24px\">\n",
              "    <g>\n",
              "        <path d=\"M19 3H5c-1.1 0-2 .9-2 2v14c0 1.1.9 2 2 2h14c1.1 0 2-.9 2-2V5c0-1.1-.9-2-2-2zM9 17H7v-7h2v7zm4 0h-2V7h2v10zm4 0h-2v-4h2v4z\"/>\n",
              "    </g>\n",
              "</svg>\n",
              "  </button>\n",
              "\n",
              "<style>\n",
              "  .colab-df-quickchart {\n",
              "      --bg-color: #E8F0FE;\n",
              "      --fill-color: #1967D2;\n",
              "      --hover-bg-color: #E2EBFA;\n",
              "      --hover-fill-color: #174EA6;\n",
              "      --disabled-fill-color: #AAA;\n",
              "      --disabled-bg-color: #DDD;\n",
              "  }\n",
              "\n",
              "  [theme=dark] .colab-df-quickchart {\n",
              "      --bg-color: #3B4455;\n",
              "      --fill-color: #D2E3FC;\n",
              "      --hover-bg-color: #434B5C;\n",
              "      --hover-fill-color: #FFFFFF;\n",
              "      --disabled-bg-color: #3B4455;\n",
              "      --disabled-fill-color: #666;\n",
              "  }\n",
              "\n",
              "  .colab-df-quickchart {\n",
              "    background-color: var(--bg-color);\n",
              "    border: none;\n",
              "    border-radius: 50%;\n",
              "    cursor: pointer;\n",
              "    display: none;\n",
              "    fill: var(--fill-color);\n",
              "    height: 32px;\n",
              "    padding: 0;\n",
              "    width: 32px;\n",
              "  }\n",
              "\n",
              "  .colab-df-quickchart:hover {\n",
              "    background-color: var(--hover-bg-color);\n",
              "    box-shadow: 0 1px 2px rgba(60, 64, 67, 0.3), 0 1px 3px 1px rgba(60, 64, 67, 0.15);\n",
              "    fill: var(--button-hover-fill-color);\n",
              "  }\n",
              "\n",
              "  .colab-df-quickchart-complete:disabled,\n",
              "  .colab-df-quickchart-complete:disabled:hover {\n",
              "    background-color: var(--disabled-bg-color);\n",
              "    fill: var(--disabled-fill-color);\n",
              "    box-shadow: none;\n",
              "  }\n",
              "\n",
              "  .colab-df-spinner {\n",
              "    border: 2px solid var(--fill-color);\n",
              "    border-color: transparent;\n",
              "    border-bottom-color: var(--fill-color);\n",
              "    animation:\n",
              "      spin 1s steps(1) infinite;\n",
              "  }\n",
              "\n",
              "  @keyframes spin {\n",
              "    0% {\n",
              "      border-color: transparent;\n",
              "      border-bottom-color: var(--fill-color);\n",
              "      border-left-color: var(--fill-color);\n",
              "    }\n",
              "    20% {\n",
              "      border-color: transparent;\n",
              "      border-left-color: var(--fill-color);\n",
              "      border-top-color: var(--fill-color);\n",
              "    }\n",
              "    30% {\n",
              "      border-color: transparent;\n",
              "      border-left-color: var(--fill-color);\n",
              "      border-top-color: var(--fill-color);\n",
              "      border-right-color: var(--fill-color);\n",
              "    }\n",
              "    40% {\n",
              "      border-color: transparent;\n",
              "      border-right-color: var(--fill-color);\n",
              "      border-top-color: var(--fill-color);\n",
              "    }\n",
              "    60% {\n",
              "      border-color: transparent;\n",
              "      border-right-color: var(--fill-color);\n",
              "    }\n",
              "    80% {\n",
              "      border-color: transparent;\n",
              "      border-right-color: var(--fill-color);\n",
              "      border-bottom-color: var(--fill-color);\n",
              "    }\n",
              "    90% {\n",
              "      border-color: transparent;\n",
              "      border-bottom-color: var(--fill-color);\n",
              "    }\n",
              "  }\n",
              "</style>\n",
              "\n",
              "  <script>\n",
              "    async function quickchart(key) {\n",
              "      const quickchartButtonEl =\n",
              "        document.querySelector('#' + key + ' button');\n",
              "      quickchartButtonEl.disabled = true;  // To prevent multiple clicks.\n",
              "      quickchartButtonEl.classList.add('colab-df-spinner');\n",
              "      try {\n",
              "        const charts = await google.colab.kernel.invokeFunction(\n",
              "            'suggestCharts', [key], {});\n",
              "      } catch (error) {\n",
              "        console.error('Error during call to suggestCharts:', error);\n",
              "      }\n",
              "      quickchartButtonEl.classList.remove('colab-df-spinner');\n",
              "      quickchartButtonEl.classList.add('colab-df-quickchart-complete');\n",
              "    }\n",
              "    (() => {\n",
              "      let quickchartButtonEl =\n",
              "        document.querySelector('#df-73345d5e-485a-4068-91aa-8ec1c0d043b6 button');\n",
              "      quickchartButtonEl.style.display =\n",
              "        google.colab.kernel.accessAllowed ? 'block' : 'none';\n",
              "    })();\n",
              "  </script>\n",
              "</div>\n",
              "    </div>\n",
              "  </div>\n"
            ],
            "application/vnd.google.colaboratory.intrinsic+json": {
              "type": "dataframe",
              "variable_name": "dataset",
              "summary": "{\n  \"name\": \"dataset\",\n  \"rows\": 85797,\n  \"fields\": [\n    {\n      \"column\": \"label\",\n      \"properties\": {\n        \"dtype\": \"number\",\n        \"std\": 0,\n        \"min\": 0,\n        \"max\": 1,\n        \"num_unique_values\": 2,\n        \"samples\": [\n          0,\n          1\n        ],\n        \"semantic_type\": \"\",\n        \"description\": \"\"\n      }\n    },\n    {\n      \"column\": \"review\",\n      \"properties\": {\n        \"dtype\": \"string\",\n        \"num_unique_values\": 85797,\n        \"samples\": [\n          \"Wiccan \\\"Light\\\": I'm rating this the same as the Cottage Witchery book by the same author. I suppose it is nice for someone dabbling in Pagan faiths, very basic with some introduction. I thought it was a written a bit condescendingly and I have a problem with all of the rhyming spells. It is very distracting.\",\n          \"honky tonk hero!: Hank Williams should be an inspiration to any musician regardless of the sound their going for. Being a punk rocker, I found his style and substance more geniune than Sid and Darcy combined! I was so taken by it, I tattooed \\\"LOVESICK\\\" on my knuckles! The man's music moved me that much. Your never going to go wrong with any of his work, but this collection of songs has a special quality. I had heard his greatest hits, as I'm sure everyone else has, but to listen to Pan American, I'll Be A Bachelor 'Til I Die, and I Don't Care (If Tomorrow Never Comes), that's where I really grasped the heart of what Hank is and was! A musician with supreme talent; and like Miles with Jazz and Elvis with Rock n' Roll; Hank is the standard every honky tonker has to live up too! Truly one of the best albums I've ever bought, and the liner notes are pretty decent. (Great picture of him with his ride on the cover). Buy it with confidence. Enjoy!\"\n        ],\n        \"semantic_type\": \"\",\n        \"description\": \"\"\n      }\n    },\n    {\n      \"column\": \"Length\",\n      \"properties\": {\n        \"dtype\": \"number\",\n        \"std\": 240,\n        \"min\": 101,\n        \"max\": 1015,\n        \"num_unique_values\": 915,\n        \"samples\": [\n          827,\n          947\n        ],\n        \"semantic_type\": \"\",\n        \"description\": \"\"\n      }\n    }\n  ]\n}"
            }
          },
          "metadata": {},
          "execution_count": 16
        }
      ]
    },
    {
      "cell_type": "code",
      "source": [
        "# histogram\n",
        "dataset['Length'].plot(bins=100, kind='hist')"
      ],
      "metadata": {
        "colab": {
          "base_uri": "https://localhost:8080/",
          "height": 447
        },
        "id": "CGD9QzcSjuxl",
        "outputId": "910a9d29-dd4c-4273-9f30-adb4184e10e0"
      },
      "execution_count": null,
      "outputs": [
        {
          "output_type": "execute_result",
          "data": {
            "text/plain": [
              "<Axes: ylabel='Frequency'>"
            ]
          },
          "metadata": {},
          "execution_count": 17
        },
        {
          "output_type": "display_data",
          "data": {
            "text/plain": [
              "<Figure size 640x480 with 1 Axes>"
            ],
            "image/png": "[encoded data removed]"
          },
          "metadata": {}
        }
      ]
    },
    {
      "cell_type": "code",
      "source": [
        "dataset.Length.describe()"
      ],
      "metadata": {
        "colab": {
          "base_uri": "https://localhost:8080/"
        },
        "id": "2-yr9gsHjw18",
        "outputId": "8a77c7be-e021-41c5-a689-bd85b77a1ed0"
      },
      "execution_count": null,
      "outputs": [
        {
          "output_type": "execute_result",
          "data": {
            "text/plain": [
              "count    85797.000000\n",
              "mean       440.190426\n",
              "std        240.694252\n",
              "min        101.000000\n",
              "25%        236.000000\n",
              "50%        394.000000\n",
              "75%        609.000000\n",
              "max       1015.000000\n",
              "Name: Length, dtype: float64"
            ]
          },
          "metadata": {},
          "execution_count": 18
        }
      ]
    },
    {
      "cell_type": "code",
      "source": [
        "# Longest message\n",
        "dataset[dataset[\"Length\"] ==1015]['review'].iloc[0]"
      ],
      "metadata": {
        "colab": {
          "base_uri": "https://localhost:8080/",
          "height": 87
        },
        "id": "kzjciMBnjymp",
        "outputId": "f7a9f571-889e-43a0-f0b1-23ab6869056c"
      },
      "execution_count": null,
      "outputs": [
        {
          "output_type": "execute_result",
          "data": {
            "text/plain": [
              "\"Dry and Humorless: I totally disagree with the reviewer from Hongkong who must have been writing about some other book when she portrayed Infatuation as funny and sexy, with witty dialogues and hot passion. As it happens, most of the book is devoted to a character analysis of Judith. In a nut shell, Judith knows that she is an ugly duckling with incredible brain power. We don't see any real attraction developing between Luke and Judith until the last quarter of the book. And then when it does, the author's analysis of Judith is vindicated for she is accepted by Luke because of her brainy self rather than her looks. The most tragicomedical line of the book must be when Luke agrees with Judith that she is not beautiful. Disappointingly for me, just when I'm getting interested in the story in the last quarter of the book, the plot reaches its climax and comes to an end. The story is dry and tends to drag on. I must say that the writing is good as can be expected from Charlotte Lamb. I gave it two stars.\""
            ],
            "application/vnd.google.colaboratory.intrinsic+json": {
              "type": "string"
            }
          },
          "metadata": {},
          "execution_count": 19
        }
      ]
    },
    {
      "cell_type": "code",
      "source": [
        "# Shortest message\n",
        "dataset[dataset[\"Length\"] ==101]['review'].iloc[0]"
      ],
      "metadata": {
        "colab": {
          "base_uri": "https://localhost:8080/",
          "height": 35
        },
        "id": "Yb_dabuMj23j",
        "outputId": "f0d05049-dda5-48f0-f6ca-a57919638945"
      },
      "execution_count": null,
      "outputs": [
        {
          "output_type": "execute_result",
          "data": {
            "text/plain": [
              "'dont know!: the program looks fun but the software i recieved was corupt it wont load on any machine.'"
            ],
            "application/vnd.google.colaboratory.intrinsic+json": {
              "type": "string"
            }
          },
          "metadata": {},
          "execution_count": 20
        }
      ]
    },
    {
      "cell_type": "code",
      "source": [
        "positive = dataset[dataset['label'] ==1]"
      ],
      "metadata": {
        "id": "wP70WdCVj6LP"
      },
      "execution_count": null,
      "outputs": []
    },
    {
      "cell_type": "code",
      "source": [
        "negative = dataset[dataset['label'] ==0]"
      ],
      "metadata": {
        "id": "5vTTPndIkB4T"
      },
      "execution_count": null,
      "outputs": []
    },
    {
      "cell_type": "code",
      "source": [
        "positive"
      ],
      "metadata": {
        "colab": {
          "base_uri": "https://localhost:8080/",
          "height": 424
        },
        "id": "S8kS3ep_kEBg",
        "outputId": "58bc1939-176e-41b6-fbe1-d3671f4068c2"
      },
      "execution_count": null,
      "outputs": [
        {
          "output_type": "execute_result",
          "data": {
            "text/plain": [
              "       label                                             review  Length\n",
              "0          1  Stuning even for the non-gamer: This sound tra...     426\n",
              "1          1  The best soundtrack ever to anything.: I'm rea...     509\n",
              "2          1  Amazing!: This soundtrack is my favorite music...     760\n",
              "3          1  Excellent Soundtrack: I truly like this soundt...     743\n",
              "4          1  Remember, Pull Your Jaw Off The Floor After He...     481\n",
              "...      ...                                                ...     ...\n",
              "85784      1  Worked just great in Australia!: I was able to...     201\n",
              "85792      1  A Traveler's Dream: Another reviewer had said ...     423\n",
              "85793      1  Extremely Useful in India: I bought two of the...     741\n",
              "85794      1  An Easy-To-Use Adapter But With Limitations: T...     870\n",
              "85795      1  Worked for my UK External Hard Drive: I recent...     619\n",
              "\n",
              "[44038 rows x 3 columns]"
            ],
            "text/html": [
              "\n",
              "  <div id=\"df-b1672374-f059-4bb2-b7b2-e6f525395386\" class=\"colab-df-container\">\n",
              "    <div>\n",
              "<style scoped>\n",
              "    .dataframe tbody tr th:only-of-type {\n",
              "        vertical-align: middle;\n",
              "    }\n",
              "\n",
              "    .dataframe tbody tr th {\n",
              "        vertical-align: top;\n",
              "    }\n",
              "\n",
              "    .dataframe thead th {\n",
              "        text-align: right;\n",
              "    }\n",
              "</style>\n",
              "<table border=\"1\" class=\"dataframe\">\n",
              "  <thead>\n",
              "    <tr style=\"text-align: right;\">\n",
              "      <th></th>\n",
              "      <th>label</th>\n",
              "      <th>review</th>\n",
              "      <th>Length</th>\n",
              "    </tr>\n",
              "  </thead>\n",
              "  <tbody>\n",
              "    <tr>\n",
              "      <th>0</th>\n",
              "      <td>1</td>\n",
              "      <td>Stuning even for the non-gamer: This sound tra...</td>\n",
              "      <td>426</td>\n",
              "    </tr>\n",
              "    <tr>\n",
              "      <th>1</th>\n",
              "      <td>1</td>\n",
              "      <td>The best soundtrack ever to anything.: I'm rea...</td>\n",
              "      <td>509</td>\n",
              "    </tr>\n",
              "    <tr>\n",
              "      <th>2</th>\n",
              "      <td>1</td>\n",
              "      <td>Amazing!: This soundtrack is my favorite music...</td>\n",
              "      <td>760</td>\n",
              "    </tr>\n",
              "    <tr>\n",
              "      <th>3</th>\n",
              "      <td>1</td>\n",
              "      <td>Excellent Soundtrack: I truly like this soundt...</td>\n",
              "      <td>743</td>\n",
              "    </tr>\n",
              "    <tr>\n",
              "      <th>4</th>\n",
              "      <td>1</td>\n",
              "      <td>Remember, Pull Your Jaw Off The Floor After He...</td>\n",
              "      <td>481</td>\n",
              "    </tr>\n",
              "    <tr>\n",
              "      <th>...</th>\n",
              "      <td>...</td>\n",
              "      <td>...</td>\n",
              "      <td>...</td>\n",
              "    </tr>\n",
              "    <tr>\n",
              "      <th>85784</th>\n",
              "      <td>1</td>\n",
              "      <td>Worked just great in Australia!: I was able to...</td>\n",
              "      <td>201</td>\n",
              "    </tr>\n",
              "    <tr>\n",
              "      <th>85792</th>\n",
              "      <td>1</td>\n",
              "      <td>A Traveler's Dream: Another reviewer had said ...</td>\n",
              "      <td>423</td>\n",
              "    </tr>\n",
              "    <tr>\n",
              "      <th>85793</th>\n",
              "      <td>1</td>\n",
              "      <td>Extremely Useful in India: I bought two of the...</td>\n",
              "      <td>741</td>\n",
              "    </tr>\n",
              "    <tr>\n",
              "      <th>85794</th>\n",
              "      <td>1</td>\n",
              "      <td>An Easy-To-Use Adapter But With Limitations: T...</td>\n",
              "      <td>870</td>\n",
              "    </tr>\n",
              "    <tr>\n",
              "      <th>85795</th>\n",
              "      <td>1</td>\n",
              "      <td>Worked for my UK External Hard Drive: I recent...</td>\n",
              "      <td>619</td>\n",
              "    </tr>\n",
              "  </tbody>\n",
              "</table>\n",
              "<p>44038 rows × 3 columns</p>\n",
              "</div>\n",
              "    <div class=\"colab-df-buttons\">\n",
              "\n",
              "  <div class=\"colab-df-container\">\n",
              "    <button class=\"colab-df-convert\" onclick=\"convertToInteractive('df-b1672374-f059-4bb2-b7b2-e6f525395386')\"\n",
              "            title=\"Convert this dataframe to an interactive table.\"\n",
              "            style=\"display:none;\">\n",
              "\n",
              "  <svg xmlns=\"http://www.w3.org/2000/svg\" height=\"24px\" viewBox=\"0 -960 960 960\">\n",
              "    <path d=\"M120-120v-720h720v720H120Zm60-500h600v-160H180v160Zm220 220h160v-160H400v160Zm0 220h160v-160H400v160ZM180-400h160v-160H180v160Zm440 0h160v-160H620v160ZM180-180h160v-160H180v160Zm440 0h160v-160H620v160Z\"/>\n",
              "  </svg>\n",
              "    </button>\n",
              "\n",
              "  <style>\n",
              "    .colab-df-container {\n",
              "      display:flex;\n",
              "      gap: 12px;\n",
              "    }\n",
              "\n",
              "    .colab-df-convert {\n",
              "      background-color: #E8F0FE;\n",
              "      border: none;\n",
              "      border-radius: 50%;\n",
              "      cursor: pointer;\n",
              "      display: none;\n",
              "      fill: #1967D2;\n",
              "      height: 32px;\n",
              "      padding: 0 0 0 0;\n",
              "      width: 32px;\n",
              "    }\n",
              "\n",
              "    .colab-df-convert:hover {\n",
              "      background-color: #E2EBFA;\n",
              "      box-shadow: 0px 1px 2px rgba(60, 64, 67, 0.3), 0px 1px 3px 1px rgba(60, 64, 67, 0.15);\n",
              "      fill: #174EA6;\n",
              "    }\n",
              "\n",
              "    .colab-df-buttons div {\n",
              "      margin-bottom: 4px;\n",
              "    }\n",
              "\n",
              "    [theme=dark] .colab-df-convert {\n",
              "      background-color: #3B4455;\n",
              "      fill: #D2E3FC;\n",
              "    }\n",
              "\n",
              "    [theme=dark] .colab-df-convert:hover {\n",
              "      background-color: #434B5C;\n",
              "      box-shadow: 0px 1px 3px 1px rgba(0, 0, 0, 0.15);\n",
              "      filter: drop-shadow(0px 1px 2px rgba(0, 0, 0, 0.3));\n",
              "      fill: #FFFFFF;\n",
              "    }\n",
              "  </style>\n",
              "\n",
              "    <script>\n",
              "      const buttonEl =\n",
              "        document.querySelector('#df-b1672374-f059-4bb2-b7b2-e6f525395386 button.colab-df-convert');\n",
              "      buttonEl.style.display =\n",
              "        google.colab.kernel.accessAllowed ? 'block' : 'none';\n",
              "\n",
              "      async function convertToInteractive(key) {\n",
              "        const element = document.querySelector('#df-b1672374-f059-4bb2-b7b2-e6f525395386');\n",
              "        const dataTable =\n",
              "          await google.colab.kernel.invokeFunction('convertToInteractive',\n",
              "                                                    [key], {});\n",
              "        if (!dataTable) return;\n",
              "\n",
              "        const docLinkHtml = 'Like what you see? Visit the ' +\n",
              "          '<a target=\"_blank\" href=https://colab.research.google.com/notebooks/data_table.ipynb>data table notebook</a>'\n",
              "          + ' to learn more about interactive tables.';\n",
              "        element.innerHTML = '';\n",
              "        dataTable['output_type'] = 'display_data';\n",
              "        await google.colab.output.renderOutput(dataTable, element);\n",
              "        const docLink = document.createElement('div');\n",
              "        docLink.innerHTML = docLinkHtml;\n",
              "        element.appendChild(docLink);\n",
              "      }\n",
              "    </script>\n",
              "  </div>\n",
              "\n",
              "\n",
              "<div id=\"df-7d29458b-079a-4f47-9ba9-d8fc14f59f01\">\n",
              "  <button class=\"colab-df-quickchart\" onclick=\"quickchart('df-7d29458b-079a-4f47-9ba9-d8fc14f59f01')\"\n",
              "            title=\"Suggest charts\"\n",
              "            style=\"display:none;\">\n",
              "\n",
              "<svg xmlns=\"http://www.w3.org/2000/svg\" height=\"24px\"viewBox=\"0 0 24 24\"\n",
              "     width=\"24px\">\n",
              "    <g>\n",
              "        <path d=\"M19 3H5c-1.1 0-2 .9-2 2v14c0 1.1.9 2 2 2h14c1.1 0 2-.9 2-2V5c0-1.1-.9-2-2-2zM9 17H7v-7h2v7zm4 0h-2V7h2v10zm4 0h-2v-4h2v4z\"/>\n",
              "    </g>\n",
              "</svg>\n",
              "  </button>\n",
              "\n",
              "<style>\n",
              "  .colab-df-quickchart {\n",
              "      --bg-color: #E8F0FE;\n",
              "      --fill-color: #1967D2;\n",
              "      --hover-bg-color: #E2EBFA;\n",
              "      --hover-fill-color: #174EA6;\n",
              "      --disabled-fill-color: #AAA;\n",
              "      --disabled-bg-color: #DDD;\n",
              "  }\n",
              "\n",
              "  [theme=dark] .colab-df-quickchart {\n",
              "      --bg-color: #3B4455;\n",
              "      --fill-color: #D2E3FC;\n",
              "      --hover-bg-color: #434B5C;\n",
              "      --hover-fill-color: #FFFFFF;\n",
              "      --disabled-bg-color: #3B4455;\n",
              "      --disabled-fill-color: #666;\n",
              "  }\n",
              "\n",
              "  .colab-df-quickchart {\n",
              "    background-color: var(--bg-color);\n",
              "    border: none;\n",
              "    border-radius: 50%;\n",
              "    cursor: pointer;\n",
              "    display: none;\n",
              "    fill: var(--fill-color);\n",
              "    height: 32px;\n",
              "    padding: 0;\n",
              "    width: 32px;\n",
              "  }\n",
              "\n",
              "  .colab-df-quickchart:hover {\n",
              "    background-color: var(--hover-bg-color);\n",
              "    box-shadow: 0 1px 2px rgba(60, 64, 67, 0.3), 0 1px 3px 1px rgba(60, 64, 67, 0.15);\n",
              "    fill: var(--button-hover-fill-color);\n",
              "  }\n",
              "\n",
              "  .colab-df-quickchart-complete:disabled,\n",
              "  .colab-df-quickchart-complete:disabled:hover {\n",
              "    background-color: var(--disabled-bg-color);\n",
              "    fill: var(--disabled-fill-color);\n",
              "    box-shadow: none;\n",
              "  }\n",
              "\n",
              "  .colab-df-spinner {\n",
              "    border: 2px solid var(--fill-color);\n",
              "    border-color: transparent;\n",
              "    border-bottom-color: var(--fill-color);\n",
              "    animation:\n",
              "      spin 1s steps(1) infinite;\n",
              "  }\n",
              "\n",
              "  @keyframes spin {\n",
              "    0% {\n",
              "      border-color: transparent;\n",
              "      border-bottom-color: var(--fill-color);\n",
              "      border-left-color: var(--fill-color);\n",
              "    }\n",
              "    20% {\n",
              "      border-color: transparent;\n",
              "      border-left-color: var(--fill-color);\n",
              "      border-top-color: var(--fill-color);\n",
              "    }\n",
              "    30% {\n",
              "      border-color: transparent;\n",
              "      border-left-color: var(--fill-color);\n",
              "      border-top-color: var(--fill-color);\n",
              "      border-right-color: var(--fill-color);\n",
              "    }\n",
              "    40% {\n",
              "      border-color: transparent;\n",
              "      border-right-color: var(--fill-color);\n",
              "      border-top-color: var(--fill-color);\n",
              "    }\n",
              "    60% {\n",
              "      border-color: transparent;\n",
              "      border-right-color: var(--fill-color);\n",
              "    }\n",
              "    80% {\n",
              "      border-color: transparent;\n",
              "      border-right-color: var(--fill-color);\n",
              "      border-bottom-color: var(--fill-color);\n",
              "    }\n",
              "    90% {\n",
              "      border-color: transparent;\n",
              "      border-bottom-color: var(--fill-color);\n",
              "    }\n",
              "  }\n",
              "</style>\n",
              "\n",
              "  <script>\n",
              "    async function quickchart(key) {\n",
              "      const quickchartButtonEl =\n",
              "        document.querySelector('#' + key + ' button');\n",
              "      quickchartButtonEl.disabled = true;  // To prevent multiple clicks.\n",
              "      quickchartButtonEl.classList.add('colab-df-spinner');\n",
              "      try {\n",
              "        const charts = await google.colab.kernel.invokeFunction(\n",
              "            'suggestCharts', [key], {});\n",
              "      } catch (error) {\n",
              "        console.error('Error during call to suggestCharts:', error);\n",
              "      }\n",
              "      quickchartButtonEl.classList.remove('colab-df-spinner');\n",
              "      quickchartButtonEl.classList.add('colab-df-quickchart-complete');\n",
              "    }\n",
              "    (() => {\n",
              "      let quickchartButtonEl =\n",
              "        document.querySelector('#df-7d29458b-079a-4f47-9ba9-d8fc14f59f01 button');\n",
              "      quickchartButtonEl.style.display =\n",
              "        google.colab.kernel.accessAllowed ? 'block' : 'none';\n",
              "    })();\n",
              "  </script>\n",
              "</div>\n",
              "    </div>\n",
              "  </div>\n"
            ],
            "application/vnd.google.colaboratory.intrinsic+json": {
              "type": "dataframe",
              "variable_name": "positive",
              "summary": "{\n  \"name\": \"positive\",\n  \"rows\": 44038,\n  \"fields\": [\n    {\n      \"column\": \"label\",\n      \"properties\": {\n        \"dtype\": \"number\",\n        \"std\": 0,\n        \"min\": 1,\n        \"max\": 1,\n        \"num_unique_values\": 1,\n        \"samples\": [\n          1\n        ],\n        \"semantic_type\": \"\",\n        \"description\": \"\"\n      }\n    },\n    {\n      \"column\": \"review\",\n      \"properties\": {\n        \"dtype\": \"string\",\n        \"num_unique_values\": 44038,\n        \"samples\": [\n          \"don't let them tell you you need to know russian.: all that stuff about how this book is \\\"inaccessible\\\" to americans is totally ridiculous. this is an incredibly accessible book -- almost on a par with catcher in the rye or something like that for accessibility. it's a hilarious, incredible fable that ANYONE can enjoy.ask anyone who's read it (who isn't trying to show off that they know russian.) this book will stay with you forever. totally fun and breathtaking.\"\n        ],\n        \"semantic_type\": \"\",\n        \"description\": \"\"\n      }\n    },\n    {\n      \"column\": \"Length\",\n      \"properties\": {\n        \"dtype\": \"number\",\n        \"std\": 242,\n        \"min\": 101,\n        \"max\": 1015,\n        \"num_unique_values\": 915,\n        \"samples\": [\n          137\n        ],\n        \"semantic_type\": \"\",\n        \"description\": \"\"\n      }\n    }\n  ]\n}"
            }
          },
          "metadata": {},
          "execution_count": 25
        }
      ]
    },
    {
      "cell_type": "code",
      "source": [
        "negative"
      ],
      "metadata": {
        "colab": {
          "base_uri": "https://localhost:8080/",
          "height": 424
        },
        "id": "qrZpjeIYkHYn",
        "outputId": "60217dc4-ea0a-469f-9813-f24e6cbe8282"
      },
      "execution_count": null,
      "outputs": [
        {
          "output_type": "execute_result",
          "data": {
            "text/plain": [
              "       label                                             review  Length\n",
              "6          0  Buyer beware: This is a self-published book, a...     738\n",
              "10         0  The Worst!: A complete waste of time. Typograp...     216\n",
              "13         0  Oh please: I guess you have to be a romance no...     492\n",
              "14         0  Awful beyond belief!: I feel I have to write t...     692\n",
              "15         0  Don't try to fool us with fake reviews.: It's ...     304\n",
              "...      ...                                                ...     ...\n",
              "85788      0  Low power only,: This adapter is very convenie...     249\n",
              "85789      0  did not work at all: I was hoping to do a lot ...     255\n",
              "85790      0  DOES NOT WORK WITH DELL LAPTOPS: I'm not sure ...     165\n",
              "85791      0  I literally can't use it: I bought my laptop i...     390\n",
              "85796      0  please explain how this device works with thre...     106\n",
              "\n",
              "[41759 rows x 3 columns]"
            ],
            "text/html": [
              "\n",
              "  <div id=\"df-5ac6a244-6b67-4425-8942-93e568779308\" class=\"colab-df-container\">\n",
              "    <div>\n",
              "<style scoped>\n",
              "    .dataframe tbody tr th:only-of-type {\n",
              "        vertical-align: middle;\n",
              "    }\n",
              "\n",
              "    .dataframe tbody tr th {\n",
              "        vertical-align: top;\n",
              "    }\n",
              "\n",
              "    .dataframe thead th {\n",
              "        text-align: right;\n",
              "    }\n",
              "</style>\n",
              "<table border=\"1\" class=\"dataframe\">\n",
              "  <thead>\n",
              "    <tr style=\"text-align: right;\">\n",
              "      <th></th>\n",
              "      <th>label</th>\n",
              "      <th>review</th>\n",
              "      <th>Length</th>\n",
              "    </tr>\n",
              "  </thead>\n",
              "  <tbody>\n",
              "    <tr>\n",
              "      <th>6</th>\n",
              "      <td>0</td>\n",
              "      <td>Buyer beware: This is a self-published book, a...</td>\n",
              "      <td>738</td>\n",
              "    </tr>\n",
              "    <tr>\n",
              "      <th>10</th>\n",
              "      <td>0</td>\n",
              "      <td>The Worst!: A complete waste of time. Typograp...</td>\n",
              "      <td>216</td>\n",
              "    </tr>\n",
              "    <tr>\n",
              "      <th>13</th>\n",
              "      <td>0</td>\n",
              "      <td>Oh please: I guess you have to be a romance no...</td>\n",
              "      <td>492</td>\n",
              "    </tr>\n",
              "    <tr>\n",
              "      <th>14</th>\n",
              "      <td>0</td>\n",
              "      <td>Awful beyond belief!: I feel I have to write t...</td>\n",
              "      <td>692</td>\n",
              "    </tr>\n",
              "    <tr>\n",
              "      <th>15</th>\n",
              "      <td>0</td>\n",
              "      <td>Don't try to fool us with fake reviews.: It's ...</td>\n",
              "      <td>304</td>\n",
              "    </tr>\n",
              "    <tr>\n",
              "      <th>...</th>\n",
              "      <td>...</td>\n",
              "      <td>...</td>\n",
              "      <td>...</td>\n",
              "    </tr>\n",
              "    <tr>\n",
              "      <th>85788</th>\n",
              "      <td>0</td>\n",
              "      <td>Low power only,: This adapter is very convenie...</td>\n",
              "      <td>249</td>\n",
              "    </tr>\n",
              "    <tr>\n",
              "      <th>85789</th>\n",
              "      <td>0</td>\n",
              "      <td>did not work at all: I was hoping to do a lot ...</td>\n",
              "      <td>255</td>\n",
              "    </tr>\n",
              "    <tr>\n",
              "      <th>85790</th>\n",
              "      <td>0</td>\n",
              "      <td>DOES NOT WORK WITH DELL LAPTOPS: I'm not sure ...</td>\n",
              "      <td>165</td>\n",
              "    </tr>\n",
              "    <tr>\n",
              "      <th>85791</th>\n",
              "      <td>0</td>\n",
              "      <td>I literally can't use it: I bought my laptop i...</td>\n",
              "      <td>390</td>\n",
              "    </tr>\n",
              "    <tr>\n",
              "      <th>85796</th>\n",
              "      <td>0</td>\n",
              "      <td>please explain how this device works with thre...</td>\n",
              "      <td>106</td>\n",
              "    </tr>\n",
              "  </tbody>\n",
              "</table>\n",
              "<p>41759 rows × 3 columns</p>\n",
              "</div>\n",
              "    <div class=\"colab-df-buttons\">\n",
              "\n",
              "  <div class=\"colab-df-container\">\n",
              "    <button class=\"colab-df-convert\" onclick=\"convertToInteractive('df-5ac6a244-6b67-4425-8942-93e568779308')\"\n",
              "            title=\"Convert this dataframe to an interactive table.\"\n",
              "            style=\"display:none;\">\n",
              "\n",
              "  <svg xmlns=\"http://www.w3.org/2000/svg\" height=\"24px\" viewBox=\"0 -960 960 960\">\n",
              "    <path d=\"M120-120v-720h720v720H120Zm60-500h600v-160H180v160Zm220 220h160v-160H400v160Zm0 220h160v-160H400v160ZM180-400h160v-160H180v160Zm440 0h160v-160H620v160ZM180-180h160v-160H180v160Zm440 0h160v-160H620v160Z\"/>\n",
              "  </svg>\n",
              "    </button>\n",
              "\n",
              "  <style>\n",
              "    .colab-df-container {\n",
              "      display:flex;\n",
              "      gap: 12px;\n",
              "    }\n",
              "\n",
              "    .colab-df-convert {\n",
              "      background-color: #E8F0FE;\n",
              "      border: none;\n",
              "      border-radius: 50%;\n",
              "      cursor: pointer;\n",
              "      display: none;\n",
              "      fill: #1967D2;\n",
              "      height: 32px;\n",
              "      padding: 0 0 0 0;\n",
              "      width: 32px;\n",
              "    }\n",
              "\n",
              "    .colab-df-convert:hover {\n",
              "      background-color: #E2EBFA;\n",
              "      box-shadow: 0px 1px 2px rgba(60, 64, 67, 0.3), 0px 1px 3px 1px rgba(60, 64, 67, 0.15);\n",
              "      fill: #174EA6;\n",
              "    }\n",
              "\n",
              "    .colab-df-buttons div {\n",
              "      margin-bottom: 4px;\n",
              "    }\n",
              "\n",
              "    [theme=dark] .colab-df-convert {\n",
              "      background-color: #3B4455;\n",
              "      fill: #D2E3FC;\n",
              "    }\n",
              "\n",
              "    [theme=dark] .colab-df-convert:hover {\n",
              "      background-color: #434B5C;\n",
              "      box-shadow: 0px 1px 3px 1px rgba(0, 0, 0, 0.15);\n",
              "      filter: drop-shadow(0px 1px 2px rgba(0, 0, 0, 0.3));\n",
              "      fill: #FFFFFF;\n",
              "    }\n",
              "  </style>\n",
              "\n",
              "    <script>\n",
              "      const buttonEl =\n",
              "        document.querySelector('#df-5ac6a244-6b67-4425-8942-93e568779308 button.colab-df-convert');\n",
              "      buttonEl.style.display =\n",
              "        google.colab.kernel.accessAllowed ? 'block' : 'none';\n",
              "\n",
              "      async function convertToInteractive(key) {\n",
              "        const element = document.querySelector('#df-5ac6a244-6b67-4425-8942-93e568779308');\n",
              "        const dataTable =\n",
              "          await google.colab.kernel.invokeFunction('convertToInteractive',\n",
              "                                                    [key], {});\n",
              "        if (!dataTable) return;\n",
              "\n",
              "        const docLinkHtml = 'Like what you see? Visit the ' +\n",
              "          '<a target=\"_blank\" href=https://colab.research.google.com/notebooks/data_table.ipynb>data table notebook</a>'\n",
              "          + ' to learn more about interactive tables.';\n",
              "        element.innerHTML = '';\n",
              "        dataTable['output_type'] = 'display_data';\n",
              "        await google.colab.output.renderOutput(dataTable, element);\n",
              "        const docLink = document.createElement('div');\n",
              "        docLink.innerHTML = docLinkHtml;\n",
              "        element.appendChild(docLink);\n",
              "      }\n",
              "    </script>\n",
              "  </div>\n",
              "\n",
              "\n",
              "<div id=\"df-d8759634-eb12-4989-8dec-657b16870762\">\n",
              "  <button class=\"colab-df-quickchart\" onclick=\"quickchart('df-d8759634-eb12-4989-8dec-657b16870762')\"\n",
              "            title=\"Suggest charts\"\n",
              "            style=\"display:none;\">\n",
              "\n",
              "<svg xmlns=\"http://www.w3.org/2000/svg\" height=\"24px\"viewBox=\"0 0 24 24\"\n",
              "     width=\"24px\">\n",
              "    <g>\n",
              "        <path d=\"M19 3H5c-1.1 0-2 .9-2 2v14c0 1.1.9 2 2 2h14c1.1 0 2-.9 2-2V5c0-1.1-.9-2-2-2zM9 17H7v-7h2v7zm4 0h-2V7h2v10zm4 0h-2v-4h2v4z\"/>\n",
              "    </g>\n",
              "</svg>\n",
              "  </button>\n",
              "\n",
              "<style>\n",
              "  .colab-df-quickchart {\n",
              "      --bg-color: #E8F0FE;\n",
              "      --fill-color: #1967D2;\n",
              "      --hover-bg-color: #E2EBFA;\n",
              "      --hover-fill-color: #174EA6;\n",
              "      --disabled-fill-color: #AAA;\n",
              "      --disabled-bg-color: #DDD;\n",
              "  }\n",
              "\n",
              "  [theme=dark] .colab-df-quickchart {\n",
              "      --bg-color: #3B4455;\n",
              "      --fill-color: #D2E3FC;\n",
              "      --hover-bg-color: #434B5C;\n",
              "      --hover-fill-color: #FFFFFF;\n",
              "      --disabled-bg-color: #3B4455;\n",
              "      --disabled-fill-color: #666;\n",
              "  }\n",
              "\n",
              "  .colab-df-quickchart {\n",
              "    background-color: var(--bg-color);\n",
              "    border: none;\n",
              "    border-radius: 50%;\n",
              "    cursor: pointer;\n",
              "    display: none;\n",
              "    fill: var(--fill-color);\n",
              "    height: 32px;\n",
              "    padding: 0;\n",
              "    width: 32px;\n",
              "  }\n",
              "\n",
              "  .colab-df-quickchart:hover {\n",
              "    background-color: var(--hover-bg-color);\n",
              "    box-shadow: 0 1px 2px rgba(60, 64, 67, 0.3), 0 1px 3px 1px rgba(60, 64, 67, 0.15);\n",
              "    fill: var(--button-hover-fill-color);\n",
              "  }\n",
              "\n",
              "  .colab-df-quickchart-complete:disabled,\n",
              "  .colab-df-quickchart-complete:disabled:hover {\n",
              "    background-color: var(--disabled-bg-color);\n",
              "    fill: var(--disabled-fill-color);\n",
              "    box-shadow: none;\n",
              "  }\n",
              "\n",
              "  .colab-df-spinner {\n",
              "    border: 2px solid var(--fill-color);\n",
              "    border-color: transparent;\n",
              "    border-bottom-color: var(--fill-color);\n",
              "    animation:\n",
              "      spin 1s steps(1) infinite;\n",
              "  }\n",
              "\n",
              "  @keyframes spin {\n",
              "    0% {\n",
              "      border-color: transparent;\n",
              "      border-bottom-color: var(--fill-color);\n",
              "      border-left-color: var(--fill-color);\n",
              "    }\n",
              "    20% {\n",
              "      border-color: transparent;\n",
              "      border-left-color: var(--fill-color);\n",
              "      border-top-color: var(--fill-color);\n",
              "    }\n",
              "    30% {\n",
              "      border-color: transparent;\n",
              "      border-left-color: var(--fill-color);\n",
              "      border-top-color: var(--fill-color);\n",
              "      border-right-color: var(--fill-color);\n",
              "    }\n",
              "    40% {\n",
              "      border-color: transparent;\n",
              "      border-right-color: var(--fill-color);\n",
              "      border-top-color: var(--fill-color);\n",
              "    }\n",
              "    60% {\n",
              "      border-color: transparent;\n",
              "      border-right-color: var(--fill-color);\n",
              "    }\n",
              "    80% {\n",
              "      border-color: transparent;\n",
              "      border-right-color: var(--fill-color);\n",
              "      border-bottom-color: var(--fill-color);\n",
              "    }\n",
              "    90% {\n",
              "      border-color: transparent;\n",
              "      border-bottom-color: var(--fill-color);\n",
              "    }\n",
              "  }\n",
              "</style>\n",
              "\n",
              "  <script>\n",
              "    async function quickchart(key) {\n",
              "      const quickchartButtonEl =\n",
              "        document.querySelector('#' + key + ' button');\n",
              "      quickchartButtonEl.disabled = true;  // To prevent multiple clicks.\n",
              "      quickchartButtonEl.classList.add('colab-df-spinner');\n",
              "      try {\n",
              "        const charts = await google.colab.kernel.invokeFunction(\n",
              "            'suggestCharts', [key], {});\n",
              "      } catch (error) {\n",
              "        console.error('Error during call to suggestCharts:', error);\n",
              "      }\n",
              "      quickchartButtonEl.classList.remove('colab-df-spinner');\n",
              "      quickchartButtonEl.classList.add('colab-df-quickchart-complete');\n",
              "    }\n",
              "    (() => {\n",
              "      let quickchartButtonEl =\n",
              "        document.querySelector('#df-d8759634-eb12-4989-8dec-657b16870762 button');\n",
              "      quickchartButtonEl.style.display =\n",
              "        google.colab.kernel.accessAllowed ? 'block' : 'none';\n",
              "    })();\n",
              "  </script>\n",
              "</div>\n",
              "    </div>\n",
              "  </div>\n"
            ],
            "application/vnd.google.colaboratory.intrinsic+json": {
              "type": "dataframe",
              "variable_name": "negative",
              "summary": "{\n  \"name\": \"negative\",\n  \"rows\": 41759,\n  \"fields\": [\n    {\n      \"column\": \"label\",\n      \"properties\": {\n        \"dtype\": \"number\",\n        \"std\": 0,\n        \"min\": 0,\n        \"max\": 0,\n        \"num_unique_values\": 1,\n        \"samples\": [\n          0\n        ],\n        \"semantic_type\": \"\",\n        \"description\": \"\"\n      }\n    },\n    {\n      \"column\": \"review\",\n      \"properties\": {\n        \"dtype\": \"string\",\n        \"num_unique_values\": 41759,\n        \"samples\": [\n          \"I wanted to slap all these people: Mostly annoying, whiney film about a J.D. Salinger-type character and his whiney, entitled, annoying little brat of a daughter. The eccentricities on display just got on my nerves. Will Ferrell is mildly amusing as a weirdo who lives with the crazy author. Nice indie rock soundtrack, though.\"\n        ],\n        \"semantic_type\": \"\",\n        \"description\": \"\"\n      }\n    },\n    {\n      \"column\": \"Length\",\n      \"properties\": {\n        \"dtype\": \"number\",\n        \"std\": 237,\n        \"min\": 101,\n        \"max\": 1015,\n        \"num_unique_values\": 915,\n        \"samples\": [\n          395\n        ],\n        \"semantic_type\": \"\",\n        \"description\": \"\"\n      }\n    }\n  ]\n}"
            }
          },
          "metadata": {},
          "execution_count": 26
        }
      ]
    },
    {
      "cell_type": "code",
      "source": [
        "import re\n",
        "import nltk\n",
        "nltk.download('stopwords')\n",
        "from nltk.corpus import stopwords\n",
        "from nltk.stem.porter import PorterStemmer"
      ],
      "metadata": {
        "colab": {
          "base_uri": "https://localhost:8080/"
        },
        "id": "veDwowtUkIHw",
        "outputId": "71182408-4fdc-4863-fa7d-d8379e2f8dc0"
      },
      "execution_count": null,
      "outputs": [
        {
          "output_type": "stream",
          "name": "stderr",
          "text": [
            "[nltk_data] Downloading package stopwords to /root/nltk_data...\n",
            "[nltk_data]   Unzipping corpora/stopwords.zip.\n"
          ]
        }
      ]
    },
    {
      "cell_type": "code",
      "source": [
        "corpus =[]\n",
        "\n",
        "for i in range(0, 1000):\n",
        "    review = re.sub('[^a-zA-Z]', ' ', dataset['review'][i])\n",
        "    review = review.lower()\n",
        "    review = review.split()\n",
        "\n",
        "    ps = PorterStemmer()\n",
        "    all_stopwords = stopwords.words('english')\n",
        "    all_stopwords.remove('not')\n",
        "    review = [ps.stem(word) for word in review if not word in set(all_stopwords)]\n",
        "    review = ' '.join(review)\n",
        "    corpus.append(review)"
      ],
      "metadata": {
        "id": "6M3BqYTDkPAI"
      },
      "execution_count": null,
      "outputs": []
    },
    {
      "cell_type": "code",
      "source": [
        "print(corpus)"
      ],
      "metadata": {
        "colab": {
          "base_uri": "https://localhost:8080/"
        },
        "id": "W9dY_NWAkdSQ",
        "outputId": "2760b71f-3156-4f57-dc99-d96e7d173af8"
      },
      "execution_count": null,
      "outputs": [
        {
          "output_type": "stream",
          "name": "stdout",
          "text": [
            "['stune even non gamer sound track beauti paint seneri mind well would recomend even peopl hate vid game music play game chrono cross game ever play best music back away crude keyboard take fresher step grate guitar soul orchestra would impress anyon care listen', 'best soundtrack ever anyth read lot review say best game soundtrack figur write review disagre bit opinino yasunori mitsuda ultim masterpiec music timeless listen year beauti simpli refus fade price tag pretti stagger must say go buy cd much money one feel would worth everi penni', 'amaz soundtrack favorit music time hand intens sad prison fate mean play game hope distant promis girl stole star import inspir person throughout teen year higher energi track like chrono cross time scar time dreamwatch chronomantiqu indefin remenisc chrono trigger absolut superb well soundtrack amaz music probabl best compos work heard xenogear soundtrack say sure even never play game would worth twice price buy wish could give star', 'excel soundtrack truli like soundtrack enjoy video game music play game music enjoy truli relax peac disk one favorit scar time life death forest illus fortress ancient dragon lost fragment drown valley disk two draggon galdorb home chronomantiqu prison fate gale girlfriend like zelbessdisk three best three garden god chronopoli fate jellyfish sea burn orphang dragon prayer tower star dragon god radic dreamer unsteal jewel overal excel soundtrack brought like video game music xander cross', 'rememb pull jaw floor hear play game know divin music everi singl song tell stori game good greatest song without doubt chrono cross time scar magic dreamer wind star sea radic dreamer unstolen jewel translat vari music perfect ask best yasunori mitsuda pour heart wrote paper', 'absolut masterpiec quit sure actual take time read play game least heard least track whether awar not mitsuda music contribut greatli mood everi singl minut whole game compos cd quit song exact count heart render impress remark soundtrack one assur not forget everyth everi listen fast pace energet danc tokag termina home slower haunt dragon god pure beauti compos time scar even fantast vocal radic dreamer one best videogam soundtrack sure mitsuda best ever', 'buyer bewar self publish book want know read paragraph star review must written ms haddon famili friend perhap imagin anyon read whole thing spent even book friend hyster read bit piec one anoth definit bad enough enter kind worst book contest believ amazon even sell kind thing mayb offer th grade term paper kill mockingbird book quit sure ms haddon never heard anyway unless mood send book someon joke stay far far away one', 'gloriou stori love whisper wick saint stori amaz pleasantli surpris chang book not normali someon romanc novel world rave book bought love brilliant stori true book wonder told friend read not typic romanc much not read book crime becuas miss heart warm stori', 'five star book finish read whisper wick saint fell love caract expect averag romanc read instead found one favorit book time thought could predict outcom shock writ descript heart broke julia felt instead distant reader lover romanc novel must read let cover fool book spectacular', 'whisper wick saint easi read book made want keep read not easi put left want read follow hope come soon use read lot gotten away book made want read enjoy', 'worst complet wast time typograph error poor grammar total pathet plot add absolut noth embarrass author disappoint actual paid book', 'great book great book could not put could not read fast enough boy book twist turn keep guess want know go happen next book make fall love heat also make angeri book make go throu sever emot quick read romanc someth want end day read night', 'great read thought book brilliant yet realist show error human love fact writer show love side god not reveng side love twist turn could not put also love glass castl', 'oh pleas guess romanc novel lover one not discern one other bewar absolut drivel figur troubl typo promin featur back cover first page book remov doubt wait mayb miss point quick read begin make clear intent churn heat prose satir purpos phew glad wast', 'aw beyond belief feel write keep other wast money book seem written th grader poor grammat skill age anoth review point misspel cover believ least one per chapter exampl mention twice lean hous distract poor write weak plot decid read pencil hand mark horribl grammar spell pleas wast money believ good review must written author rel not put much faith review', 'tri fool us fake review glaringli obviou glow review written person perhap author misspel poor sentenc structur featur book made veronica haddon think author', 'romant zen basebal comedi hear folk say make em like anymor might talk sea cool stori young cuban girl search iden stumbl coastal resort kitchen gig zen motorcycl mainten man three hyster italian chef latino firebal right hand pitcher play team sponsor resort owner often case find honest often comic alway emot interact sizzl roster player perfect mix special effect salsa sound flashback sea get big star', 'fashion compress stock dvt doctor requir wear compress stock wore ugli white ted hose yucki thick brown stock found jobst ultrash gave compress need look like regular pantyhos even though blood clot gone year still buy wear support stock make leg feel nice note problem rubber top roll thigh tri jobst adhes hate skin pull day bought inexpens garter belt work fine help keep stock roll', 'jobst ultrash thigh high excel product howev difficult get older peopl feel like full day workout get also day wear begin roll top creat deep ridg skin wear two difficulti could address would help', 'size recomend size chart not real size much smaller recomend chart tri put sheer guess not buy item internet better go store check', 'men ultrash model may ok sedentari type activ get around alot job consist found stock roll ankl not good solut go standard compress stock stock excel support stay give need pair also tore struggl pull time good riddanc bad invest', 'delici cooki mix thought funni bought product without know mix read header quickli thought packag cooki cooki mix guess notic sinc right titl first time ever tri bake cooki mix use conveni cooki dough buy wrap plastic log might bit surpris mix dough get messi extrem sticki howev cooki mix like lot flexibl ratio ingredi like add extra butter make bake cooki chewi also mix realli larg chocol chip love remov star addit natur flavor mix', 'anoth abysm digit copi rather scratch insect drop one random pixel combin muddi light vagu imag resolut probabl cue packag straight street corner bootleg dealer ever seen reason good condit film copi know defin visual film crystal clear light contrast black white surround countrysid old home scene set earli morn ground mist haze memori event bridg water bright clear immedi everyth dull dark cloud rememb timbr enunci captain command visual hard believ award win critic acclaim film best present youtub somewher dvd come standard mm public librari reel none appear amazon', 'fascin insight life modern japanes teen thoroughli enjoy rise son daughter know book look japanes societi point view young peopl pois parent age old japanes cultur restraint obedi commun peer adul western cultur true form new young japan seem creat intern blend ando famili demonstr beauti written book vignett privat live member famili steven wardel clearli talent young author adopt school famili four teen thu abl view famili life japan insid great read', 'like album thought would heard song two thought listen song like blue angel lanna mama hair rose neck roy trulli amaz singer talent find much day', 'problem charg smaller aaa charger two year charg aa batteri fine huge problem secur smaller aaa batteri charg smaller batteri need flip littl button posit end begin one four aaa batteri would pop three four hold problem flip mechan becam loos horizont pressur would push button back use duct tape segment crayon appli crayon button wrap tape around know pain', 'work not advertis bought one charger instruct say light stay batteri charg true instruct dont say light turn done also true hour charg light stay return think bad unit new one thing kept sinc charg light useless sinc seem alway stay backup charger manag drain aa want charger', 'disappoint read review made purchas disappoint charger conveni charg four batteri charg last short time go find batteri give longer life kodak nimh aa batteri', 'oh dear excit find book ostens muslim femin volum not live expect one essay among thing describ veil potenti liber begin explain anoth muslim women cape town claim muslim women separ equal gee whiz disappoint expect hope least one muslim feminist condemn gender apartheid not singl one book surpris essay extol virtu femal genit mutil alyssa lappen', 'base review bought one glad vcr dvd earli christma present decid join rest world dvd land not want let go vh movi quit yet base review price jvc tv choic agre easi set bit awkward work whole tv vh dvd select option think gotten hang two comment not intuit actual pretti complic mani button remot might pleas other technic mind reli heavili manual set vcr timer awkward enter start end time scroll unless miss someth complaint good product', 'incorrect disc big jvc fan not like model suspisci saw sever unit return section store bought one anyway new must say not happi unit send click receiv transit scene not alway smooth like littl paus still fairli new get dvd cd even dvd headclean work get incorrect disc messag', 'happi jvc nut jvc televis one vcr one bookshelf audio system car audio system came time move vcr player boy room get anoth one old man knew make go decid combo player think vh go around much longer like combo player except thing cabl box compat remot control seper audio video input input coax cabl cabl box cabl program mono wife tell differ sound happi live vcr dvd look sound great', 'titl hollywood debacl plot ridicul wonder even read script make film mountain lion break trailer car behind notic mountain lion captur put jail cell get real utterli complet stupid', 'great tv bet hotel babylon not good tv great tv show featur incred act tamzin outhwait formerli eastend bbc soap max beesley ill fate movi glitter star mariah carey show could make great drama seri felt mix drama comedi soap opera mix great bbc show show air bbc america get around see say got dvd set episod great season final interest watch show remind hotel air abc reason hotel set fiction san francisco hotel hotel babylon set luxuri five star hotel england recommend dvd anyon will watch great show bbc', 'noth alreadi know even casual look appli law school alreadi read everyth book not wast money serious', 'unfortun entertain least bit first order cd figur go hip cool daddi vibe cd howev much dismay sound like fourth grade music class main jist cd xylaphon play peopl voic tri replic happen parti believ play cd parti anywher neighborhood would get laugh beach grow surfer san diego would not recommend cd southern california brother honestli play kinda felt bad b movi absolutl epitimi cd last vibe surf cha cha surfer cha', 'rochel explain wonder hell happen moral aspect modern american cultur book lucid well argu explan simpl fact becom total focus individu right complet ignor even mock person public respons final respons indict robert ringer best seller look great time anyon disgust boorish state american media polit discours gener clear head substanti challeng lie us not american human be great book', 'great play larri work muse label late earli found explor rich catalog jazz standard probabl grew play surround best musician around larri sound relax focus total control listen larri take funni valentin tell stand right chet baker mile fine album enjoy', 'work mac clearli say line work mac os system disk come not window not order mac', 'frustrat three year old son excit get two attempt play touch sinc not abl use mous game except power segment instead use arrow keyboard hard not much fun disapoint game wish could return', 'mind numb game make thing never hold son attent long enough get next level choic game everi thing order anoth rescu hero game boy love one dog', 'cannot recommend former alaskan want repeatedli attempt allman recip throw cup flour miscellan ingredi nearli everi time compar ed wood recip work flawlessli lisa rayner excel wild bread hand bake sourdough artisan bread kitchen help notic recip work allman fail not novic baker thing work reliabl pancak recip found place well look reliabl recip concis inform start sourdough maintain recommend ed wood book even old one lisa rayner written fabul tome wild bread pass book histor vignett interest not enough warrant cost book check librari must', 'alaska sourdough read book visit brother alaska love go make sourdough starter soon book full great stori recip', 'old good book worth keep collect not advis sourdough ruth also told pictur past year ago alaska stand mixer civil stuff kitchen pot sourdough', 'autumn got daughter nc make prefect bread wish live closer make', 'fast mp download music wax decad ago one song play background music youtub video kind gymnast danc feat russia hunt melodi read english lyric decid see els album download full album via amazon mp download happili listen melodi interspers ipod', 'mayb got bad one experi got fm not amazon dvd player rattl pretti loudli sometim not alway put dvd tri sever pictur qualiti great screen got horizont line thru middl short time would not go away plu one review dead remot layout make sens poor human engin imo brought back store refund saw model emerson name wm hesit buy', 'sylvania ldg flat panel lcd tv built dvd player light weight space save attract design sharp pictur good sound qualiti quick respons time dvd playback also excel neg remot control hard read function key due color choic placement key almost illog look care use almost seem like design imbecil qualiti featur price still make tv excel buy', 'terribl not buy bought wife birthday toreturn dvd palyer would not work return got repalc dvd player fail work piec junk', 'bewar tv set not capabl recal function want flash back channel tv not go give remot control come tv recal function bought soni univers much better remot recal button howev soon learn tv set factori not capabl flash back may not big deal user found annoy', 'kitchen tv bought replac tube tv kitchen gain larger screen plu relcaim counter space pictur good intern dvd player bonu good purchas', 'nice money first one bought defect dvd work purchas electron express contact wonder gave rma number right away fedex pick next day new one arriv week later one fine realli love clariti pictur complaint dvd mode sound loud enough rv c run bare hear solv problem run audio jack tv input rv stereo speaker system lightweight easi move around store bonu rv remot great work fine video audio jack antenna input easi get dvd player great deal price', 'disappoint romanian book opinion bias take angl europ clean proper fail shed light rest understand tourist guid would anyon want tour countri forgotten time howev disappoint romanian book would never use refer seen travel guid outlin europ exclud romania precis detail dk seri left yet disappoint', 'great travel guid europ book reali great everybodi like travel europ combin good pictur illustr text perfect get good overal view import sight place citi countri europ also bit histor inform european alreadi travel bit still could find lot inspir interest place go thank lot eyewit travel great book', 'not best bought lone planet use lone planet book full pictur give info need also end buy indiv citi guid well one scratch surfac', 'good receiv defect book bought book move germani want get good overview countri europ could travel unfortun page greec not english look spanish sort print problem found rest book give good highlight countri', 'label memphi tn come reatard front cours wild kid jay reatard start eric oblivian label goner tender age jay still rock offend sensibl commun overdriven loud crackl guitar underlay jay southern croon howl energ amaz hate fill song write heard year', 'either star depend look either star depend look star sent feet od copper pipe star accept return star figur actual worth foot sinc take return figur sell make deal', 'hunt hard way thia gift husband love book arriv date told would', 'disappoint text ever think plate markedli inferior previou edit known ahead time would not purchas volum', 'homer mose extrem help gem complex subject second centuri religi author textual use anyon seriou period interel cultur book essenti complex detail cours must argu point buy ye unless want keep run back librari write thoroughli disagre review', 'poor qualiti screen arriv cardboard box pretti beat screen lightweight cheesi look finish worn across entir top screen knew solid brass expect someth least look decent distanc price paid', 'scrape across whole top purchas screen last week came notic scrape across top box came gigant plenti packag materi screen packag loos bottom howev sinc anoth smaller box think scrape begin not ship still decid whether go troubl exchang sinc anoth review said damag want risk get anoth damag realli need screen right damag nice screen', 'unknown africa expect music africa profesion produc white world understand lyric understand music mixtur salsa soukou fado alway african feel rithem soft almost bor voic oliv n goma fit pefectli music cd record franc pari hear profession work cd must hot lazi night greet arno amsterdam', 'live expect order shoe replac previou pair rip apart sole clark said not make shoe anymor order amazon sadli second pair rip place within month son sinc bought similar pair sperri seem hold much better', 'profound truli horribl narr style work famou founder biograph john mors arrog flippant frequent exagger carri tone amateur yanke historian high pass judgment southern statesman neither boston harvard graduat perhap consid penetr day realli repres noth opinion today research thin one must conclud mors wrote entir manuscript essenti memori littl refer primari secondari sourc expect historian fact mors wrote piec year ago rate one star', 'definit enjoy gift yr old daughter big barbi fan well love use comput still enjoy game complet hour worri first love music enjoy color vibrant seem user friendli also daughter not realli need help use start first time', 'even mommi fun one four year old daughter love everyth barbi love rapunzel movi game ton fun even year old love play togeth love decor room find gem even better play alon get time', 'great combin creativ adventur year old daughter addict game play love open song sing non stop get excit time complet room find gem love solv maze find princ stefan problem sing song much get head', 'rapunzel great game year old son year old daughter love like play would let much fun decor room mani choic keep play great game not would think barbi game would great fun', 'not expect daughter love movi year old took hour complet game absolut challeng littl interact essenti click screen make play scene program game play noth figur noth save money', 'barbi rapunzel cri child year old daughter current sob bedroom result rotten game spent hour game paint pretti pictur color flower halfway game program hung let us leav room click anywher els even exit game start back frozen one spot barbi disembodi voic urg us explor somewher els castl standard softwar troubleshoot reboot help vivendi game support site current disabl left weep frustrat child understand not fault game work hope incompet softwar program catch bug year old caught first time around mayb care problem long get buck want cri littl girl avoid game', 'barbi rapunzel creativ adventur purchas softwar year old granddaught love play much let play sometim alway like come plan purchas softwar program', 'use imagin year old daughter love softwar actual fight go paint pictur choos theme room game allow creativ use imagin decor room castl find miss gem princ crown give rapunzel power find princ stephan turn stone bring back life music anim best seen kid softwar seen bore adult not sometim like play without mani variat color scheme pattern never bore highli recommend girl age', 'not good ok rental game pretti excit nice realli creativ one kind bad thing one castl kid decor done whole castl basic either creat new usernam get anoth game like sister finish castl hour never even look game anymor nice game fun not realli worth much money', 'not os x mac classic neg game not work os x requir cd multipl comput slow tell daughter think lot access cd everytim new task view open sequenc without throw save game file task control hard not user friendli even adult crash time mous jumpi hard use posit task easi possibl use grand beauti three year enough patienc surviv multipl trial get work', 'bad deal order dvd receiv substitut never receiv dvd order importcd vendor contact not reciev feedback rate dvd never seen bother send back would cost orgin paid futur watch name person person buy thought good compani understand simpl mistak not get respons not good busine sens spend hundr dollar month amazon com build dvd collect guess care futur', 'smell divin second bottl sheer freesia love fragranc light delic sent beauti like summer day', 'disappoint perfum aw smell noth like freesia gift recipi not impress worst return', 'creepi wow peopl behind jealousi reveng door not open prepar find behind', 'audio option non exist movi better expect didnt expect non exist thai soundtrack option disc menu well state packag thai soundtrack not exist matter choos thai english english get except dub ridicul best dub titl sub par review cover first movi two may remain plastic never see insid dvd player shame sham purchas claim origin not disapoint offer tokyo shock', 'sooo jammin trill man jammin track suc pokey first offici record sh sooo real love product everyth real nice screw among last great suc record not say fallen downsiz much death screw pioneer sad true ya love tx rap gotta get somethin kickback blow big somethin jam ride underr right wish peopl would forget bullsh bet mtv check happen houston guess sadli almost late pat gone hawk gone screw moe pimp c big steve make sad regardless pokey still aliv make new music keep legaci aliv great place start classic record love man', 'dirti south probabl best southsid cd ever come pretti much everi song guest track late fat pat botani boy mr big steve chri ward h w k mani southsid cd alway', 'good book well written chronicl farm peopl live excel photo well kept look photo wife long enough shewa', 'voic farm copi book love wait til revis version come week', 'littl one maid israel bill harvey wonder gift make histori come aliv book book awaken sens wonder possiblil real relationship god follow faith one littl girl ancient time young girl age love book alway one love treasur real keeper', 'drew air book drew air pretti bad idea someon would wast time write boy draw air not read book', 'comfi warm run big like titl say warm comfi run size big wear loung not big deal', 'buyer bewar order cake topper june given estim ship date juli date came went cake topper contact seller twice respons file claim amazon end receiv cake topper juli howev not even one order seller refund money never contact apolog mishap never buy anyth seller look seller feedback not person done wrong buyer bewar', 'ariel litt mermaid pearl kit arriv quickli cute topper howev bought provid instruct listen review hope get topper not buy annoy ariel idea decor cake', 'instruct includ not trust seller promis item complet instruct addit pledg sweet grace email suppli list instruct sheet purchas readi ahead time receiv none plastic figurin bracelet boot amazon claim noth help contact seller got phone number manufactur let hope yield result meanwhil wish listen previou feedback unreli seller', 'soulwax ignor critic consum alik get soulwax around sinc releas rock debut defunct almo sound chock full radio hit got attent mani dj mash remix bootleg return full fledg band last year minut critc consum alik bare took notic album amaz write product sheer electro rock power hope nite version cheeki titl recal band like duran duran use releas nite version singl club garner sale attent soulwax song practic leap speaker grab neck turn head make move wait hear tiga upcom sexor debut', 'omg soulwax own wow like amaz album ever everi track rock special e talk nylipp love techo great job guysmusicchoic play whole album saturday night jam whole time go wow one thing not hous techno electron want none caus feel', 'slow dull classic style movi star slow dull classic style movi movi young jason bateman lead slow dull moment bad style music relief background music annoy kept minimum though attempt action suspens movi achiev neither suggest skip movi', 'thank releas love movi kid happi power decid releas final want see great movi', 'not worth time book wriiten horribl would never life recommend book stori lack mysteri not leav want figur culprit good thing none stori took ten twelv page', 'fun educ train shape peg win combin guarante make child parent happi good starter puzzl yr old rang', 'ludicr silli rememb get book faintli say alot opinion basic entertain lot odd idea theori book basic silli', 'artistri think deodato concert rich use real string band musician well appreci john tropea excel rendit guitar', 'caution track not origin version record version whether track remast not irrelev', 'textbook book ship quickli excel condit state easi transact would buy', 'great book histor romanc lover engag count life tess girl young age wash shore isl may memori life stay old caretak isl caretak dead young man colin macpherson wash shore colin take tess back castl help uncov past opposit know say opposit attract book one mani avon true romanc seri read everi book seri know like book love rest great book girl still romanc novel not call trashi romanc novel great novel fokr get romanc novel', 'ye got book expect much man wrong love book may not usual tie man long blond hair wear kilt author realli made colin enchant highland tess soft heroin sometim seem guillibl rememb part stori one favorit book seri', 'not best seri tess lindsay content sole occup remot island colin macpherson wash ashor life solitud get shaken tess alway told fear strang men reluctantli strike friendship colin soon tess discov famili forgotten courag leav island start new life begin book amus end decent middl big problem plot lose much believ mostli due poor character new charact introduc one side behavior lack reason even tess colin develop side track much way relationship seem awkward forc write improv toward end not enough save book unless heart set read book seri skip one', 'addon portabl cd drive disappoint perform disappoint perform seem underpow constantli tri read cd half time unsuccess go tri return amazon', 'uncomfort big pant way big look size larger incred stiff would uncomfort daughter wear day', 'authent first encount yoruba say cd realli help howev book short not particular certain aspect detail grammar nuanc someon never spoke yoruba anybodi ask clue leav lot question unansw howev hope yoruba textbook brighter note would like add book good job give littl insight yoruba peopl yoruba cultur gener would recommend good start book anyon want learn yoruba go wrong', 'not best agre cd much need help sinc would imposs pronnounc yoruba tone without help nativ speaker howev design book realli poor confus found sever speall mistak english yoruba grammar explan hard understand unfortun not mani teach yoruba book worth one least provid basic vocabulari pronounci skill', 'fit order dashmat specif vehicl not correct mat return origin one sent exact duplic wrong mat seem get correct one therefor sit box', 'need good memori play grandchildren teach us valu good memori challeng sometim miss obviou lot fun tic tac toe twist', 'kelli club pet parad hit daughter love year old daughter love game sing strike band clap hand kelli pet parad song around hous dress kelli kid train pet teach poni jump etc clean get anim readi parad paint eleph toe nail etc decor float get everyth readi show everyth accomplish along way watch special parad wonder cute game highli recommend mostli entir game instal laptop actual use inset mous still game one tough time polar bear catch fish game tricki move finger mous pad click time catch fish would much easier use regular mous', 'load fun year old year old realli enjoy game lot sever differ anim prepar parad get design float endless fun graphic anim color cute winner', 'easi fun yr old fun easi game keep freez reinstal done everyth know correct issu shame yr old realli like', 'hour fun year old purchas game year ago girl still love play lot activ love decor float watch parad', 'slip heel shoe complet satisfi manner order deliv shoe awesom advertis show', 'ddr cooool cd realli great not game not long verson though odd second clair also uk disappoint cd want get touch know get game song want assum cool song euromix nd rd mix game japan also us version avail', 'amaz order cd take abit get live england danc sang along arcad ive think great love danc favorit song feel navey also like captain jack love', 'got fool not know audio cd game thought could use playstat mayb guy us somewher actual easi get game play japanes not compat machin deepli disappoint love arcad game danc stage euromix danc danc revolut equival lack decent track mani jungl difficult danc also track unheard therefor not enjoy howev favourit keep move make jam video kill radio star get bit pedant keep play track anyon situat lucki enough play newest version pleas let know order one danc depriv boredom', 'got fool not know audio cd game thought could use playstat mayb guy us somewher actual easi get game play japanes not compat machin deepli disappoint love arcad game danc stage euromix danc danc revolut equival lack decent track mani jungl difficult danc also track unheard therefor not enjoy anyon situat lucki enough play newest version pleas let know order one danc depriv boredom', 'letter admit bought album titl track alon good track cd still would felt worth money titl track begin fine countri offer john michael montgomeri found listen enjoy everi track letter home montgomeri smoother silk voic one finest countri music today straight forward approach music come everi note want miss one horseman', 'worth wait jmm never releas bad album mani would say comeback album everi coupl year releas album great hit reason radio play great song latest album goe good beer littl devil would great singl spice countri radio letter home deserv singl year cool not far behind listen album love', 'letter home like letter home cuz tell stori realli listen acctual hear john michael montgomeri tell stori soldier stuffi like like punk rock rock must good like', 'good gave star littl dog much fun ripe apart took hr buy hr longer ball', 'est libro contien todo lo que pens que interesaba saber sobr el box su campeon pero cautivo lo lei hasta el final ahora si puedo discutir de box con mi esposo mi cu ado hasta con mi suegro que es ex boxeador', 'oh cereal sweet yet good one tast addict tri cereal curious hook excel breakfast choic time eat especi breakfast crave honey tast hungri later probabl much eat actual sweeter better honey bunch oat cap n crunch berri option splendid cereal fill honey fill tast not tri much better tast cereal oh', 'delici addict cereal great tast good crave word warn read label last time husband look satur fat cereal cabinet not hmmmm anoth review notic problem also amazon price outrag store', 'oh oh oh gone realli distraught go local walmart see stop carri favorit cereal elat find site everyth includ church made avail pack oh amaz cereal one thing dont like box small get mayb bowl entir box', 'one kind book timber frame build husband love book said learn much best book learn build timber frame hous', 'technic inform book great view joint use build inform beam span load actual build build', 'hanford mill museum friend master carpent saw book recent trip hanford mill museum avid reader love book much inclin read well enjoy', 'not abl buil timber frame hous book vagu breez across histori went variou type timber structur mortis tenon joint illustr fascin not practic home builder', 'outstand guidebook build timberfram home wife built hybrid timber frame home use book guid although construct skill book invalu guid us process wait build anoth highli recommend book anyon consid timber frame hous', 'excel book poor e book edit yet anoth exampl superb book done seriou disservic e book publish multipl spell error improperli place figur caption whole section book written cap reason look excel refer tradit timber frame look pleas pick print version instead e book', 'good manual expect book full glossi sharp pictur not one buy lot draw bw pictur inform need good manual want ventur timber frame project', 'poor instruct figur kinda cool wrap not anyth place hot water search internet found other problem instruct poor first need dip boil water least temperatur level would call hot second instruct describ happen imag shrink around egg transfer needless say frustrat minut two wife intellig great kitchen immedi thought well hot water much chang properti plastic let tri boil water noth lose explicit instruct use star war version product', 'great graphic coast coast pc great graphic awesom game hope lot', 'dont run get outrun unless outrun biggest disappoint holiday come home life might enjoy read review buy sink arcad style meant addict follow colin macrea ralli thought race ferrari across us would cool wrong game car race space invad battlefield landscap move instead car idiot stage like impress girlfriend mani slide total rubbish not anyon fault mine live ireland got ship florida costli mistak', 'henri henri back rememb nose sinc chew well love long gone thought one ever henri sinc nobodi knew talk believ found nobodi replac origin worn henri excit clone back', 'henri come home henri back earli forti still origin bought new one dad ill knew would get signific henri got insecur child hope dad battl termin cancer thank make', 'charisma henri dog daughter gave henri love not word obsess year later ex wife decid go guis incur lice infect ex wife threw trauma follow bought replac daughter safe closet shelf thread bare found onlin overwhelm read review amazon com none less star stori told littl guy touch live henri owner girl boy cherish real dog guess daddi buy littl year old daughter new one got phone open box henri home granddaught saw henri got excit want one also year old compani bottl henri dog charisma thank keep aliv', 'found henri dog two henri dog one lost ride walt disney world second replac idea henri got found friend toy time six year old almost year ago think see around christma time sweeet toy realli good children age', 'contemporari fairytal sure delight book take classic snow white fairytal grown up class act charact rich reward love stori thoroughli enjoy read look forward ms sinclair work', 'not pattern detail sketch although excit purchas book excit last look sketch pictur book call pictur truli not actual pattern norma gregori talent show well design due complic render difficult transfer book not beginn season artisan look pattern like disappoint book', 'great gift brother law thrill clariti instruct commentswil look titl', 'product match pictur descript unless sent wrong product mistak foot cushion pictur descript not match item deliv impress would receiv two pair water fill foot cushion could insert shoe instead receiv one foot cushion fill anoth materi not water attach foot via toe strap defin not happi item sent back refund luckili amazon great return polici make return easi', 'good laugh heard book want read see funni stupid unintent heard not disappoint thing life free sex defint not among perfect coda book coupl got divroc sever year publish book make stuff', 'bad product possibl broadway theatr archiv product took one wittiest sparkl th centuri comedi ruin costum intent absurd think beach blanket babylon act way top camp incident music could not wors music btw combin pop renaiss pop modern anyth th centuri director appear goal show compani hip modern anyth make fun silli fusti old play like school scandal much not found dvd start intent keep record even bad product got extend bop bop drink song scene knew ever sit one visual also blurri product bad anyon actual like play revolt dvd', 'not profession qualiti first tri buy tape marketplac seller sent back tape qualiti poor packag look unprofession return bought one amazon proper qualiti tape packag sinc sure not bootleg tape say video better other', 'three four star depend classic draw room comedi period piec cleverli written time audienc need bit nudg figur charact person name describ feel charm idea never chanc see one comedi take look famou play well done must see theatr student', 'good song bad cover cd compil set purchas love chose great song song not perform origin artist instead poorli cover starlit singer', 'new wave read prior review record buy although appear collect new wave singl cover version sung starlit singer descript record say variou artist impli origin artist not true total garbag one bright spot got prompt refund return', 'fool bought set last novemb decid listen cd nowher descript amazon say not origin artist fact say variou artist deceiv one group perform song lead one believ origin artist say variou artist compil music variou artist duh wast money probabl throw trash purist want origin not wed recept music', 'buyer bewar one cheesi compil find session band similar sound artist sing song not origin song artist love k tel cd care hear artist origin care cheap sound synthes play music fact vocalist pretti bad might like cd fan amaz music produc buy collect wast money schlock', 'soni basic hi handycam rock perform outstand previou soni mm handycam die replac camera could continu playback old mm tape camera perform faster simpler use old soni everyth need well got great deal', 'bewar bought camera christma open first could film night parti tape includ cours store close christma day thing useless day shame soni much would tape includ packac cost not includ batteri charger', 'high tech rock emot although mr hine work high qualiti wave not drown highlight project song curiou kind simpli masterpiec remast qualiti come expect one rock greatest produc song writer perform get', 'never get go book never realli seem get go much time spent courtroom basic question crime suspect defend left unask page realiz book go pick reveal crucial inform make sens thing end result whole stori rap quickli unbeliev way left wonder one could figur anyth earlier base end detect attorney appear rather incompet enjoy part book howev think plot need unfold differ rate not slow begin not fast end mcbain fan think book better written', 'rest stori knew someth miss first book read match heard say year ago came church speak know abus difficult talk even wrote book later help trust friend abl tell difficult abus part childhood experi second book wonder thing dori abl forgiv abus move life still abl success happi life spite horrend abus childhood mani women need hear lord help possibl', 'basebal benchmark refer basebal america cardin gm walt jocketti said contradict best columnist game peter gammon traci ringolsbi jayson stark detail inform basebal major leagu japan stat score best extens resourc prospect inform not singl seriou fan basebal deserv titl not basebal america subscrib got read want know star tomorrow tomorrow year month top prospect everi team till massiv top list basebal america cover know subscrib year think live without', 'perfect die hard basebal fan read basebal america year final took plung got subscript best place get coverag minor colleg high school basebal know top prospect other', 'uh oh use brand x embarass steer clear one folk thought guy last real fusion type sinc last great secret fusion world start take pointer joe satriani listen old al dimeola pratic session hell phil need oh ye tarzan star bruford wild bonu track well one realli want', 'intrigu book influenc destini read troubl titan around apollo program apex human explor solar system seem short step away review base old memori still rememb mine coloni titan jet craft use oxygen fuel burn titan methan atmospher learn much sinc book written titan atmospher less methan origin thought howev book well written sure intrigu son much intrigu father work nasa cassini huygen mission saturn titan book old style sci fi flavor made anoth world seem like realiti fantasi think enjoy lucki starr david starr stori asimov enjoy troubl titan', 'peek fun got gift one year old love tri hard get littl thing block obvious fail love move jiggl make nois almost adventur three year old also love incorpor alphabet easili identifi item insid b banana p penguin u umbrella z zebra bonu get frustrat pri item block matter hard tri usual fling tend use build wall tower sole purpos smash anoth toy drop high place step two alreadi seem toler treatment rather well', 'excel product alphabet block beauti could class work art collector item purchas two sey gift probabl buy', 'great twin purchas alphabet block twin daughter month old love product great learn tool year come great teeth toy would recommend anyon plu love fisher price', 'block keep mind got see incrediblock fp catalog littl pizazz block featur spin like letter q queen w watermelon seed rattl look type block mind ye like product block meant stack knock bang son love sinc month better plain wooden block textur object insid letter lot opportun learn letter color object descript etc stack bang knock around readi learn word color object anim review profound eye open block keep mind make purchas decis not make child overnight rocket scientist', 'would expect better bought two reason block educ letter howev letter rub price paid dissapoint love concept object insid fun', 'cute gift littl babi although felt look bit chinsi mother wish list happi receiv', 'great block daughter love block get look one find favorit like shake see one cute littl block hour imagin playtim insid also blunt corner sharp edg like wood block safeti smaller children fact letter alphabet correspond object insid make great learn tool even older tot realli enjoy recommend friend', 'awesum best block ever toy grandson favorit find newest grandchild thank good onlin shop', 'keep attent littl boy get interest block cute learn manipul block hand littl thing insid block ador spin twirl rock defin upgrad standard wooden block', 'great valu set incorpor lot favorit set packag z learn format leari purchas mani block storag reason zipper case great bonu definit worth everi penni', 'wonder not worth great block definit not worth list purchs mani place', 'worth invest great set block research differ block time found durabl age development appropri highli educ buck may seem like lot think well worth impress qualiti size shape block right son month old abl hold block perfectli littl hand plu block not sharp corner like wooden block also avail site could hurt littl one especi chewer one categori rate toy instead fun factor younger babi may not get yet toy may not fun littl bit older son not yet abl fulli comprehend even toy insid block month give coupl month realli dig', 'wast money not waterproof garbag batteri go broke tri adj not buy turn end control loosen batteri cover water get waterproff', 'california exot waterproof delight blue ballsi california exot waterproof delight blue ballsi spice relationship work sinc begin half like', 'small work small compar thought would even work got', 'make fascin read whale naturalist anim commun mari getten goe beyond research achiev way whale studi commun process studi j pod famili whale washington state content use direct telepath commun human also make fascin read dian c donovancalifornia bookwatch', 'pretti nifti purchas halloween parti like dummi forgot put nevertheless hold around hous search good place hang pretti big look realli cool say littl bit educ valu teach children actual pictur depict even though forgot hang realli like scene setter use next year', 'yet anoth unsubstanti case believ discrimin certainli believ book unsubstanti smear campaign ralli troup higher ed claw preserv academ freedom ralli fall flat', 'molli myer molli myer review name rachel corri describ ism organ dedic non violenc radic left wing propaganda ism offic regularli use hide terrorist weapon ism pacifist regularli throw rock idf soldier perfectli will use violenc order sabotag wall intend keep innoc palestinian murder isra pleas disregard molli review bias extrem', 'garden lawn book four page book miss happen formula husband need fortun abl copi friend book hesit buy anoth book like', 'knock offici chrono trigger ost disc version major track audio qualiti good caveat emptor buyer bewar chines knock oh buy disc version make sure cover not green red logo read fx also counterfeit serial number real soundtrack cd pscn pscn pscn', 'hand track hear far complet though miss memor track seal door wing across time bottom night singl battl theme accept final boss hell even lucca theme cover seen track list beforehand bought blame self not curiou number cd sorri paid dollar american travesti may lavo merci soul save selv money still', 'ok watch watch last night rememb enough give indepth review bad peopl let great peopl let like killer supernatur bother guy come back dead whole storylin kinda silli plot hole place act bad neither death fact kinda gori make great movi flashback littl confus well watch far worst movi seen', 'love p stephen colletti hot initi bought movi stephen colletti love one lead realli expect much look low budget indi horror flick realli like lead girl play jennif nikki deloach realli good believ never seen anyth mayb know cool see guy weekend berni terri kiser realli good actor bad dead whole time movi saw lol anyway cool movi glad got', 'mask maker good horrifi never dull moment u watch not bore ir wonder good part come', 'mask maker like film everi horror like type movi suspens mysteri good bad time plu shock end make think stori plot good robert', 'not worst american b movi movi horror film thhat display effort steer clear typic horror movi dialogu pace blond girl girl trip tree root yard white girl fall twist knee movi guess not tree root', 'mask familiar mask maker take us cinemat path often travel typic predict fashion stori reveng unstopp killer murder victim use skin face achiev kind beauti flashback reveal motiv attempt elicit level sympathi mask maker worst entri familiar territori tread new water either cast perform variou level compet weekend berni terri kiser effect guilt ridden buffoon treat william ill use cameo role horror vet michael berryman unusu restrain small role nikki deloach jami lee curti lead role give weak perform typic survivor role resili resourc femal doom fianc stephen colletti sic equal flaccid open end final pave way mask maker ii someth definit need', 'unmask sadli absolut noth origin movi filmmak shamelessli borrow practic everyon turn stale formula piec pure number find thing elev movi like film plot standard group kid spend weekend old hous bad histori standard run mill maniac kill unimagin way cours one notic late everyth happen exactli cue order surpris fright movi safe bore realli better tri not even brief appear horror icon michael berryman play nice guy chang help dull script even titl misnom although origin titl maskerad better high hope one favorit genr', 'museum exhibit insid book book librari genealog section not allow take genealog book librari like enough sit librari read two sit quick read load pictur photo ghetto inhabit also pictur artifact ration card work certif yellow star etc like museum exhibit simpl book format think young peopl would abl get someth book although clearli written adult certainli probabl inform kovno kauna ghetto one place research ordinari person interest holocaust would enjoy bonu page diari ilya gerber print book read extract diari alexandra zaprud ssalvag page young writer diari holocaust', 'great resourc chines eastern medincin excel book refer fo eastern methodolog medicin heal unfortun long print get hand copi text not dissappoint fact unhappi happi purchas mani peer would happili use', 'good book someon practic chines medicin year san diego www bodymindwellnesscent com find book excel resourc anyon want dept primer theoret basi practic applic system medicin origin chines philosophi emphas natur balanc found natur agricultur', 'book worth second look book great inform easi read understand alot pictur would recommend book one want learn chines medicin', 'best game ever game make even amaz game like starcraft warcraft redund warhamm better anyon els truli great game total fun great combat graphic race unit pleasur play', 'guitar absentia due respect ambient music enthusiast realli disappoint guitar work whatsoev album hillag fan l fish rise forewarn steve hillag pretti darn good guitarist mayb l showcas member todd rundgren utopia back note review rate highli give anoth listen howev dissapoint direct steve taken music', 'stiff smell like dri paint get pay pillow stiff smell like dri paint day thought get non name brand version temperped pillow bought real pillow mother year ago paid mani time price thing even come close', 'review pillow joke send pillow back not come close advertis believ cardboard box arriv would softer head give one star post wish star could go neg', 'bother pillow tini poor qualiti foam pillow replac least year half old preform better one new', 'worthless cheap thing aw let count way first took unatur amount time get whatev happen feel super cheap handl good memori foam pillow feel heavi cushi hand thing feel like piec hard styrofoam bare squish memori simpli dens foam pillow not even realli pillow hard cant even use prop back whilst read top terribl return pollici make not worth return not buy use styrofoam new comput came ugh', 'not purchas anoth one work fine begin month use perform air would find sleep one hand pillow give leverag otherwis neck would end awkward posit time felt like need pillow lack width soft also rotat end side would lay head neck therefor not provid support need', 'fals advertis pillow receiv noth like one pictur pillow receiv approx half size thick one receiv not happi seller moshel never purchas compani ever current deploy militari feel compani disrespect not show militari member proper courtesi deal issu not buy pillow not satisfi', 'not like old formula formul product chang sinc artec bought l oreal new formula hold hair like old artec origin formula smell nice fool pictur pic old artec bottl order receiv new l oreal professionel version terribl origin artec version similar not sticki potion wish l oreal would go back old formula email effect never even repli anyon recommend similar product pleas comment review', 'found better yet product manag hair without make stiff sticki', 'smooth serum product wonder hair curli tend frizzi smooth get rid allof friz use day even damp weather', 'product receiv time like fake one use product mani year somehow product receiv time like fake one thin use doubl amount', 'broke fix use product year wonder year ago compani chang packag product chang slightli bottl taller someth miss serum work well use work not purchas item chang', 'review artec texturelin smooth serum order particular product trial substitut controlgel texturelin alway first choic appear controlgel product smooth serum poor substitut barber agre got controlgel year ago use buy extra bad consum lose wish controlgel product would come back barber buy smooth serum wast', 'love got local stop shop love leav hair soft smell good even tell product hair read lot review peopl say find anywher depend live tri local groceri store', 'best dick curless got beauti voic ever heard music rang thought provok toe tap beer drink music one best rendit winter come peopl appreci good music genr love cd not recommend highli enough', 'great control racquet great racquet anyon although better suit advanc player year play os version racquet notic power littl forgiv ms version point prefer ms version better control feel even princ graphit os ms still great racquet imo one best control racquet ever made', 'not buy wast money time daughter want month final gave bought excit got home play one hour hope someth differ better would happen game bore get choos music outfit three skater skate everyth els control automat game barbi everyth perfectli whether not daughter play sinc disapoint store bought let return open let exchang exact game hello problem game wast time money', 'bad skate techniqu buy game becuas tell pictur barbi bad skate techniqu see game not kid want fun see good skate program pictur amazon box pictur tell whether not barbi stroke bad spiral either leg high stroke bodi leg not right posit spiral layback although hard see look like barbi might spin toe pick split jump barbi not enough skate muscl jump also not kick boot pictur vugam maker game stroke barbi bodi crook weight stroke leg bodi lean side never seen anyon stroke like', 'complet wast daughter receiv cd christma slow load lot wait time thing happen final chose skater skate one choic work daughter kept ask could time watch barbi skate beauti not interact consid wast space comput wast time us use would recommend save money get someth worthwhil', 'year old bore week bought year old birthday think graphic realli great concept stink daughter told think bore love barbi last night even said hate least month old scream delight graphic older sister play', 'barbi bore ice show bought game figur skate fan found barbi gymnast well done thought would absolut wast money graphic aw game play far simplist noth strive game easi pass onto next level imagin child age get enjoy game', 'wast money barbi sunk new low worst cd rom game ever seen year old daughter long game christma season bore mind one hour slow skippi etc run new comput wast money like skip right dud', 'great review say product bore save money well daughter love get pick one three pretti girl skater pick one least costum somebodi said skater never fall that boloney fall plenti develop hand eye coordin fun fun game take great cd rom age fun pete sake world neg highli recommend barbi sparkl ice show', 'good game buy bought game daughter almost seven enjoy much work perfectli window xp like fact skill level help avoid frustrat factor sure read experienc reason not give quick complet especi easi medium level unless child total figur skate barbi feel game not crowd', 'great game daughter almost love game got week ago still play everi day upgrad system game crash sinc slow despit other said game lot level take lot practic master freestyl level skater lot differ trick user learn game even seem help daughter actual skate went yesterday first time sinc receiv game lot confid move smoothli time went', 'not realli want anybodi look movi lauren bacal not actual minut cb music video group call perfect gentleman titl ooh la la one chanc not rate video bother watch fact absolut inform amazon product detail could told featur film look order even piti fastest deliveri ever got us europ mail short live joy', 'rare find good book audi owner fan gener book dosen focu quattro surround model well not much technic book enthusiast read', 'fire truck puzzl fire truck puzzl arriv time state color well worth price puzzl christma gift year old time state like pleas qualiti', 'dark hors must cd album must buy cd list time final got around make purchas say purchas earlier wash altern rock countri blue etch dark somber imageri howev not melanchol quietli introspect laid back work well cup coffe tea newspap lazi sunday afternoon', 'buy eforc slow disingenu review gizmo supplier eforc never receiv product order wait wait contact eforc sever time repli nasti letter eforc r repli feign lack inform mail address cop told would not pay eforc said give refund not come yet bought anoth product replac amazon arriv quickli amazon', 'wast money order apart light switch live room work fine week occassionali would take click get light turn work mayb attempt within feet outlet terribl', 'not work work time stand less two feet outlet move eight ten feet away work would not recommend', 'plug work pull batteri saver tab plug unit wall plug devic want control everyth work tri feet away one wall remot turn devic without hitch', 'mystic thinkman thhi find luv trust best deduct lead us path end leav scene friend track formula room design propaganda sake let break formula let switch set listen masterpiec music sit back relax let switch set souful background cd incred music better fixx luv fixx think rupert hine mastrpiec dr track legend stranger u want b legend dream must get surreal imagri galor symbol lyric high high soph auuuuur kabbalah music power perform thinkman would luv see dvd live mabi someday whe love masterpiec annal rock histori b bbbbbuuuuuyyyi u luv peac frind shine prmise land ecstasi free thought', 'charm captiv work lj smith plot charact incred everyon like supernatur read book night world book think love ash', 'beauti love stori usual hate teenag romanc book book great love transit charact go romanc favorit night world beacuas charact sitiuat mix charm romanc humor book feel like real even though horror make wonder favorit line book paranorm disast area', 'best yet daughter dark best yet happen pick mistak librari got hook right away must read time love way ash tri protect jermey save realli hope anoth book two', 'best read daughter dark th time enjoy everi time read everyth could want one questionar mari lynnett ash ever go find happi togeth forc spend live apart long one person make life complet find keep read', 'soul mate read nearli book night world seri say one favourit without doubt ash cours make book irrest becam hook first guess whole bad boy vampyr thing got go becom addict start read book year ago went print would love get last anyon idea get would recommend book anyon age mean still love', 'possibl best seri book nearli year ago made fall love l j smith write read nearli everyth year first encount daughter dark yet book remain dear heart charact pop page fall love instantli rowan jade kestrel especi fall love ash look ash th book seri make anoth appear book fantast', 'amaz lj smith fantast author inspir other creat stori poetri show true brillianc daughter dark special qualiti induc feel love adventur time would not surpris peopl respond well novel', 'one best book ever read daughter dark first book l j smith iread hook love way l j smithdescrib charact especiali ash gave complet differ person far one best book ever read wait strang fate come anyon look anoth good seri l j smith suggest vampir diari dark vision trilog', 'daughter dark best read l j smith book thehuntress cours yet ihav say daughter dark wasprob best night world far mobsess ash mari lynett awesomeanybodi everybodi must read book', 'one best night world seri l j smith work one highli recommend read book night world seri recogn ash one main charact seem pop mani scene heroin mari lynett also one favorit charact entir novel dosn appear shaken would learn night world find soulmat vampir befriend rogu vampir even seri unrealist better kind book lose find whole concept night world wild power soulmat fascin book worth', 'human vampir vampir slayer love daughter dark must read time realli good stori line read tune time realli explain jeramey got would go', 'hook want read soulmat night world seri sofar ihappen agreement almost review ash favourit male charact anyon notic far ash mari lynnett tri fight attract call daughter dark rowan kestrel jade actual main charact p think l j smith let charact becom vampir come main charact vampir male witch femal', 'l j smith mani correct detail writng say book mani correct detail book seri correct instanc speelbound right call salem witch hunt burn time real witch isi major person witchcraft hecat first witch l j smith might well wtich vampir whatev els right detail', 'great like cool read vampir legendari cratur night', 'disappoint bought book nonogram also call paint number addict get enough type puzzl disappoint not much qualiti puzzl within qualiti publish paper poor qualiti hold much eras use pencil use gel pen ink bleed side squar color larg make finish imag pixil hard make also guid number locat right bottom edg puzzl instead left top make difficult right hand person see solv save money buy game magazin public instead', 'mirror reader find fascin wonder glimps nation shortli american revolut could thought stuffi bore wast time hofstad brilliant yet human scholar offer us wonder concis compel illumin read rare preciou gift anyon wish examin evolut nation done work not allow us form conclus fact rather spoon feed us unsubstanti opinion present vast amount data breezi readabl manner explan could arriv anyon could find great book wast time review much reflect review book review bravo professor hofstad regret not live complet masterpiec', 'wast yout time unless oblig read sort class would not recomend wast yout time tri wade quagmir redundantli long bore text could pay attent two sentenc time like would find wealth inform dri overli intellecu style make imposs stay interest look challeng read face two deciph nealri page redicul long sentenc stay awak even go far say read complet wast time energi must invest understand work coupl witht frustrat endlessli bore stlye not even compar inform actual get', 'thick dri pack full somewhat use inform read book need fulli awak full concentr not type book bring beach though richard hofstadt make convinc case coloni time like obvious scholar write monoton not thouroughli interest american histori would not recommend book otherwis histori fanat book give wide rang perspect fulli cover histori time', 'kyli take bite subtleti kyli minogu subtl perform famou hi nrg floorfil not pur ballad ballad hand pop singer nightmar kyli dream chocol perfect exampl sweet slow flow like namesak throughout catchi choru sure melt fan remix releas cd also includ funki citi game two remix emo mix better one live track taken bodi languag live dvd receiv late releas usa', 'rare wond treat extrem lucki found import b limit edit especi lucki find thrown kyli section pennsylvania border ok track track chocol radio edit cut album version song one minut two second better vocal improv arrang use citi game extrem rariti fabul r b pop chocol tom middleton cosmo remix club dub cool much energi danc not regular listen chocol emo mix woder good r b danc mix song love first sight live live version fever hit usual love live sound quit par origin still yet figur access video overal great packag great mix great rariti', 'nifti conveni charg cabl avail without cord place way work well', 'grandson enjoy mayb time fine boy toy train forget mani time kid watch movi watch', 'annoy video realli disappoint came thoma piec natur daughter pick thought bonu featur mix actual thoma stori wrong daughter easili lost interest peopl would come talk love thoma get ride real thoma train total annoy', 'extrem disappoint video never write review felt compel saw video listen parent kid think thoma mayb thoma relat wors fast forward bunch rambl order see amount minut stori one song sing long realli like thoma stori watch pb daughter next time tri find stori video actual last minut not involv mindless prattl peopl know', 'dvd footag come meet thoma day mix episod sort fo promot piec honest still decent enough rent dvd extra limit not good son seem like kay get push asid interact stuff found sodor celebr also ton toy shown parti interview footag good bad thing depend much need control sort thing child also one get annoy interview not sure annoy product feel old vh video copi dvd without much ad throw buy either', 'thoma not gear toward children much bought think would pack thoma stori turn ten typic thoma dvd howev stori also interview parent kid like thoma parent not interest know year old would rather watch thoma bunch stranger day plu sing along section one song one thoma video least special dvd normal thoma collect recommend anyon look sole thoma stori find collect', 'long promo thoma center unless miss someth one two actual episod dvd rest long commerci thoma train center ode ms allcroft wast money', 'poor dvd mani interview peopl live thoma day penn kid annoy hate dvd', 'son find annoy year old son huge thoma fan dvd long introduct stori children adult interview son care less want see train portabl dvd player big pain tri fast forward past introduct end frustrat advic pick anoth dvd', 'feel like commerci interspers kid parent interview talk train feel like thinli disguis effort sell product also aw frustrat jut buy dvd seri uk make compil invari episod duplic sigh', 'make not want sleep night kid asleep unleash someth horrif part two night warrior brilliantli done novel recommend anyon gore fanat masterton lover', 'k warranti includ packag apc site product descript wrong purchas product equip warranti product receiv state actual surg protector warranti mention equip warranti amazon start make stuff', 'great littl surg protector great valu surg protector got em lot electron printer phone laptop need full power strip univers power suppli up portabl laptop case travel', 'small bought docker year cut smaller usual even stretch waist band tight much extra inch bewar tri store buy', 'good product avail conveni rang size product earn five star not comfort wear look good avail size inseam rang docker product order onlin one larg avoid disappoint store stock out', 'tom atkinson review not get slack waistband got slack waistband send back tri ge receiv e mail statet product longer avabl far not sure refund went pleas let know tom atkinson', 'cut smaller usual agre cut small buy inch two larger normal waist band not stretch', 'wrong item sent got shippment quickli wrong item sent return seller got refund pretti quick valu product spent two way ship without gete anyth', 'bad not like pant threw trash rather pay return postag flimsi smell dye cheap fabric etc bad', 'docker job product hope problem ship highli recommend product', 'fals advertis search super saver ship advertis come product not ship amazon not go super saver ship cost ship nearli cost pant', 'trust imag docker docker not problem sure trust imag choos buy via amazon cafe exampl coffe despit fact imag cafe show stone light gray color cafe actual dark brown product defect mislead want brown pant got', 'disappoint worn pant year size alway get tight get button button around waist go pant seem cut skinni year old not someon littl hefti side ship handl charg sight beyond alreadi rather prici product would not recommend busi seller go outlet get thing without ship handl deal major store chain realli disappoint product seller go walmart get khaki inexpens wear like iron', 'fantast book book modern retel sleep beauti emphasi power famili help boy terribl time best suit matur inquisit child war realiti parent not shi away talk children', 'disturb although imag well render arefrighten baffl impress book supposedto leav children book may pick thought retold fairi tale abstract grim retel horror wwii berlin horrifi imag major kreig big black glove envelop bodi littl boy book not appropri younger reader see book might valuabl altern look war middl schooler higher', 'tast itali long vicari travel imagin colleg day interrupt italian adventur turn one romant kind full silli thing come youth attract confus want add two cent item found despit brief laps credibl hoppingli gullibl moment suffici engag remind love rome even greater appreci breadth depth italian cultur charact wonder eat special dish fun satisfi', 'perfect book long flight lazi afternoon book like watch romant movi interest feel good tasti capella done good job hold reader interest fun descript food chef rome local italian countrysid happen pick book use book store glad like book romant foodi love travel love itali italian food', 'delici read found book light heart fun rel fast move true predict detract capella take triad bruno laura tomasso fact nice see cappella put spin cyrano stori descript food local enhanc stori ad atmospher though time trifl overdon pun intend thing kept give author descript sex scene time graphic male perhap like read playboy penthous letter tast though book entertain fun way occupi summer afternoon', 'wonder romant book sweep itali food love absolut amaz page one felt like itali smell smell see sight tast food book love life sensual glori believ recogn soul mate first sight think fairi tale come true devour book pun intend start finish made appreci food prepar book trip itali soon possibl discov dish describ water chocol mexican food italian magic prepar food love fabl romanc mediev sens word magic wonder food love sensual beauti world', 'want cook husband dark stari night book better great trashi histor romanc ever read love cook love eat love husband book made great week three inspir perfect coupl thing cook uhmmmm want get inspir read book pair coupl cook book like cook nude one newlyw booti food inter cours someth like enjoy great book', 'one best look someth entertain tell great stori inspir want go itali fall love someon food perfect book recommend mandatori read group bring itali read especi women love', 'camerier enjoy book much better standard chick lit titl lightweight stori easi read roman food cook market peopl fun mind creativ curs true roman young stud mayb laura charact bit underdevelop much prefer read bruno like book much cook mr latt fun read', 'food porn mean best possibl way like end character leav someth desir write make think oh notic well except end time even substati read read bath gloriou food descript not mention allur itali oh ye', 'chick lit foodi great read tip cook lovemak italian insult laugh laugh thank look forward film', 'not good bought book read ventur street itali dismay book horribl search everywher book state sold everywher honest not sure charact not well depict except laura descript rome citi book took place not vivid plot predict addit mafia stori could also complet taken need book seem think anyth realli good say book mayb recepi end good cook', 'not wast time lousi one worst written book ever read wish save money time book full superl everyth best ever experienc charact never becom embrac one male charact pathet jerk femal lead portray perhap innoc unawar realli stupid friend promiscu ever realli get know write level well adult reader content could not possibl meant younger reader inappropri not sure would realli like book mayb someon realli like descript food not care plot stori develop character facet literatur find someth littl substanc think much happier', 'food sexier sex book joy eat cook love lot better deal food love fact food not metaphor love love make seem adequ substitut peopl virtual orgasm cook eat sex pallid occasion posit unappet see book success appreci one overlook thin charact absurd plot openli crib cyrano de bergerac enjoy part open chapter return swiftli diminish still plane ride one could wors suppos', 'back basic gener speak great book not familiar manag account turn heap inform valuabl report top manag group doubt book provid basic tool keep boss happi especi need brush move averag etc vast experi advanc financi non financi analysi variou aspect busi ship construct book somewhat let term abil inspir provid way improv person skill structur present complex topic order clear fashion nice bedtabl reader pre mba mba look elsewher', 'cash money limit tha thang beat differ limit tha place ghetto hood close rap like limit limit first tha last limit still number everi way', 'trashi garbag music come listen everi kind music exist alway give everyth chanc perman go start ignor everi cd cash money record label cash money millionair fill cd bunch horribl song repetit beat millionair repeat word huh yeah everi minut song make millionair peopl expect kind music next big thing make millionair bottom line hotboy garbag everi artist sign onto cash money label never consid good music hope pass fad call hip hop music come hope worth money caus gonna spend penni', 'album garbag straight bfi materi cash money record go someth lil better plan make game beat alright rapper terribl none goog flow accomid beat tri cmr mayb next time', 'feel ya ghenri aol cd rock limit feel ya ghenri aol com cd rock limit touch cash money record know new tru cd sold one million first place care caus check billboard chart discov juvenil sold two million fade anyway back cd everi song cd rock favorit song help b g love cd', 'save believ much cd suck save buck download fire mp decent track album u r look bounc parti track like back ass bad u find rip', 'pleas buy cd truli disappoint album beat overus unorigin thing make album young turk hottest rap hot boy heard freestyl know turk da chain wait solo album drop ya need recogn quit hatin turk', 'worst music ever love know actual call music truli terribl howev love listen strang music not normal fan rap music laugh loud everi time hear song cash money guy comedian except juvenil sinc understand anyth say also rather funni buy music comedi', 'classic underr rap group lil wayn actual talk real besid alien skateboard u like lil wayn u deffinetli love album', 'not starz starz album hea hot album tha first album realli made like song cash money favorit rap label like label get realer right cha album real mean everi song blow everi singl day come home school stop take time listen hot boy guerilla warfar like said begin not starz starz know mean', 'one compar juvenilez degreez say great releas first bought would given four heard juvenil degreez today sept first time note ye know late listen juvenil degreez disappoint mani fresh juvenil juvenil degreez best cd sinc snoop doggystyl dre chronic cd noth compar juvenil degreez degreez go buy one instead', 'worst rap ever heard dictionari wack beliv mani peopl bought hot boy fad like bellbottom think rap u plain stupid glad hot boy stuff almost wit friend play crap car rather get walk', 'super hot lil wayn turk set whole cd untam killer seem know flow beat real cant wait lil wayn come solo cd', 'super wack like limit cash money shame put garbag music wack beat lyric ryhm buy crab stuff sound not averag bad', 'ghetto foolish like hot boy realli like juvenil not good thing good fire need hot girl download song onto ipod skip album', 'pleas tri anoth hot boy album guerriula warfar album fell someth someth everyth lyric time meanless pointless also beat backround music song sometim even fit could lyric rapper rap overal pleas go get anoth hotboy album someth anoth album line cash money pleas not one', 'fun listen second best cash money album ever heard next juvenil degreez definet star cd hot boy put album like realli strong song bunch averag littl better song not realli horribl song best song main need hot girl fire respect mind tuesday thursday song song listen everi morn like month month cd cd must good huh ridin anoth real tight one song blend rest like clear tha set lil wayn ya dig juvenil help b g bout whatev turk think cool got solo song hot nice along rest song juvenil b g turk lil wayn put one best cd also best group cd come long real good', 'like degreez continu illest hip hop album recent time degreez w c b yet go get degreez first alreadi got love anoth hour bang bump car music great', 'cd iz aight first come ya dissin limit ya not diss em di ya talklin cash money never get limit fact talkin satin say shit thta sorri lil wayn sayin shit juvenil album b g bling bling ha ha kind song sayin rd limit sayin longest come say shit amd start makin album cover like kind shit peopl tru form cash money big tymer iz say one mean one get boy limit real limit know like give shot soldier hoodi hooo', 'tha one c hook blew set everybodi need quit hatin cuz know hot boy flow tearin chart', 'short book explain love logic first disappoint longer book realiz great give away curiou friend parent introduct love logic wish littl cheaper', 'book review book parent parent peopl think children love logic program help effect parent rais respons children also use co worker rest', 'novel enjoy restaur antoin ever eaten wonder restaur antoin french quarter new orlean mani theme mardi gra privat room definit enjoy book even eaten antoin interest new orlean societi mid way th centuri find delight mysteri addit home late author franc parkinson key open public new orlean actual call beauregard key hous confeder gener beauregard stay franc parkinson key author also wrote novel hous call madam castel lodger fill interest histori gener beauregard phylli zimbler miller', 'old friend beauti written novel gentli use librari copi join littl shelf unlimit read reserv special old friend virginian sun fall brave music danc music tim persuas final reflect word worn smooth familiar give pleasur finger stash preciou stone dinner antoin also touch memori new orlean former time among privileg class sunni certainti noth ever chang set januari februari', 'not ride paid closer attent size hors order not ride section clearli not ride toy tini beani babi ride hors fit perfect stuf hors wheel tini kid never play learn lesson shop onlin', 'excel use find book highli use desktop refer anyth html dhtml relat addit powel great job introduc topic may new peopl like xml', 'wonder thorough refer guid need comprehens intellig guid cover html dhtml css etc book provid easi understand manner simplist advanc web author smart layout nice index help locat need fast color chart css style refer tag attribut plenti dhtml overview depth inform need look spend clever guid take ever expand world web technolog book excel resourc', 'fantast advanc cours mani part book difficult understand begin intermedi user inform advanc refer one need experienc websit creator color exampl html languag produc make difficult piec togeth not experienc', 'simpli excel comparis system analyst ibm background client server total new novic area found book immens help topic beauti explain html xml css dhtml longer nightmar must say day one start write html book simpli great anybodi would like learn html would recommend book beginn well expert refer book worth buy worth star rate', 'complet refer ye well although found book extrem inform learn great deal disapoint could not get lot exampl work not talk imag actual page not come way way book depict type exactli way print tweek bit make work correctli fell go go elsewher find right type book book lot inform give keep refer book titl plainli detail', 'good place start web develop great book new arriv web develop design world book titl indic real content not html introduct web design cover html javascript client program server program css xml mani topic recommend beginn wish becom expert', 'keep healthi not allerg brand like solaray brand not allerg vitamin recommend doctor vitamin keep healthi', 'thought contemporari fiction excel novel cultur gener borderland search person ident tell stori three marginalis young outcast forg strong bond friendhip help see variou life drama teo highli intellig writer make care charact also excel evok flavour variou cultur write thought provok tale border boundari come age cultur melt pot contemporari australia told plenti wit heart', 'peopl complain thing peopl understand ffvi sound track possibl sound game peopl buy expect exact music heard play done origin sne system game made poor sound qualiti system bit even much nobodi would want listen poor qualiti music game produc could hear orchestr remast like futur ff seri game thought sound track excel portray way music sound game place cd base system instead bit sne cartridg system', 'daughter hate got throat spray hurri hope reliev yo daughter bad sore throat tast aw not meant young child got recommend anoth mom bad decis keep numb scratch knee elbow', 'glider glider got much sooner thought arriv great shape piec put togeth even kept say peopl not hard direct simpl realli nice', 'bench bench nice piec look like paint scratch metal scratch unsur screw not tighten much strip plastic wasnt sure indent metal bar way suppos go bench broke sit three time glider bar broke weld not good sturdi', 'great glider need replac wooden glider front hous look around not realli find look son suggest check amazon com chose one felt would last long time size right receiv put togeth easi assembl movement glider smooth color littl blah ad coupl color pillow receiv mani compliment price great happi purchas', 'gaug chair arm chair product order howev came gaug arm chair well pack damag appear happen factori wrap shipment poor qualiti control not worth return product bench substanti promis pictur taken unwrap figur includ', 'nice glider good qualiti fairli easi assembl although help peopl quit comfort look nice', 'fantast glider bench right click purchas button rememb wonder heck buy glider bench internet reason price compar one check store figur get flimsi poorli made item bench awesom husband put togeth minut sturdi light enough drag around backyard catch sun not held wet weather easi clean glide beauti realli qualiti product think buy second one patio', 'jame moodi take san diego beyond border jame moodi well known cast charact put togeth awsom sampl done think everyth els alreadi done realli enjoy listen come jazz artist style play cd everytim tri impress someon never fail job realli great song new style consistantli perk friend ear hear know song never heard play like', 'seal iv huge fan seal first album rush buy one minut came disappoint song sound like old remix curti mayfield tune eeri signatur seal sound heavenli tinsel town say go itun listen song buy tune like call day', 'woburn forgotten tale untold stori purchas book hope find histori town one ancestor samuel richardson help found although littl mention peopl direct line extrem interest read histori town found histori charact real variou chapter author excel job research fact put facin stori book gave better understand sever gener went order make woburn today would great read anyon interest earli histori unit state', 'much mystic plate idea behind god place not know excel take famou line jacob beth el see interpret throughout age variou jewish worthi process talk jacob kind free form midrash unshackl time sinc writer rabbi lawrenc kushner add bit person reflect home grown stori element book never get ground juggl mani element short space kushner get lost book lack real sens forward momentum thrust would good idea two mayb even three book kushner would allow luxuri explor good theme laid not fulli explor', 'god zoo wonder video comic love kid also teach good biblic truth good gospel song', 'differ averag work social talk dri topic econom polit essay goe art even pseudo psycholog one could say cover broad varieti topic short amount page agre almost everyth said book definit worth read realli make think', 'awesom probabl best essay ever read defin polit review still today work true romantic', 'interest littl essay although titl soul man social theoret basi talk would collect anarchi commun foster individu social seen theori practic last coupl centuri interest littl essay meander natur start polit tract veer brief aesthet tri synthes two end process felt unsuccess least mani place quotabl quotabl point want half heart daydream imagin use text theoret basi look wild creativ work see meet aesthet standard project may not worthwhil read essay worthwhil', 'great actor well done film shah rukh khan favorit actor enjoy see rani mukerji pair film well done show difficulti coupl might face marriag one thing stood bother law rani charact seem prejud shah rukh khan charact believ famili member marri someon rest famili respect support choic welcom love new spous romant film focu relationship marriag idea coupl live happili ever howev realiti relationship need care marriag film give glimps realiti marriag', 'great movi not great dvd one favorit bollywood movi fan shahrukh khan rani mukerji love movi interest goe beyond usual pretti love stori lot movi consist boy meet girl boy woo girl boy girl get marri movi look question know peopl complain bicker second half think excess movi portray usual silli argument misunderstand coupl face give movi five star particular product get star dvd qualiti definit pixil part not best qualiti pictur still watchabl return wish pictur bit better', 'extrem emot ride want watch movi coupl meet fall love get marri almost break cat fight get angri make new problem lie hurt almost break realli break cri yell cri final make not realli anyth els movi reason decid watch watch point get marri turn bollywood that length regular movi anyway', 'grrrrr arrrrgh lucki must endur praxi ii practic learn teach test find guid brief discuss structur test sampl question ye content test not discuss outsid sampl question would love see literatur concept review found almost everi test guid planet also seem praxi ii went five respons four respons test point author respond chop answer e sampl question without check whether not correct answer word revis question not revis answer frustrat found book sorri excus test guid recommend noth except mulch perhap kindl', 'give star entomb wait nearli four month album wait final good littl album show case mani talent great metal band not left hand path wolverin blue materi album leagu respect moment tri forget past work entomb listen like u listen first time know hard though recommend metal maniac entomb new album upris own week get better listen one collect entomb greatest band whole world cheer', 'bye bye mom dad children love littl critter book great book not bound well book fell cover within day reciev', 'bass voic delight jazz music miss jordan alway special attitud bass bass line use play sing group much anita day use whith drum sheila jordan uniqu abil express clear witti uniqu way scat singin word talk exchang suggest acoust bass player second accord knowledg probabl one best duo record must jazz fan listen keen jazz singer instrument attitud', 'danelectro dj c rocki road spin speaker mini effect pedal pedal cheapli made sound terrif make even cheap organ sound half decent realli give lesli effect mess around set littl smell burnt rubber cheapli made apart would highlyrecommend keyboard not much use guitar realli price good forwhat get danelectro effect pedal receiv mine jax music suppli llcwho great deal fast reliabl servic', 'fabul book awesom fast pace rivet novel author come find cannot disappoint hook carpathian find run fast bookstor next gothic come scarletti curs terrif love stori mysteri set supposedli curs castl everyth grin gargoyl impress maze hero heroin rivet fascinatin entangl mysteri scarletti curs highli recommend book reader feehan fan not warn time turn last page book hook christin feehan', 'done oh oh done one ms feehan book need intduct fine work one know dark seri good book get know ms feehan work nicotetta giovanni stori power want book end love magic could keep side keeper star', 'wonder wonder book fan feehan dark seri seem realiz although book not part dark seri children children children coupl tie dark seri later bryon lifem come line want learn go happen futur book seri well dark seri go feehan web page use search engin get book realli wonder realli stand wait author publish compani need publish stuff quicker wait till dariu stori dark fire feel free anyon e mail question sell book', 'chang carpathian seri heroin nicoletta villag healer overlord giovanni exercis right select villag girl bride choos nicoletta wish home palazzio forebod place mysteri frighten villag place histori death giovanni abl commun nicoletta mind mind similar dark seri hero bring subtl sensual burgeon relationship welcom chang pounc first chapter genr feehan continu bring us dark hero independ heroin find love share other gift', 'rivet realli enjoy ms feehan dark seri eager read new book true gothic enough paranorm element help build relationship hero heroin nicoletta special gift entir villag tri keep secret howev presenc gift draw scarletti gift nicoletta immedi enchant idea marriag unlik author use hate temper tantrum ignit passion main charact ms feehan use empathi sensit charact achiev love scene wonder though not plenti look amount intens love scene dark book may dissappoint read one sit put stori rivet', 'not best begin let say absolut love dark seri book great one potenti fell flat charact simpli develop enough time relat effort decent not usual standard', 'one miss feehan spark book major disappoint miss special spark made ms feehan novel especi dark desir someth special found book littl action littl romanc mysteri plot never mysteri suspens definit not book pass friend famili read', 'intrigu stori consid best ms feehan book read scarletti curs intrigu stori solid protaganist believ interest like ms feehan book recommend one addit librari', 'amaz love book heart pound romanc action keep go though whole stori say must read', 'bore book great potenti not live hope goe back write dark seri book book need action edit way long amount plot', 'ick ack put back absolut stand book not understand sexi woman give friend life guy wish control complet jerk nicoletta awesom heroin begin turn submiss wifey thing end sad thing woman paraphras actual part nicoletta thought leav old life behind never like eeeeew love dark seri constantli use stalk bookstor wait next one one begin end love ms feehan work bought tide one dark book next made angri wrote author got big argument book pleas pleas pleas read someth dark seri emma holli upyr seri lot happier', 'disappoint realli disappoint book one wrote good one dull rush put new book take time make interest would still read book write read one', 'not scratch first found christin feehan work dark princ excel read hook whole seri thought book would not even close scarlatti curs humdrum reach halfway realli care charact secondari charact underdevelop main charact two dimension also not get feel period place short seem like short stori plot enlarg take advantag success carpathian seri pleas christin write like', 'wonder gothic not gothic reader bought book big fan christin feehan enjoy book much alot suspens paranorm cours romanc plot great got hook begin question not reveal scarletti brother got gift christin feehan excel job look forward next book well done', 'anoth winner congratul christin done book good dark seri anough supernatur element spark interest paranorm romanc lover usual style charact immotionali bound keep read one sit climat end book keep quess right till end true gothic creepi home weird rel odd servant love not disappoint wait next gothic dark seri matter well done', 'old world chang definit wonder scarletti curs absolut wonder ms feehan creat live well written work stand far apart dark seri also ador complex dark charact book quit lot bite enough romanc true fan christin work highli recommend book one', 'great read christin feehan read one book strongli suggest read', 'realli wish wast time first let say heard might find dark seri christin feehan cup tea unknown reason thought one seri need tell sever disappoint confus book realli remind romanc mother use read back blech lot dark male broodi written heroin point view cours young innoc virgin edit add realli wish given one star appear chang', 'finish realli like christin feehan book dissapoint plot promis nicoletta sweet heroin prose good mediv itali set interest chang pace howev plot flow like molass januari manag get half way book went back dark seri', 'poor support camcord hope abl use usb stream featur make small comput movi send friend famili oversea although camcord good includ softwar weak usb stream make choppi poor qualiti avi file recent got new comput could not find devic driver disk came camcord soni technic support joke end tri sell driver camcord camcord plug tv record onto vh peopl still use vh dream put someth comput fade fast go find new way send parent video took new hous frankli day age analogu camcord wast money', 'good promis work well need old mm tape need camcord play back fit bill also usb stream transfer dvd also ship quick packag great protect', 'great money pictur camera good need littl light howev color not quit accur hope hi perhap digit would better price factor shop around found amazon best price avail', 'low resolut poor qualiti bought new color pretti good resolut poor close shot get satifi get blur edg barrel distort sometim use lot first year last year use regularli tape daughter piano class homework everi week minut time recent knock camera extremli hard sever time make record start common issu piano teacher told find new camcord know refus work one day daughter piano class', 'better one year old play toy sever month disregard key pull lid not quit expect fun pull lid push accident happen upon move key nois make sound altern giggl music background anim nois also not quit expect nois deal volum adjust turn distinguish soft loud thing son enjoy toy may limit intermitt interest', 'fun toy month old son receiv christma love love watch anim pop make nois fun watch face light hear squeel delight hit one button anim pop', 'cruel unusu cruel unusu first patricia cornwel book got read one love wait read book boyfriend told patricia cornwel book said need read hornet nest southern cross next two book read read new ipad got christma wait keep great write patricia thank boyfriend tell awesom writer rksbabydol', 'good deal fast ship bought book use good condit also receiv within week nice', 'great book blah listen audio version cruel unusu recent trip new jersey back first book kept edg seat whole thing collaps heap end would much better author stuck write taut thriller instead tri drag everyth evil republican offic holder nazi war crimin dump mix last possibl moment buildup whodunnit end nobodi particular fate evildo nothin much disappoint bother dr scarpetta ms cornwal littl baffl review say great book bad end still give star mysteri defin end author tie loos end red her', 'review book bit difficult follow opinion lost toward end patrica awesom writer sure problem not write', 'love scarpetta love scarpetta seri cornwel excel stori full suspens humor', 'realli bad book summari impress written th grade level virtual grab first book simpli trudg highli unusu crime book author went excruci detail extran subject matter happen multipl time feel though tri fill page closur stori satisfi way paramount good crime book summari bother ask thing want hour back wast book harri levincruel unusu kay scarpetta novel', 'formula type write first foray writer latest book scarpetta enjoy purchas effort sever other written bit dishearten find book basic formula charact studi read work becom less stimul becom trite', 'plain cruel must say requir read book class not case would put book half way put excess amount technic languag graphic descript state murder victim quit frankli disappoint book', 'cruel unusu typic patricia cornwel fiction novel easi read page turner grip end enjoy', 'guess mysteri word lack style write left unabl appreci underli stori result found rather vacuou inauthent much felt compel come write review book other might avoid make mistak offenc patricia', 'inprop advertis need replac lost cd set librari cd book cruel unusu patricia cornwel one order amazon list cd set not cassett set order receiv cassett set book not cd set book wrote amazon seller repli receiv cd set librarian vouch receiv show envelop content within even though respons replac cd book pay librari charg give job librari need say time first time amazon disgruntl custom thank ask review mayb amazon could check prevent other experienc experienc sincer sherri bohmp ye husband still amazon shopper go care', 'solid addit seri like one book solid forens polic procedur death row inmat execut fingerprint later show current crime scene could happen particularli enjoy see kay niec luci person longer child luci comput skill continu amaz look forward read next seri note continu bad guy introduc book appear next two instal well recommend read book bodi farm potter field', 'still love scarpetta could not give book full start whatev reason book seem bog want end continu read seri one not favorit', 'great well pace novel interest charact plenti plot twist patricia cornwel write charact real depth masteri crimin scienc wonder offer sens authent author achiev', 'anoth one done good usual figur not time mani complic twist turn great read', 'cruel unusu book excel bare abl put love kay scarpetta seri excit get read', 'muddl end disapoint good basic plot line interest man kill electr chair finger print turn murder scene write good main charact kay scarpetta old professor well flesh bad charact not well flesh plot never fulli explain book figur dead crimin could commit crime scarpetta redeem eye everyon around develop anti social workahol tendenc death love one latter seem path author choos leav twist plot unresolv though other stori made scarpetta villain mani differ level famili member friend profession end good redeem bad guy stori turn seem unimport found major flaw', 'spellbound first patricia cornwel novel must say blown away never thought warm modern mysteri writer way agatha christi dorothi l sayer ms cornwel displac heart c e far fascin book ever read sat wee hour morn read wonder novel devour everi word go bed finish disappoint end killer came blue mani loos end stori charact first rate intend read book long time sinc found author would will pay hardcov price read', 'nice book realli like book page turner sure would read went bed forc find stop point think patricia cornwel prime novel', 'scatter shallow although might good book introduc issu technic write someon consid field not use want anyth broad overview inform contain vari wide depth sometim date exampl sever paragraph discuss featur dot matrix printer one short incomplet list type bind avail profession print document unclear reason two section edit separ page usabl test actual involv technic write better book', 'soooooooooooo not funni movi not not funni excruciatingli bore think adam channel aristocrat whilst aristocrat not funni thought still better garbag', 'total unfunni film first start play partner look say earth decid give chanc let play half hour bare watch titl say funni overal cover total mislead give impress funni film someon previous done funni film way funni joke terribl script terribl disappoint', 'nasti peopl nasti film entertain place spoilt lot crude dirti talk degrad woman end found noth memor funni film sad adam seem trashi film', 'zero star guy over realli funni nope studio pay million dlss c mon america wake', 'dramedi movi perhap adam sandler worst effort seem task burden play man apathet came across apathet role result perform never engag viewer want pull made climax film lacklust occasion funni consid titl cast comedian play comedian last minut film chang pace entir flounder enough drop attempt weak comedi push even weaker drama despit big name cameo appear real stand lesli mann play sandler ex live forc cast sadli alon enough bring back focu not miss thing', 'not funni peopl love lesli mann eric bana probabl one worst movi ever seen like movi plot stori put togeth kept climax let rise action climax let kept wonder go end walk like mani other may like not cup tea', 'happend sandler movi seem go hill thing found funni movi eminem snap not funni dont let trick see free', 'seriou comedi funni peopl somewhat compel engag film comic termin ill almost kill destroy lifestyl fight comesback enjoy life friend beautiful woman meet', 'long somewhat dull unfocus not typic adam sandler movi not necessarili bad thing kind first not funni comedi consid movi comedi although funni thing suppos movi seem like place long runtim doesnt realli accomplish much peopl might like stori pretti dull', 'joke find funni adam sadler play unlik comedian georg simmon find may termin aml tri experiment drug decid stand meet comedian wanna ira wright seth rogen attempt stand sadler impress ira hire write joke person go fer ira find ill convinc georg tell famili friend georg play death card patch relationship suddenli go die anymor georg examin life even mid life still immatur hole everyon sex ira seem sad joke found joke humor best lame languag crude sexual brief nuditi perhap best movi make sit com look realli lame think guy say tweet spin around circl funni movi', 'far better reput well worth look intellig funni sad real terrif dramat perform adam sandler lot length thought would truli great film clunki almostsit com plot turn last littl much length not quit supportingperform key role hold back keep good movi not great one none less far better often cold respons got mainstream press', 'start promis goe downhil bad adam sandler could not given better script funni peopl start promis jim carrey man moon type film drift oddli sort romant comedi repetit c k joke two movi made seem like two first draft mayb market problem mayb lazi write sandler great job show dark side comedian mayb funni peopl would better straight drama', 'not funni peopl wow usual like adam sandler judd apatow seth rogen film one came left theater could get chanc see think laugh entir movi not even chuckl seem one fun make film unnecessari top crude apatow ensembl seem work sandler schtick love knock year old virgin seem bee much chemistri group wait bruno show throw unnecessari genit convers almost bought glad rent', 'obvious not adam sandler best accept movi good moment adam sandler new american comedi guy far realli funni peopl involv movi like anger manag jack nicholson hilari littl nicki', 'not expect serious not expect dramat look mind comedian rent movi market movi like forti year old virigin knock rent movi expect lot humour mani funni actor put way much faith wife disappoint stop watch watch lot tv watch someth want worth artsi film seriou life peopl spotlight go like film howev look humour like adam sandler previou film e happi gilmor etc forget give film star not kind movi advertis like great comedi film not drama film', 'give less one star would not much say movi huge adam sandler fan love anyth movi looooong boooor comedi skit movi funni guess enjoy hear masturb cock fart would like like said not much say paid watch suddenlink direct demand wish could back', 'absolut noth funni one worst movi seen dialogu aw zero humor charact bore complet humorless loser movi', 'worst movi ever seen movi horribl know anyon could give star movi worst hour life expect adam sandler movi felt like watch movi time someon ask movi tell wast rent someth els', 'worst film ever saw movi friend coupl day ago said real stupid could stop watch right could care less end said saw movi alreadi tell happen next start get argument claim saw said vat get alzheim final figur start watch movi togeth month ago lost interest zonk adam sandler who jewish comedi funni movi one realli eat bird skip', 'l n g e movi ever anyth adam sandler suppos funni howev well realli believ movi potenti much go mani stori within stori could made movi half hour long hour half long main stori plot movi honestli seem longer titan gone wind long drawn littl humor funni peopl good thing major star pop probabl opinion least movi even made big screen go straight dvd', 'profan movi profan degener cannot believ intellig actor like adam sandler would degrad act degener trailer trash movi like guess money make peopl thing beneath movi funni sewer compris endless pointless profan virtual ever second word writer littl not intellig substitut profan lack intellig write endless profan suppos make male lead charactor appear manli ye true quentin tarantino movi fair share profan howev movi use profan justifi incorpor intellig write littl intellig degener trailer trash movi appeal', 'seth kept movi get zero star rate truli great exampl terribl movi becom vulgar offens unnessisari nuditi usual love adam sandler believ stoop low role seth highli likeabl still swear lower well woman play adam romant interest mostli great also stoop swear blantant sexual write worst movi aw movi hour minut long feel like hour could spent life someth interest excit like watch paint dri grass grow suggest skip movi altogeth tragic movi gone much lost scott macneil comedian', 'stupid honestli want hear lot swear wont like let alon stori line ridicul recommend', 'sandler worst normal love sandler movi horribl none flow right joke horribl vand stupid around made sens wast time money', 'not good movi skip scene transit got chapter watch rest movi file onlin said like new disc look clean not play week old player three player tri', 'gift bought christma present son arriv perfect condit love adam sandler collect movi', 'wast time must say never like adam sandler mani talent peopl never got chanc screen still get adam sandler besid decid give shot took half hour stop watch', 'depress becom bore husband watch end watch someth els wast time', 'pleas run far far away film wayyyyyyyi long complet aimless may call complex call crap littl laugh noth would make worth sit even one step away fact not intend comedi rather attempt tackl seriou content still suck wast money watch love man grandma boy someth actual entertain wish someon warn', 'worst movi ever made judd apatow reach absolut new level suck even adam sandler one favorit actor time suck big time funni movi not funni one stupid ridicul flix funni peopl name chang word utterli unfunni almost jewish actor pull odd', 'moron anybodi even smile kind garbag adam sandler alway perform guy moron retard not wast money', 'not funni hollywood call humor day must written lowli work writer strike crude demean wast time', 'pretti pathet peopl new star comedi make miss real one tri learn thi elder like mel brook boy side note hollywood come real comedi sinc meet spartan anybodi forgot brilliant need watch surviv end spartan might still youtub sidgzlnh w', 'great movi movi longer hour great movi not yr old virgin funni knock funni pretti good movi alot famou ppl alot good funni part reason think not realli funni there none funni part like knock yr old virgin dont pay attent review rent movi someth u like buy', 'not entir comedi big fan judd apatow work went hear not like movi somber seriou tone expect temper like agre review probabl littl long take one star go know isnt year old virgin knock style comedi wont disappoint said see peopl rate poorli that thought go see go', 'win cast movi fell short movi not origin concept joke lame perform writer director disappoint audienc use adam sandler seth rogen jonah hill box offic draw fact worth money see film theatr', 'actual star rate pf funni peopl movi save money time much better spent one wors movi ever sat actual drift away close end thank wast time aw', 'not funni peopl not worth time pro sever good one liner introduc new comedianscon excess foul languag adultri', 'inspir watch funni peopl movi star cast great movi want see movi fill laugh good stori pick movi promis regret', 'sfar best delight funni stori wonder graphic novel give us cat eye view sephard jewish commun algeria algerian commun pari earli th centuri love stori funni endear hero cat must joann sfar fan', 'rabbi cat cat meow book came highli recommend rabbi husband not disappoint think everyon love illustr novel jorma', 'wonder funni sad book rabbi cat wonder book heard author speak npr got book book form comic strip box lovingli illustr author pictur wonder particularli cat joy behold even better stori anecdot taken live jew north africa thirti stori sad hyster funni cat sardon turn phrase stitch difficult medium comic author manag captur atmospher time place much book given muse life philosophi love god like good discuss enjoy book although book enjoy non jew think know basic judaism miss vital part book cours book appropri cat lover author clearli understand cat perfectli', 'good artwork review detail depth level stori hit mark repeat howev emphas not comment author talent artist take risk mani page work result feast creativ color dynam draw accompani text stori wane bit final page trip artist satisfi hope book follow realli enjoy charact delt world belief', 'delight exot world seen cat eye rabbi cat french artist filmmak joann sfar whimsic charm fabl featur rabbi love daughter host charact head talk cat protagonist narrat cat often act greek choru comment often sardon action human around set pre world war ii algeria lengthi detour pari beauti illustr narr depict richli divers world individu seek preserv tradit constantli interact peopl cultur social religi background multilay environ presenc intellig talk cat not seem entir place', 'self serv messag tale kindli rabbi sweet daughter cat love tale seem promis first delv bitter god love follow law cat repres glorif sin delight whenev book charact fall ungodli habit judg forev hypocrit take account repent futur avoid said sin case humanist literatur stori spiral point end rabbi lose faith god point cat truli happi rabbi thu give tale happi end short rabbi cat tale structur appeal secular humanist atheist pagan want feel better self serv feel lifestyl one note book despit beauti artwork appeal cover definit not appropri children', 'not look like cover someon interest differ cultur thought book would interest window peopl thought instead open find swear cat use f word denigr religion show religi peopl hypocrit lame stereotyp way might interest other not interest not not suitabl children lot adult would not want bother kind disrespect vulgar either wish warn tri read book', 'last dissent wit way bill sloan wrote jean hill side stori assassin perfect term jean hill closest person presid kennedi shot fire saw shot came fed tri cover everyth believ jean hill realli knew saw happen day novemb anyon would like find inform assassin believ right book read hear truli cover', 'see articl jean hill ladi red onlin sinc write review jfk last dissent wit abl page articl jean hill ladi red includ clint bradford jfk assassin websit address http www jfk info com sitemap htm scroll titl', 'drivel jean hill stori chang wind saw next noth assassin use uniqu locat activ imagin keep limelight year got bad even conspiraci writer shi away toward end laughabl someon need ask littl dog said sit car jfk jacki look origin interview actual said book bs stem stern go read fairi tale least moral end thing find end book wallet littl lighter', 'ever expand stori follow ol ol disappoint read start tale saw devolv anoth massiv govern conspiraci work offer document support statement made unsupport statement boyfriend said claim saw laud garrison persecut innoc man new orlean origin thought assassin tape georg tool worst effort conspiraci volum', 'uneduc nonsens physic depart school get mad rambl man usual end see one els read word sum write nonsens idea asid mostli incoher physic absurd also defi time test true concept averag high school physic student could debunk furthermor mix insan babbl religi polit rambl tri pass possibl truth recommend unless want good laugh evid educ mani american pass book use money would better one', 'great sword great price order set sword decemb th sunday reciev sword today wednesday ship absolutli blaze up ship track number made confid sword demon packag great everyth alright would deffient buy sword demon sword unsharpen would appear stainless steel not good sharpen either realli wallhang katana buddi come see almost cri coolest sword movi symbol word blade actual etch symbol like exact movi', 'fraud not advertis dvd entil seventh cliburn compet not compet program not even contain win perform consid total fraud misrepresent', 'imposs read kindli adapt mishmash gibberish amazon realli need take time convert condit free', 'nice size good amount price smell nice howev smell remind clean laundri want someth littl differ littl younger still smell pretti good though curv smell better men cologn', 'still receiv item bought mom christma love perfum actual smell pretti good howev suppos reciev order th latest night nd worri wont christma updat spoke amazon custom servic replac miss item tomorrow still suck cuz time christma howev glad replac', 'curv smell like gap heaven nice beauti color scent wait tri curv crush done one', 'good valu love curv larg bottl make good valu highli recommend', 'unsatisfi end disappoint reader plot develop nice end abruptli unsatisfi end seem reader author reach contractu page limit slap end onto book superhuman villian termin easili method captur not adequ develop sever promis theme not follow author especi entriqu possibl genet test gault uncl may father reason militari interest investig author took one least interest possibilit handl averag formula manner', 'best patricia cornwel book read patricia cornwel book think ms cornwel reach best write book suspens mysteri new york contribut keep awak finish book', 'kay scarpetti lose charact enjoy develop kay lose dump niec luci clean person life not nice affair friend husband treat det marino respect gault pick anoth scarpetti book name right back shelf', 'say anyth nice well fun honesti best polici right first patricia book displeasur becom acquaint tri read anoth work get simplist write unnecessari adject thrown appar reason except perhap make sentenc longer make reader suffer protract tripe book fail make care charact outcom stori', 'great read book great read lot fun recommend anyon like genr side think gault littl evil border implaus abil one step ahead game also think cornwel need develop dr kay bit good charact need depth', 'got kid could worst novel ever read also first last patricia cornwel novel ever read mani problem book cannot list three point main charact kay scarpetta insuffer humorless snob never read novel hate main charact great job pat novel dialogu bad dialogu understand sinc cornwel cannot write prose stori predict bore end utterli ridicul astonish book ever publish let alon made bestsel list', 'brain froze suppos thriller mind numbingli dull inept give half way', 'lose edg love patricia cornwel first five novel sadli sixth lose edg want enjoy plot labor hard time finish book wait read lose scarpetta forens grit instead focu bizarr rather bore comput plot hope next book seri better', 'devil detail not fan crime write genr requir blood gut nasti fright make speak highli crime novel unfortun cannot speak highli potter field know dog forens medicin make suspici novel factual integr read murder eye pale blue malamut fact accord alaskan malamut club america malamut eye must brown never blue also made laugh think crime agenc media usa would complet ignor regard closest rel countri highest profil serial killer although good guy known basic detail killer famili tree dr kay would left twiddl thumb suppos quit complain well read book right end kept amus give one star', 'pit contriv pot boiler avoid love meaningless run around plot line thatdefi even sympathet attempt suspend disbelief andsnarl bureacrat conflict among differ law enforc agenc might put one otherwis book disappoint one get impress written hast pale imit previou work deserv pile high remaind tabl not potter field book', 'far worst book one favorit author read patricia cornwel book disappoint latest achiev drage villain separ book probabl best idea even disturb charact main hero scarpetta marino luci describ inconsist previou book', 'dissapoint potter field one patricia cornwel worst book written not charact nope not write wrong stori make book disappoint templ gault struck time know sure reader kay scarpetta someon luci past also back problem book gault not strong enough villain carri book not scari threaten not exit partli never get head alway insid scarpetta even cornwel ventur insid head not sure would exit killer loos plot weak coars forens good origin part disappoint scarpetta novel', 'intellig written fast suspens read th scarpetta stori enjoy relationship cornwel develop marino gruff demeanor languag color dr kay strong femal figur use brain handl men would take develop luci charact interest time develop stronger person emot cornwel work good grisham', 'disappoint expect better poorli contriv stori murder mysteri well season author plot line lack substanc end poorli execut reason continu read stori hope would improv read boy disappoint', 'aw possibl worst book ever read amaz number fan kind rubbish', 'wildli implaus thriller book unrealist spoil fun super killer like templ gault clone satan incarn known hannib lecter silli super found charact two dimension intrigu regard super comput insult intellig cornwel done better know read big hurri find', 'potter field buri name christma alway notori bad time kay scarpetta chief medic examin virginia consult forens pathologist fbi templ gault cun serial killer whose kill spree began richmond sever year earlier resurfac new york murder femal transient left frozen central park scarpetta jump head first investig ident homeless woman becom top prioriti discov investig spun radic new direct meanwhil gault set sight scarpetta lead one final terrifi encount fetid tunnel citi fascin book wonder character grisli accuraci high voltag suspens end scarpetta seri best come crime fiction one better cornwel', 'impress deliveri plot lack believ first patricia cornwel book read compel storytel obvious possess great knowledg subject matter admit finish book two day period get inevit final showdown scarpetta killer scarpetta croni character well killer seem bit stereotyp believ read ahead spoil surpris case skip detail section find killer would stop track sinc read book read caus death cornwel would rate book slightli higher one book not best read far prevent read anoth one good focus knowledg writer not need fall back unbeliev killer sensant plot devic tell imagin stori', 'one edit patricia cornwel least felt book seem publish author written truli interest previou novel recommend first three book seri cannot recommend book anyth except kindl howev not fireplac file g', 'let book enjoy pc book seem easi thing happend peopl call fact think book bad edit felt though need someon yank big section reason still fan one skipper doc happen see resturant killer use polic offer charg left subway two peopl not polic not add', 'contriv therefor not plausibl found plot contriv mani scene clearli made becom vicari involv twist turn plot simpli conveni appreci sens natur flow good novel must exampl scene gault killer seen use restaur main charact spontan find imagin new york less not killer use main charact visa restaur geniu softwar engin niec happen work huge comput program law enforc field sorri tale unbeliev might make passabl b grade film want see', 'stilt hokey book read like tin man wizard oz walk oil jerki clumsi hollow ring read book threw yard sale pile first book read intend pick second one realli prime exampl bad write churn non reader quick profit', 'terror central park terrifi novel cornwel knowledg medicin forens scienc keep turn page woman bodi found snow central park question killer one templ brook goult scarpetta discov kill pattern one end one best ruth thompson author bluegrass dream', 'patricia cornwel rock best mysteri writer record like scarpetta mysteri novel patricia cornwel proven must one dynamit coron practic wealth inform book interest follow progress solv mysteri never enjoy read much pick cornwel novel', 'rekindl love mistak never undon rectif possibl year marriag die ross tessa drawn back togeth one son diagnos fatal ill return not home long time ross met mix hostil need love much time pass realiz son not one need heal societi torn apart issu like potenti audienc vast mistak not gloss proven not fatal give hope thousand', 'worst english dub great tv seri suck worst english dub ever crayon shinchan long tv seri last close year japan funim not purchas entir seri hand episod see stori charact develop chang mani season english dub made chang entir dialogu american practic charact situat extrem low brow humor grant origin show lot pun low brow humor well shinchan retain innoc mischief focu alway incred forc fun shape year old boy true fan manga seri not buy lame product funimaiton', 'piec crap noisi crude five point vibrat pad not massag vibrat pad purchas three sent back three worthless wors worthless', 'theori ever author seem unawar fact theori guid understand object fact yet author present find almost reason attach arrog ignor author display grasp theoret advanc account recommend get book better exposit principl practic', 'sure tell written account sure excit literatur not materi dri desert come mind use book account cours osu boy fun note sarcasm date exampl problem x afraid put think student could handl hey not bitter anyth even think could make account interest must read ha', 'wrong item go get book number today got one need send money beac account give well reason let seller mail total differ book second time get item wrong number', 'worthless man manag write mani book know noth travel archaeolog mysteri first show jordan local money friday think someon pass knowledg travel would figur bank arab countri close muslim sabbath continu seri quack theori alien technolog advanc ancient civil harp make rock float not even good quack theori like hancock buval equal worthless least make attempt back theori read someth els', 'book like one book africa arabia like one like book childress rambl place place look mysteri lost citi adventur look dri fossil hunter stori book know cover unusu topic port citi middl arabian desert histori ark coven giant megalith kalahari desert littl discuss topic lot old map photo illustr fun book brows well', 'bother disappoint book self center travelogu teaser mysteri expect book full archeolog inform citi cultur long sinc disappear instead got embarrassingli ridicul chit chat superfici explan want scientif inform not book tend explain mysteri via levit alien be', 'lincoln time mpost part book david donald worth time effort read book offer fresh insight percept lincoln belong shelf everi person interest th centuri america', 'explain econom polit mix hazlitt view simpl econom understood look effect everyon time view govern econom tinker myopic focuss one group peopl moment show govern intervent well intent might alway hurt peopl gener long term includ peopl mean help champion forgotten man peopl hurt governmet tri improv work marketplac', 'brilliant well written econom primer hazlitt present clear concis lesson basic econom messag well articul well support must read everi person ever work vote plan either discuss essenti econom theori polit put theori practic unfortun erron idea book hazlitt occasion make claim impli govern make intervent economi also seem think capit merit lie servic common good howev fallaci rare not significantli detract book great back back lesson econom moral base read book follow capit unknown ideal ayn rand', 'wast money new econom one book skip not use mandatori read look understand subject better not even one chart graph includ book stick nake econom undress dismal scienc econom dummi two titl serv better', 'person opinion econom read someth like whole stori fact back got book guy one side polit give opinion although mani polici tend agre realli hard time read someth entir book well got around third way swung one way direct like read someon opinion love book like like cold hard fact leav make opinion buy book', 'not claim actual look book econom book conserv rant not much disagre say much fact polit littl econom buy book want hear much author think liber stink not want econom one lesson definit feel like got trick buy', 'best book econom ever read excel read layperson relev current econom crisi america everi politician requir read book fact everi classroom teacher read well explain mess govern creat continu destruct polici lead countri assur econom collaps polici base entir fallaci', 'star use supplementari text lower divis microeconom principl cours book use teach lower divis undergradu student principl microeconom use supplementari book hazlitt emphas import concept opportun cost neglect incorpor discuss spillov effect extern posit neg deplet undeplet market failur public good theori second best advers select moral hazard princip agent problem etc interest miss topic origin cover adam smith wealth nation especi part v', 'titl scam someon intent decept order sell book captur audienc lower valu say absolut zero', 'help book not help econom class even though pass cours b book read like novel realli not simplifi econom work better definit exampl book give none', 'polem outdat read non event back like book claim answer book give enorm simplifi view econom not reflect real world moreov present settl mani open question claim author opinion fact mani better book free market econom far far better book econom gener', 'simplist although though presum member polit choir author treat econom much simplist call book polem keynesian econom would accur call econom treatis would plain wrong time would better spent read bastiat', 'econom book expect book econom mayb might understand market forc pe ratio stuff like big argument libertarian govern not even particularli good argument either base metaphor like broken window paraphras memori even though may get paid commun not get rich fix broken window hold commun still not push forward fine argument not teach metaphor mental manipul give pro con let decid better give damn fact outdat book year old not post wwii econom', 'lesson learn one disappoint purchas made amazon book one long myopic libertarian apolog', 'best book econom gener reader excel introduct econom hazlitt clear writer analysi fallaci econom thought inform student econom book benefit everi reader wish politician read book', 'get book wonder illustr simpl simpl go unnot principl market economi mani fallaci ad social mix could easili given star option thing kept give hazlitt partial cave halfway book topic union union tantamount coersion place market economi', 'read angri anti hazlitt review real indic think beyond fact hazlitt produc succinct well argu explan free market best arrang econom relationship realli wonder read screed reader piss read rabid rant temper tantrum one reader amazingli accept univers chicago see idea actual support free thought product profit endeavor drive lunat like crazi awesom dork probabl march wto', 'give book children econom one lesson elucid basic principl econom simpl understand languag start econom would recommend first book colleg textbook bore treatis like human action l w mise pretti hard beginn also sure give book children school teach econom import subject said would like comment mani star review notic comment content book econom scienc better put away polit glass studi', 'econom one lesson econom one lesson anoth great must read book like bastiat law short sweet time clearli explain basic fundament econom consid stupid abus action rampant congress state legislatur counti commiss citi council overwhelm major call leader utterli ignor one buy read econom one lesson call politician give ear', 'never need today sure specif exampl cite year ago longer relev today basic lesson absolut perman valid need ever understood least major vote public sad fact american go entir public school system higher educ without learn first thing econom scienc get bombard self serv econom propaganda thu public gullibl fallaci cite hazlitt seem less pervas back result cancer growth govern econom meddl increas revolutionari fantasi make book requir studi high school student imagin would kind politician get elect futur btw get nice hard cover edit less cost directli mise institut', 'econom even understand avoid econom like plagu book inform give novic good foundat subject check next time argu econom uncl fred wont sound like dope', 'simpli brilliant great start learn austrian econom rather kind econom member congress requir read allow vote bill peter schiff crashproof would great followup read econom one lesson seriou student austrian econom especi time read von mise theori money credit rothbard great depress', 'one lesson everyon need learn student teacher econom book prove invalu resourc lesson simpl direct yet one mani peopl fail appli requir reqd anyon involv develop econom polici arm polici make matter whether agre hazlitt conclus market work not cannot disput key lesson book entertain read particularli easi book econom highli recommend', 'textbook nationwid elementari school textbook past year upon read book know fellow american one timagin loss freedom experienc absolut must read', 'senat rep read heed not new book perhap use gobblygook arcan econom theori fanci labl book mani exampl govern take action make happen unintend consequ proven probabl someth quit differ usual not posit sound experienti econom view clearli written tremend help understand probabl happen nation take debt subsid interest tax one interest expens anoth etc like could read understand', 'great book easi read simpl argument destroy mani fallaci current polit rhetor learn lot book without feel like muddl benefit take micro macro read not necessari anyon interest learn special interest kill consum taxpay well easier measur effect immedi aka everi modern econom issu oblig read book', 'pain recommend book enemi true inform may worthi write style narrat horribl definit not written read convers manner will cut narrat slack read written howev better inflect phrase paus etc would greatli help otherwis tediou book even finish suffer first disk invest time bring listen th poorli written restat fact messag inform worth hear simpli written tediou manner stand hear end think donat local librari', 'unsatisfactori outdat thought would good time remedi perceiv gap educ econom never cours econom book read heilbron worldli philosoph satisfi gener overview recal probabl read heilbron late audibl subscrib got econom one lesson say book date full econom event referenc wwii excess polem rigid read time ago made enough bad impress saw suggest list around number get onto page say terribl disappoint book think book retitl econom one polem shortest surest way understand econom late', 'fool titl book econom lesson bias critiqu econom polici capitalist doctrin want learn econom disappoint outdat one side book', 'hypocrit bias outdat mislead book open author explain object analysi popular fallaci within econom way book object not much introduct econom book polit agenda rare show two side arguement spin fact real well omit valuabl inform contrari veiw dont read first econom book read take grain salt', 'capit straight small unpalat dose want faith market forc low taxat reinforc straightforward blinker attempt make forget govern regul funni west european countri bigger taxat govern influenc less crime better educ better health care better tv programm us also organis polit better tax money better spent set right one two point part written spurious funni way bias realli inform clearli writer never listen peopl agre open mind compar danger nonsens write naomi klein see unfett capit work practic', 'right libertarian view present fact problem hazlitt econom primer much inform present fact noth right libertarian ideolog hazlitt attempt explod liber myth take context social advanc america made last year author believ uncheck corpor power liber economi therefor human hazlitt obvious corpor apologist refus scrutin success liber trade polici throughout world look number third world countri reveal true outcom relinquish govern social control economi', 'astound astound anyon age serious recommend book bear world economi blatantli anti labor anti govern regul hopelessli date', 'fail econom book preach right wing kind econom imagin one rush limbaugh reader helper write primer econom keep govern small etc author like austrian school follow avaiabl free limewir mayb get free copi net brows local librari need buy unless want flesh sic idea mr limbaugh et al book relentlessli hammer home idea govern amal self interest drive economi forward state intervent bad', 'read stupid wish fanat stupid stupid enslav mind blind fantasi base utopian distort capitalist societi noth actual function system level anytim whatsoev top beneficiari way matter econom libertarian garbag espous come pencil read book turn real world turn reactionari libertarian utopian rehash greed plunder pillag plutocraci worship tout common sens', 'back basic sometim back basic clearest path toward understand current realiti amaz book written still fundament relev', 'great altern perspect particularli appropri time even mani decad written hazlitt econom one lesson offer altern tradit keynesian econom theori th centuri book fairli easi read non economist though bit repetit toward end quit enlighten recommend book strongli student macro econom anyon curiou happen global economi', 'saniti econom econom saniti easi understand peopl especi govern would read book would better', 'fine summari great primer read school hazlitt not deal econom detail intead econom one lesson cover use ground averag person cumul teach us think logic econom issu cours think basi think even casual reader take away abil spot econom silli mani spring bad premis elementari blind caus effect econom one lesson provid type knowledg stay lifetim', 'good libertarian primer book littl outdat littl heavi libertarian otherwis easi read particularli like stori use present basic econom idea', 'import two hundr page learn short book econom three entir textbook colleg concis well word simplifi realiti anyon want understand market system work gain greatli read hazlitt', 'econom clearli written minimum jargon basic principl easi understand even non economist topic not oversimplifi essenti read anyon want make inform decis troubl econom time', 'frighteningli prophet easi understand overview econom consid condit today scari explain great deal current econom problem though origin written', 'great book great introduct econom analysi well written exampl still surprisingli current bad econom think plagu polit mediat scene hazlitt focus effort key mistak ignor unseen possibl opportun cost', 'great summari difficult econom principl first experi read hazlitt last adam smith way write whether intent not tell everytim want compar book wealth nation quickli curb enthusiasm good book not great not quit sure great review like way explain difficult econom idea see book valuabl introduct econom principl mayb not econom summari well worth time read not good enough book truli fit titl', 'simplifi diatrib wow one realli rand ron paul know noth econom could recommend book exampl consid laughabl claim paraphras primari problem econom practic thought given long term consequ polici group differ suppli demand vast major economist ignoramus simpl listen believ stuff read book get onlin free', 'polit less econominc wish read review learn book less econom push particular polit point view point view hard right current recess disprov econom patter skim page threw away even want hous', 'book titl mislead propaganda not econom lesson book full faulti logic appar spew promot libertarian agenda less happi purchas', 'serious flaw bottom line seriou flaw author think exampl chapter tariff author argu impos tariff import sweater england end cost us never add duti receiv equat someon argu import tax without analyz happen revenu tax next chapter state export must equal import quit read short agre author often analysi cost benefit focu narrow yet tri expand analysi beyond narrow author analysi fact often narrow', 'not primer way polit go brief look introductori econom begin search elsewher hazlitt opinion present look someth present side sticki issu importantli spend great deal time fundament book fail respect keep look samuelson mankiw malkiel', 'straight trash threw book right trash not even chapter realiz noth old recycl obsolet right wing drivel pepper took countri edg second great depress concern american stay away book', 'pretti cool let first say hiphop real hiphop slug atmospher etc latelli check euro scene music know bought bmw could influenc lol like chick not cute cute beat catchi music make wanna make drive fast older get listen beat complet way music put togeth like goldfrapp stuff cd girl secretli rip zune right work overtim go check europ stuff not better america differ obvious european visit good catchi cd interest use instrument keyboard mention cute littl thing check video trip', 'allison rock recent discov goldfrapp boy look miss disc incred gripe need longer number excel song walk velvet shame us radio not play wonder mix techno electronica airwav yet forc us listen constantli tire rap lyric ho bling dumb tv show contest winner r b idioci allison beat hand', 'kid love thoma kid love toler better barney wiggl still sound odd hear georg carlin narrat children movi', 'great kid usual thoma friend entertain best way kid good lesson good fun', 'chocol delici bodi hotti book delici interest never knew stuff thereit made hungri chocol im chocol fanaticdelci even book tast good bodi hotti', 'stellar kid tape not averag kid tape nanci cassidi wonder alto voic invit even music challeng sing along tape terrif mix tradit new music use mani instrument vari music style even one year old danc put', 'much kid pop music dark anim movi like fact much kiddi pop music soundtrack first second third movi blend rock techno hip hop andrap one much kid music movi part dark song album fit mood movi light p mix song reason bought album not recommend whole album one song', 'tmnt soundtrack love song cd song make want run fast punch stuff', 'egbert wonder name year search end page photocopi version miss page found book book depth detail english languag record almost veget okinawa ryukyu island know inform within japanes older style english know place book exist asid post librari torii station', 'sweet muse loss love game call time edith frost best music year two album kinship close song game transport world sweet repos much like summer autumn friendship simpli fade music hauntingli familiar feel linger time left state misti eye wonder thank edith write candid music arrang simpli perfect song thank kinship highli recommend', 'art chines medic scienc read book good sourc inform relat chines medicin would call art chines medic scienc', 'need price function two main reason camcord webtv captur still need quit easili without softwar comput keep simpl stan definitli mantra camcord help function option would go wast confus light ergonom got free tripod camera bag mine circuit citi buy electron line done longer batteri life would would ask', 'great american sister book ten year old erna anderson sixteen year old sister alfreda live live poverti sweden father went america seven year ago finali sent mother littl brother karl karl die mother ill erna alfreda would make journey america alon third class titan two sister seper first poverti sorrow soon becom friend titan hit iceberg begin sink surviv', 'not quit expect origin bought one daniel previou album titl insomniac previou album mostli acoust melod vocal bought wife love next year purchas deflabox cd got thrown back album noth like previou album purchas like buy album base previou work think took complet differ style album', 'agress wild experiment honnest poetri experiment album b langer show dark hidden garden obvious describ fight depress lifestyl deepest reflexion previou album rver mieux wich total impress come back exclus music lyric style mostli express conciev life constant fight analog box song bear number instead titl let listner use intellig imagin order feel music way one impress album quebec year give star two thumb', 'nineteen folktal south central america children book collect nineteen folk tale collect retold author travel throughout central south america book newberi medal best contribut american children literatur ovious minor opinion award book two star simpli found bore obvious good resourc south american folktal perhap enjoy materi like book', 'book incomprehens book antholog stori like hard make mental pictur head read almost everi paragraph could not comprehend', 'good book witch possess not believ thing christian not like book much think good book kid read might nightmar stori hard comprehend like kind thing enjoy book thank read review', 'bore agre review not author realli bad book total not believ depth charact find hard believ book popular oversea consid write live think author littl touchi guess much someon like bore book', 'order order fudg look good seem price well thought would give tri look everi store live not find mapl fudg hope tast good look send anoth feedback first bite wait', 'long torso great product receiv product mail worn time fairli comfort bustier corset style waist cincher bone support higher qualiti bridal style corsett cheap get thing lay smoothli pleas product one thing say neg side rather short one size fit understand mine bit long torso sinc not issu meant way cover chest belt dont random tire hang pant alreadi fairli thin caus top wire rub bra jean not best sit wherea custom corset one smaller torso like cloth fairli comfort promis', 'love item four squeem shapewear item love suggest find correct size not size think terri cloth line absorb wet see differ shape flatten middl blous tshirt dress look much nicer', 'problem first love receiv squeem month ago super excit first wore bone start stick back right bra line wasnt comfort not like tri store top kept roll give appear roll back definait not look go lol luckili decid dtop store first saw tri spoke one clerk told pull till half way cover butt hip eureka differ made love hardli leav home without origin bought xl nude get readi purchas black vest l great product complaint bone could firmer', 'good choic get vintag look nude version chincher small favour vintag pinup look everi day small waist main focu vintag style cincher authent shapewear expens perfect substitut day day wear said annoth review cannot wear clingi slinki cloth rippl front would recomend wear slip avoid skin irrit wear corset liner avail waist train specialist length fine go bra line hip bone ft cinch effect take inch waist comfort enough get vintag dior not wear enough comment claim permen inch loss think give tri', 'squeem work well pleas item would help slightli longer torso everyon differ cours wear lot held well rubberi base layer import may break bodi perspir', 'small return receiv mail follow measur site get size arriv could not fasten small refund wear use plu privileg not get product ask one could wear use not buy seller', 'wow product exactli say issu first time put pretti difficult put hook eye stiff coupl time becom much easier give worth', 'great enjoy waist cincher correct postur make look slimmer howev think stretch bit lost inch', 'expect order item accord chart associ size end big item also like made rubber need weekend know go point', 'great provid great support slim inch wear order size small size chart accur fit like glove', 'good smoother believ product good case cincher smooth waistlin anyth alreadi petit cincher significantli reduc waistlin howev make waist look lot smoother hour glass like cannot realli wear thin cloth other point imposs wear hot summer day sweat rubber creat rash situat still recommend product good cool cincher think even worn top cloth goth fetish look well made make cloth look better', 'work well bought item wed dress want make sure tri cincher big day work realli well start item small gave back fat not normal return small opt medium work like charm wear cincher two size option doubl hook closur allow let around bust tighter around natur waist creat better shape defin trick made rubber materi def make sweati doesnt move around total worth kinda pain bone push side boob probabl not super skinni immedi boob size dd ladi help lb busti not super skinni not fat size jean', 'squeem cincher love look know long kind product babi far found product like idea want kinda like coursett without wire show noth roll came across squeem cincher doubt week alreadi order black beig waist cincher beig bodi shaper strap alreadi got use wear everyday pretti comfort best give nice shape flat belli look love hope help lose inc waist read last year deffinitli worth money would recommend everyon', 'not realli worth wore wed sinc lost pregnanc weight great littl bit start get creas around waist wear anymor plu made feel sick wore coupl hour suggest wear hour soon take instantli better', 'great product great seller got item within day purchas exactli want look whole size smaller instantli tri squeem boutiqu fell love ask almost highli recommend item seller', 'pain experi think concept great particular product section thicker rubber whatev materi liter push rib everi time sit commut lot desk job not pleasant experi push bruis rub everi day would nice except thicker line rubber flexibl', 'great product item deliv quickli look like pictur great item not roll sit look one like would recommend anyon cours must use long term reshap bodi worth money', 'poor fit tri three differ size still find one fit first order medium even come close hook went size xlarg waaay big last possibl option would larg still huge wish would sent back tire whole process kept hook pain well way price zipper option amazon much cheaper', 'not recommend receiv not way small first thing notic horribl smell came packag unbear sort like burnt rubber smell way would recommend anyon definit product market job', 'gave waist push fat around product suppos give waist kind redistribut fat waist super tini mostli bulg like crazi end look realli oddli proport husband thought look littl like arthropod definit not sexi curvi ladi want guess product work ladi look realli unnatur odd', 'advert new arriv worn pleas note order three item gift surpris see one arriv origin packag plastic cover without sign worn two plastic cover obviou streak materi three advert new amazon site decid buy new item bewar may receiv item someon els return pleas inspect sign item worn fabric stretch not origin plastic cover item advert correctli not sold new', 'great result side effect one spare tire waist put hourglass shape never result like shapewear come side effect wore work hour took find skin grayish color black line turn bruis side lower back fold sit like way gave much trimmer waistlin next day wore camisol comfort experi howev give incent exercis get fit depend anyth make look trimmer', 'perfect get rid peski love handl typic wear medium adult women size shirt larg junior peski love handl thank beauti babi realli work well suck togeth give lift confid want need one thing make not star start bunch middl curv not sure get stretch howev overal bunch would give star', 'upset wear waist clincher last two year purchas new one recent not type materi previou one brought thought mayb lost weight brought smaller sizer one fit either thought found miracl first purchas girldl amazon found recent purchas sure let', 'fall apart first receiv product plenti happi thought final year switch cincher cincher found right one squeez belli enough actual got right size eat wherea lot time would get second found wore cincher could eat one serv cours wonder mind sometim bunch mind sometim left welt went away shortli remov cincher howev two week metal prong came make cincher essenti useless hold form even cheap cincher walmart held better cost fraction cost', 'ahi lb kid set twin tummi not squeem give beauti shape cloth never look better downfal not cut inch make loos bodi fat bulg come make look great thou leav home without', 'incredibi difficult put type closur amount compress meant give realli difficult put need hand pull close order actual abl close odd hook', 'squeem order accord size chart measur way small uncomfort return', 'bit uncomfort exchang size small still realli small give nice shape probabl wear medium size belli left pound weight loss tediou put exhaust final get last hook hook easier way back support get awesom sit get uncomfort recommend wear light weight tank kind materi use irrit skin littl bit made sweat littl buy toler in out go inexpens', 'one fairli tall could go someon taller problem love see cloth notic back feel better postur improv look good cloth love', 'realli love job feel tight thank make chang big differ would recom other buy', 'wow nice product realli hold unwant mid life bulg look smooth cloth sort help postur sit comput long hour inner cotton line feel nice skin appear move moistur although not total away skin mind pure rubber ye said rubber make sure wash thoroughli also take two day air dri brought one strap bought strapless one amazon much cheaper boutiqu cher', 'not shape go order squeem three differ occas tri larg medium small size chang twin unfortun disapoint everi time return tri know kept tri asid desper gave weird shape sure cinch waist side need flatten muffin top basic felt squeez waist push excess lower half torso make muffin top even wors give product benefit doubt two star think mayb bodi type problem long torso lb great product concept work', 'bone product suck great bone tore back back kind bruis took wear day need make one smooth bone', 'magic c section need help get start size larg size move medium medium realli tight job prefer larg day day children run bit comfort thing realli great believ know first c section send women home give birth', 'wrong item ship order waist cincher specif wear wed day beauti sleeveless dress unfortun ship wrong thing stuck big bulki hideou vest ugli racerback strap definit not abl wear dress worst part money even return refund even though open box disappoint compani buyer bewar', 'size ridicul measur small small medium not fit updat order larg wore day stretch much not sure help worn item cannot return larg not smaller began larg stretch not shrink waist hip', 'size order x size websit said order came lack inch close look packag say order x seem extrem exchang impress speed exchang say howev x arriv big gap fall x mislabel x mislabel need someth firm support post surgeri care realli know point', 'caus sweat make unwear corset make sweat like hog not petit woman look structur maintain flat stomach there doubt gave fantast shape flawlessli discreet cloth forc stop wear end day uncomfort hot sweati underneath bad skin made dri would gotten red irrit kept wear longer period got point pointless wear breath skin underneath want take immedi never wore gave return still look perfect corset howev not wast time', 'best money ever spent shape wear receiv mine today squeel delight heard door bell ring deliveri immedi put take muscl power hard expect get suck tuck hold give side eye didnt get excit anoth one mani purchas ladi gentlemen man look buy gift ladi love start tri dress exclaim wow take inch waist love walk around apart sit stand problem well forc sit upright great small waist fabul postur complain love squeem', 'work great bought month pregnanc twin gone pre pregnanc weight tummi still not firm use belt reduc waist pre pregnanc size wear time', 'great first not good time perhap got bad one factori second first day wore mine great advertis help fit pant tini bit snug around waist happi help concentr postur although difficult turn car seat back park space howev put today left side smooth nice held support thing bone whatev right breast seem lost firm entir right front push outward make vertic bulg wherea left side still firm compress know could happen', 'recommend use product year ago preganc work get back shape slimmer waist within week tend sweat lose inch bit uncomfort first take get use would wear work otherwis would take year later second child look waist cincher receiv began work firm believ bring waist prior pregnant workout well made sturdi metal hook never pinch unhook exercis recommend product', 'bone not plu hold thing togeth bone get uncomfort would better without also fold fold stomach want get pooch area well would like guess want tuck thing wear dress would good that', 'pass size run realli small flip even though said would not hook hold dissapoint', 'love train waist lose inch use alway buy faja uncomfort take alot get use wear day throughout night one comfort someth squeez u look good certain cloth like insid rubberi materi help u sweat speed weight loss process plan buy next size soon waist alreadi shrank probabl buy one strap next time strapless kinda push ur back fat certain cloth see great product comfort cincher ever bought', 'poor qualiti purchas item wear postpartum love fit well smooth thing post babi major downsid poor qualiti eye portion five hook eye closur come entir know not size issu follow size product select one appear not sewn well rest disappoint would otherwis awesom product could recommend other instead wast money', 'squeem perfect waist firm compress satisfi squeem magic lingeri shapewear deliv promis everyth describ product true reduc inch instantli hardli show thin cloth let eat lot feel full rest day recommend wear hour even sleep thing get mark like wear thigh sock give smaller waist pictur show perfect length core tri anoth brand long could feel wire poke special bend recommend measur order brand get use one plan order extra firm compress give back support reduc waist even', 'not best shaper would great bone not sure os pronounc hour glass figur put fabric slide waist effect rubber band aroun waist form bulg waist bad hope would work base review', 'work size medium true size made waist smaller eat much pressur make feel full howev cincher purpos like fact shorter lower back bit longer tummi buttt huge like made big bulg fat upper back eewww even back fat defeat whole purpos cover stomach fat gave back fat also go price increas bought week ago', 'squeem like came expect realli help save money compar store', 'product defect day use product overal comfort shape nice problem day wear product bunch waist interior support bent without repair contact compani say correct size wear tank squeem help bunch help bent support return product', 'great buy babi knew want tri bind form get tummi back soon possibl glad bought squeem realli cinch waist give unreal hourglass shape began wear mine week postpartum peopl believ babi month postpartum wear mine gym extra back abdomin support realli help give old shape back even seem nip waist', 'not vest squeem absolut love waist cincher not not gonna say buy alot women shape differ got yesterday send back fit well back fat overlaps top cincher that not attract know enough back fat not tri adjust pull didnt even help wear size medium correct size doesnt give full coverag support vest give vest cover back fat everyth still give squeem thumb though', 'go wrong item recent purchas power cotton rubber waist cincher love much thought give one tri well far smell faint wash prior use put plenti dryer sheet help smell diminish pretti quickli fit nice comfort not solid black like assum prepar charcoal black gray color exterior interior rubber make sweat ladi get readi sticki abdomen end day thing waist cincher back begin bunch make wrinkl day overal great product', 'would great packag say goe lower belli bust short woman reach rib leav two huge roll fat front back take great love long enough wear anywher', 'work uncomfort held tummi tri way stiff bone hook show could not even wear insid tshirt tough wear scare pinch wear', 'major let bought product base posit review wish bought waist cincher bottom cincher end weird triangl goe inch thigh bottom wrinkl look ugli extrem visibl normal shirt look terribl sit wear look decent bare stand might not wear ever need sit length way goe inch thigh inch armpit weight lb look terribl send back day deliv save money', 'awsom realli life saver come go nice parti tri look spectacular especi give birth month ago still tri work pound belli left realli recomend money well spend', 'wasnt worth bought pink rubber squeem seper cotton cloth work well wonder dint buy end product hurt left hip got scar left hip', 'great therapeut well great fashion two reason purchas product one spine difficulti thank sever injuri mani year ago pure vaniti surpass expect reason ever comfort make look great feel beauti cannot express word great product', 'not much product shown didnt stock took almost month ship instead send next day compens sent regular mail took anoth week receiv not happi custom servic', 'burn rubber went squeem chart waist measur find correct size supris waist cincher not fit warn cannot return refund merchandis credit exchang also cincher smell like burnt rubber bulki visibl cloth cannot wear tight fit cloth', 'not worth price bought slim tummi bridesmaid dress first smell horrif still stunk like rubber wash second almost noth slim even though bought suggest size third half hour wear absorb sweat make feel clammi uncomfort extrem uncomfort sit bone show rel thick cotton dress abandon complet felt much better', 'tortur tight want help get back shape babi even close whole thing return asap', 'squeem product state inch remov day use worn item everyday least hr per day not seen kind differ price item disappoint advertis not compli', 'impress far got mine today put right box like said take minut get use wear hour love cover everyth need cover long waist stay put love comfort make waist look great flatten stomach pooch comfort enough sit best instant postur makeov eas lower back pain provid support look forward wear long time alreadi forese black one futur wonder wear run hmmm also size inch waist medium fit perfect first loop take measur order hope lose weight run train program cinch tighter loop get littl use well get size small love', 'not everyon realli excit tri howev not everyon flat stomach flabbi love handl thought would hold everyth not work feel great look mirror pooch front take extra side put front think would rather love handl like way feel back support great wear baggi shirt not exactli bought well still gave star still work not thought would', 'squeem combin scream squeez first order size x l big return bought l first coupl wear difficult product becom slightli stretch begin conform slightli bodi wear stretchi tube underneath sort like top part panti hose tri wear stand walk around not comfort wear sit think would comfort one inch shorter think torso shorter think help need wear hour think wear sleep rather daytim not tri yet product well made', 'excel product product said descript waist got smaller stand hour withoutfeel pain back work requir lot lift product help protect back love second buy price also good first one got cost time paid', 'hard put shape wear difficult put see seam cloth hard bend especi school teacher would definit like tri brook burk belli taut instead old school shapewear', 'everybodi rave product suck complet suck day abl wear bone snap half compress pretti tight mani peopl note hell get first time like bodi suit rubber outsid would keep shirt slide butthi garment ride move lot eventu slide waist leav huge creas skin waist hurt make look like sausag sit visual divid belli half sita said wore twice first time wore half hour second time worn sever hour bone snap half poke side ouch return', 'uncomfort realli easi put squeem wait get tight anyth problem stood straight bunch hip mid back area pinch skin pain matter posit would bunch realli disappoint sinc wast', 'great idea poor design shape wear best regard easi wear put great job keep post pregnanc flabbi belli control howev month daili use metal give support come fabric seem metal rub fabric thin enough come wish better design support binder otherwis awesom good look lingeri buy expect month wear without problem', 'best shapewear best shapewear say everyon ask look small bought friend loveit', 'wast time realli want item work everybodi seem love hold anyth gave back boob wast money', 'not ok order thought would allow wear cloth abl weight gain woman size breast wear larg top wear size pant weight lb suppos clinch waist give nice look figur well hug waist also gave muffin top not shape woman want look better without wear fold fold creat bigger fold top bodi would say item extrem skinni femal small breast hip ass not woman larg breast hip ass not women go post pregnanc either product that suppos make feel good fail', 'not worth pain caus squeem shapewear definit job suck howev found rod pain poke side ultim result wound not worth pain', 'love suppos make look slimmer waist area grandmoth even notic even know bought realli make look smaller area bodi would like buy anoth one next time small not medium', 'disappoint think case expect high encourag great review product realli expect miracl wear twice stretch first thought perhap would regain shape hour nope better cheap fashion corset smooth thing less bulg cloth look real waist trainer someth would go tight stay tight consid found product search specif waist trainer would say claim product mislead shapewear not cincher trainer', 'itchi wash use first time next day wore found skin itchi place stomach feel heat bodi trap', 'love reali love shape wear got one one daughter notic big differ', 'wow ow smell use week seen differ measur postur definit improv also lost pound like due combin diet exercis also wear corset least day week hour time pound bought size small fit super tight look forward eventu go second hook complaint smell smell like rubber hope one around realli notic notic wear wrap around midsect underneath day smell still get stay skin otherwis construct super sturdi anticip need one long time hope smell fade hand wash', 'squeem pretti good inch waist normal start size small xs seem bit smaller describ definit get job done cinch waist', 'snug fit great product give snug fit becom uncomfort around waist line worn long realli like item big issu fact see snap cloth suggest not wear tight fit dress shirt everyon know secret', 'poor qualiti lousi custom servic squeem great idea qualiti second rate custom servic wors useless own mine week worn hour day notic seam come unstitch thread fray unstitch seam contact custom servic exercis futil ask pictur damag fail respond pictur attempt contact cost need last longer week', 'trash goe hello woman near waist certainli get smaller purchas product hope would shrink ever grow belli accommod girth bought squeem magic lingeri shapewear xxxxx larg largest size avail well bit magic ya sister second snap first two hook togeth tight unbear felt like squeez waist fat straight giant ass fortun discomfort last long sinc hook flew therefor ruin squeem altogeth thing need come larger size not even worthi star worthi steam diarrhea', 'sturdi item sturdi hold belli area better anoth softer belt measur seem true size two row hook adjust lose weight neg point item smell badli rubber new must wash wear rubber make sweat minor complaint want look good even belt also help sit straight think good back well front', 'work day broke like pull everyth felt fantast hour realli flatten tummi area realli want see hook threw cloth felt like ruin also keep pull bunch back realli smell like rubber day one bone insid broke stab side realli hurt would not recommend product', 'job recommend itit realli slim waist line clearli cleanli hope could buy beig color could littl cheaper', 'squeem love product wear cardio help weight loss true size', 'far good worn day far love still littl bit tummi birth son month ago realli hold comfort think show cloth highli recommend', 'make look like perfect hourglass figur love product make look cloth shape perfect hourglass dont know claim permanantley reduc waist day true havent long complaint littl short still small bulg top vthe back think may stretch wear opposs shrink overal best shapewear ever purchas love would recommend anyon', 'simpl quick fix bought product slim waist realli big expect figur wear cloth defin shape wear month alreadi seen waist go inch wear day work till fit snug begin one week go tighter hook even big may need buy small actual like wear recommend wear tank top start press skin kind make sore henc star rate happi product price work better spanx', 'must must desir smooth look shirt dress also offer great support back perfect everyday wear', 'squeem waist cincher squeem waist cincher great three week exsactli say wire support squeem start come wire broke side squeem start creas waist stretch turn scream would say get product best buy two could switch damag fast three week happi go buy time get two', 'impress much slim midsect pretti much push everyth top make breast back look much wider continu wear around hous loos cloth jacket', 'squeeeeez cloth realli like squeem petit person love handl need hide wear tight cloth problem bone feel rib tight', 'love work realli well use help get abdomin wall back togeth month post partum still bit separ definit help wish knew sooner also help support back pick child good remind keep weak ab pull great wear exercis remind keep ab strengthen correctli inward also look hot sometim wear wear tank top underneath suggest review time suggest get seamless tanktop otherwis irrit may occur waist pregnanc waist bought size medium could probabl get next size realli want', 'good product read review product purchas ardyss wearer brand one piec cake purchas small need extra small wear day comfort feel slight discomfort begin feel work thing like strapless worn almost type top bodi hug top exclud cours recommend want go extra sexi night town', 'wast money product work fine first day work describ advert never sore side entir life cannot wear h product deliveri system also mislead choos day deliveri place order product deliv month later made even annoy fact pay post charg appar sender use correct stamp pay full charg', 'got burn hour wear first day hour wear hurt bad skin torn itch swell deep red tri wear side hour got deep burn right left belli skin torn swell bleed lot cross cut skin itch week look like beaten skin diseas scare dead look know got use someth like get bad thing rubber hurt', 'not fit accord size chart box size small waistlin waist got smallit not even come close abl close clasp mayb terribl disappoint', 'bulki feel gross not worth order read belli wrap c section bought coupl compress tank top wal mart work nice want someth without strap someth compress purchas squeem perfect waist amazon read rave review receiv tri felt disgust skin uncomfort total notic even without super tight thin shirt especi sat seam bone notic rubber make cloth catch stick realli weird way like someth would stick realli sweati wore corset year far grossest feel least comfort thing ever put bodi return immedi', 'caus damag stomach muscl felt great dug waist sit caus damag surgic site pain without', 'great product need get head back toward pre pregnanc waist bought xl probabl could fit larg look size soon', 'great product great fit exactli suppos plan buy differ color sent good order', 'love everyth advertis go get anoth one got mani compliment parti wore made outfit look realli great', 'good product awesom hide secret would recommend product women men buy product', 'work thought not go fit current order xl like much', 'not expect product not expect return tight size mislead stick spanx', 'small usual size xs girdl small not fit true size return back amazon', 'perfect got could start perform drag queen put pound around mid area want lose eaight would lose rear want lose tummi friend help put first wore day half way day went second latch gave form need fit back outfit work great like say pain beauti worth', 'amaz wait review could give good review work amaz trust need get use pleas buy accord size chart stretch sometim need suck first put lower belli pudg almost gone', 'amaz realli work love tri get pre pregnanc waist back month got kind got stuck squeem went waist minut start hook top much easier buy regret', 'awesom pretti awesom price definit give great postur sit straight like although wish could improv rubber smell otherwis wonder review day order jan useless wash care smell like rubber pretti nasti rather pay buy someth work way', 'fall apart understand insert made piec one piec piec held togeth small piec doubl side tape complet fall apart day walk problem seller horribl made product', 'awesom cd amaz sad x birmingham longer made great cd benefit great caus', 'jane world aircraft great deal quick deliveri highli recommend thank', 'mari antoinett doll read book seen movi covet necklac well cours mari must come live eat cake togeth prepar lose head love mari', 'dont order white light color owe plate white quit year mayb six replac set crate barrel heavi seemingli well made faulti number way first biggest complaint white plate everytim happen scrape silverwar leav perman mark never wash anyth stainless near diawash sinc mark well rub year use look horribl mark also seem chip easili chip mark take look anymor also not good microwav get hot food not much would not recommend everyday use mayb dark color would show less mark chip notic advic purchas bone china porcelain never buy', 'disgust german pinscher wonder famili pet type comment make sound danger german pinscher wonder pet resent type product', 'happi yet dissapoint amost complet happi soundtrack upset particular track game love track pay c upset find c contain everi song game except one influenc buy first place', 'legend dragoon soundtrack soundtrack amaz song want hear though song play legend dragoon long time great game realli notic music hear soundtrack amaz game music highli recommend logan', 'want jimmi ponder littl guitar one wait get cd guitarist give straight jimmi ponder not horn jazz type disappoint cut two four best jimmi bad listen cut first would not bought cd sorri cut jimmi great though', 'horribl movi horribl not play right watch onlin like went old vampir style cross work invit end realli bad not wast money one also storylin not realli make much sens', 'neg star avoid like flesh eat bacteria let jiggel camera show ground shake special effect haloween leftov act well cast manag repeat memor line cast apear done trailer park script know nine year old write better stori cinimatographi someon home cam conclus anoyingli bore essenti unwatch waist time money', 'worst movi ever not wast time love hoki love chees come horror plain old suck', 'meh bad effect evil charact look like step dollar costum halloween shop pay realli cheesi stuff bad guy good demon voic interestingli complex incred vulgar say', 'religion profit excel scholarli book great detail depth analysi inevit conclus imposs mold econom system moral philosophi not islam problem tradit islam thought aris adher islam not set moral principl way life dictat everi aspect unavoid much effort islamist set distinct system bank economi base pure islam tradit prof kuran delv histori movement put cultur polit context end brave expand gener failur islam cultur tradit bring wealth prosper mass follow write formal not easiest read surley apporpri truli interst gener topic well worth reader', 'ten gold banana gorilla ten gold banana two thumb hurrah gorilla wonder book pleasur read want get comfort enjoy book one would suggest', 'end great unusu stori young man face life handicap felt like cheerlead pray could overcom could hardli wait reach end book peek', 'final cd still vinyl great see cd even import super strut rhapsodi blue alon worth one must have collect jazz caan get rest cti catalog back pleas', 'warn worst book ever written peopl reader know jack higgin written mani fine action pack book howev book read like twelv year old wrote charact transpar could ghost author publish hous must realli need money rip public manner last book read author one rest laurel long glad book hand would written realli nasti review', 'edg danger somebodi higher place stop mr higgin publish put book market quit disturb see absenc integr sens respons provid joy read public along fight grow urg dispos disastr novel ship charg cost book yet overcam frustrat finish book regret not heed sens obviou mr higgin heart write book made effort show creativ word scream head kept rehash phrase e g brown carswel silenc everi singl chapter book made true anti higgin', 'edg danger star minimum book prove famou publish anyth', 'actual book not worth one star first book review book fundament wrong need speak main charact sean dillion formal ira licens kill make kill like game rather justic whatev want without follow order boundari pickup coupl terror crimin partner make kill like habit terror competit fun game egoism fulfil far common sens british gener could not control maniac killer let kill wish kill threaten masculin kill like joke absolut legal consequ book promot violenc behavior artist entertain valu lost interest jack higgin sean dillion serial finish ridicul book', 'not worth reader time hard slog read book written someon go motion jack higgin drag stock compani charact sean dillon ankl holster glass bushmil cardboard villian bore action believ plot silli dialogu written tell reader go everi charact speak voic real peopl speak charact overexplain appar author pay attent gave inform dozen page ago frankli read enough ira prod one para counti last rest born day worth anymor jack much work read littl reward', 'disappoint simplist minim style write expos much relianc charact event previou book littl descript detail promis locat action thin well charact die frequent quickli littl build detail charact motiv weak time contribut arid experi predict climax', 'worst book ever read simpli worst book rememb read enjoy coupl jack higgin novel happili pick sorri noth action might ok fun read beach even action poorli written ridicul massiv action scene larg battl take place page charact develop poor dialogu set descript drama suspens noth poorli describ seri event enough said', 'formula write higgin fan mani year read collect almost book written great full suspens last three written includ one edg danger disappoint resort produc book year base formula superfici stori line depth predict charact seem write capit prior reput good suspens writer count number marlboro smoke amount bushmil champagn drank midst chang champagn brand make one wonder whether receiv better commiss one favorit anoth find shallow book would save money one buy collect higgin first edit hope capit someday commerci side sell higgin book collector', 'edg danger jack higgin big fan jack higgin adventur book think book read like poorli written condens version good stori like outlin book jump around abruptli poorli written dialogu convers stretch normal length exchang peopl difficult keep track minor charact book none well develop proababl never read anoth jack higgin book disappoint like got robert ludlum one later novel never read anoth book either', 'worst theyear mayb decad real jack higgin go not higgin worst effort date probabl worst book read past year say lazi jack believ actual finish one star gener rate unbeliev chapter unbeliev chapter charact plot develop written like th grader end book foretel sequel book immedi pass probabl last higgin book without read review first buy borrow read', 'write autopilot read book felt guilti purchas contribut best seller statu oop mayb not way work bestsel day hit th store sad think aspir writer struggl get publish attent worthi effort strang hollow piec waltz way bestsel statu editor thrown cold water potboil', 'sophomor best read one higgin book cold harbor hesit somewhat comment author gener talent howev book one worst read time think thing got dialog unbeliev simplist total formula damn said kate hazar scout puhleez not even exclam mark mani exampl could given assum moment dialog say written greater th grade level plot almost bad protagonist reaction fellow get knock one one almost comic depth one simpl vignett anoth even want compar ludlum clanci although clanci gotten bit rough late terrif wast good', 'wast time book not well written leav noth imagin bought hard cover spent money would not even finish read', 'plenti action second higgin novel reall get world creat author learn lot ira way find pretti entertain time littl fantast stori center around dillon bad boy ira work british mission stop famili half british half arab bilionair action non stop pretti interestng quick read sometim point noth realli deep compaint want know dillon littl littl see charact charact growth', 'good stori poor write simplist write style said said said said read like first attempt not like book written season author book', 'give star never written review curios other thought book thousand time compel edg danger enjoy mr higgin book past life understand wrote book b publish plot charact develop predict action tension like read execut summari book sure publish outlin mistak', 'disappoint everi page glad not first jack higgin novel would also last normal forgiv higgin clich obsess attent charact drink habit charact fun interest put great plot pull reader happili wait find next book especi got sean dillon not one charact wooden action colorless complet unbeliev presid guard one secret servic agent dog profession assassin whack target head shoot someon els sens time place thinnest motiv charact justif mani decis made charact book amateur hour bother read higgin earlier work instead', 'would rather watch paint dri boy disappoint read charact not well develop henc challeng keep track plot implaus yet predict half way wrestl whether not even finish book although unreward rate lower could fyi look altern select genr highli recommend silent joe jefferson parker', 'tire formula jack higgin may not run fascin modern weapon fine dine glamor women ira appear slip plot charact develop sean dillon make doc savag dirk pitt look like piker curiou extens gentlemanli method attempt kill one anoth send craze assassin side meet later savoy exchang note strain credul higgin done first rate work publish twenti five year ago might made differ', 'not jack higgin know far worst effort read not favorit spi author anyway book feel like written fulfil publish contract oblig mr higgin assum need finish hurri charact not flesh stori line contriv would advis not wast time read book', 'complet predict enjoy almost higgin book although tend becom samey particularli disappoint edg danger tire old charact dillon ferguson etc drag entir predict highli contriv unbeliev yarn plot use read two dillon book abl guess next line throughout bought read plane bore check finish long board give one miss', 'extrem shallow book plot absolut predict put away without finish sean dillon charact get tire invinc sicken poorli written book good thing book got local libari not spend money mr higgin time retir sean dillon mayb spend week write book', 'cartoon arab scottish villain rare experi give novel coupl chapter tri read edg danger recent higgin manag pen book lame refus go bad guy supposedli scottish arabian aristocrat come anoth cartoon arab terrorist implaus pointless heritag expect middl age author pose bomber jacket aviat glass dust jacket depth', 'believ read whole thing given lack charact develop rather simplist time contradictori charact develop lack plot whatsoev poor visual believ read whole book guess kept wait action start never', 'rate star could book contain review one stone said realli like bad movi harri bleed well say book read like th grade read level condens outlin screenplay paragraph line long word greater two syllabl use complex thought charact develop suspens littl descript pure formula twaddl', 'bad book poorli written plot not believ not shred charact develop even descript atmospher shock jack higgin publish actual make money pueril drivel shall not buy effort', 'higgin disappoint without doubt higgin least inspir work year plot predict worn book uninspir real disappoint', 'poorli written style write lead believ higgin pressur churn book meet editor deadlin charact develop critic turn plot action blown without slightest bit suspens never read higgin like never read', 'disappoint hard believ author wrote eagl land edg danger write plain shallow plot predict save money someth better', 'horribl first jack higgin book certainli last especi review state best higgin book long time charact never develop way book begin think rashid good guy dillin bad guy sudden without develop charact role switch end not care die billion peopl die book littl overkil live adventur similar dora explor bore predict cours dillin kill peopl one kill ridicul scene get book despit reliabl author', 'not worth effort edg danger yet anoth instal go saga dillon ferguson bernstein truli enjoy preced effort higgin might like edg danger howev grow disench higgin effort probabl want take pass least futur effort well higgin book like screen play less less like novel dialog charact often ters choppi unimagin make virtual text higgin almost complet avoid opportun add depth breadth stori use descript text last book higgin edg danger clearli disappoint', 'believ publish nerv issu book terribl childishli written book absolut redeem valu literatur higgin love speak irish even gambit fail trite poorli plot worthless endeavour writer remain retir better trashi write', 'disappoint thin purchas book expect good thing found plot thin predict littl suspens almost seem like abridg version book detail lead left also seem charact build background explain individu would singlemind surfac stupid behaviour', 'two hack know wors higgin macne plot tranpar guess come next complet implaus macne narrat overdon laughabl time charact littl quaff enorm amount bushmil irish whiski real stinker wayn schwartz lo angel ca', 'skip read book know read not true start read thing complet wrong anoth thing exampl question q mani time could man pay anoth man kill somebodi killer fail boss give anoth chanc know mob know least four time q target man know tri kill saw restaur danger say hello target man like danger q target man opportun kill one want kill someth head let even kill mani men energ rabbit keep go go go advis skip book', 'worst live record ever bought bought cd one song steal away knew go live even close radio version tri like muzik loung sound record ballroom song recogn hot rod heart done vega loung style wish could get back put cd use regular record never big star begin wrote review warn peopl like live record dissapoint still decent record steal away', 'differ collect earli stuff among first ellington cd own remain among favorit present nice survey earlier materi mani greatest hit well less familiar tune e one find everi collect earli duke ivi anderson vocal realli shine especi mean thing got swing not everi song destin great lyric love like cigarett hoot sound decent consid age record', 'great refer book good kept interest way finish read book read front back inform herb detail great refer materi good addit', 'excel resourc book pick version herbal magick book want see mr beyerl offer vast sometim conflict magick practic read book use index find ned must say master book herbal want mr beyerl done ton ton research materi check bibliographi show entri precis magic associ common name name also includ suggest use not take time explaint variou way use herb wonderful addit occult librari', 'valu studi herb medicin plant book not list book worthless pagan religion book plain simpl opinion studi witchcraft like', 'realli great babi book leg children wonder book anyon love dog children bought one year old adopt beagl get one daugher law birthday rotti person wish includ comic clip marmaduk mutt etc appropri along photo creat begin great book best friend keep forev', 'need upgrad limit access obdii data stream unless pay money upgrad softwar', 'window xp earlier support scanner work great want updat unit use print softwar run driver window xp machin earlier window xp year old load data scanner comput vista window window seem plan updat system scanner ez scan line keep mind microsoft drop support window xp spring littl year away someth work current comput especi buy one window mostli window addit model firmwar believ stand current unit show car car later show ask want updat softwar product still expect peopl buy', 'not well written book well review disappoint even written poor reader read like dick jane children young not simpl mind give kid real literatur keep read plug media', 'hypatia classic stori base histori one hypatia crime appear readi provid hypothesi heliocentr univers long copernicu much wors respons christian commun', 'scarlett letter disappoint book miss sever chapter need school forc purchas anoth copi', 'bore ridicul long chapter book download nook kindl doesnt seem like one read school version bore tear', 'scarlet letter hard read seem go anywher struggl finish may give', 'scarlett letter written old english hard read think sentenc figur said', 'thorn side literatur hawthorn use symbol throughout book undeni yet obviou alcohol take underli factor present point reli ambigu far often without build climax climax es happen book start happen select read book read atla shrug anthem virtual anyth aldou huxley want entertain', 'moral novel mysteri read book high school vacat although long word unconvent charact not catch fanci mysteri involv stori captiv stori develop realiz profound intricaci plot conclus stori not happi even seem fair one know hawthorn puritan moral standard howev say commun messag extrem well', 'excel book read book th grade lit class must admit book quit shock mani book read noth attempt delv inner part human soul book much depict struggl man outsid enemi commit one unspeak act time punish constantli lack courag confess crime goe period mental physic tortur also face wrath cruel viciou enemi live noth tortur victim believ excel book would reccomend anyon', 'technic problem cassett product requir stereo player balanc turn total left auto system capabl howev dolbi surroundsound difficult mayb imposs play cassett without hear two record time unfortun neither packag websit warn problem therefor think buy open packag may unabl return product', 'mundan tediou plain bore mani allus literatur cultur infam worn hester prynn excit read hawthorn masterpiec needless say extrem disappoint find symbol dealt pearl fascin mother interest rest book not literarali savvi would not recomend book', 'oh god kill book bad mom account pleasur read book english year honestli say singl bore book ever read never find someon age enjoy stori action suspens deep thing symbol anyth think hard book not classic worst recommend copi dictionari ask read pile not even think buy', 'absolut wast time th grade english teacher tortur morbid book say ever forgiv not book bore hawthorn unnecesari use sort complex languag convey one simpl thought reason give book star art book symbol way overr', 'tediou read hate hawthorn style write bloat self indulg wish get point stop blabber plot book seem like modern melodramat soap opera charact one dimension not go say book poorli written written style make book kind bore tediou read overal disappoint', 'classic realli never understand classic becom classic far school read far mani classic dicken glad dead not read book would probabl kill sheer boredom hawthorn creat ok tale realli get drag suppos realist throw pearl like super human belong fantasi never realli believ whole complet ostrac let stitch everyth bit hypocrit either except prat societi not almost see make sens stori suppos show unforgiv societi better dicken everyth', 'book ok scarlet letter littl bore sometim descript long start lose interest also sometim got confus relationship charact would reccomend book peopl like read lot descript littl dialoug repetit storylin', 'read better year old kid finish read book english class take although interest provkit novel not like much think mayb still young throughli understand piec literatur', 'awaken book masterpiec not american literatur world literatur read book experi show good literatur easili top three along fahrenheit adventur huckleberri finn', 'scarlett letter overal ok not much go lot intern dialogu noth like movi prefer movi book', 'great condit almost exactli expect quit pleas condit book well hardcov footnot definit read review beginn reader genr cours huge fan scarlet letter copi serv purpos well one disappoint color cover seem look littl coral pink scarlet red also back cover white definit one appear would like slightli classic look cover nonetheless bind look fair bookshelf book clean well taken care ship great hast good buy', 'grip novel opera pure simpl grant not easiest novel read hawthorn slightli repetit metaphor simil analog sometim go sever line not mention could probabl read half chapter still keep plot nonetheless theme strong wonder scarlett letter deem classic stori tackl issu one deal sin honesti come price great shame novel take patienc move along neat pace novel written scene less exposit could even grip read reader digest edit come love illustr captur essenc mood novel nice eye candi look last three chapter talk fall floor clutch heart climax breathtak enjoy', 'good read hard navig ebook long want read book nathaniel hawthorn one first book download got kindl charact portray superb analys thought motiv strength weak four major charact stori hester prynn veng doctor hapless minist hester vivaci elf like daughter pearl descript littl girl cope ostrac mother rigid puritan societi especi move descript natur quit vivid text goe develop four charact fascin psycholog studi though time littl slow overal well craft stori good read book though hard navig kindl activ tabl content therefor would not purchas version regular price luckili free', 'star th friend mine call book ponder read th grade go back one keep return mayb respons parent divorc hawthorn handl adulteri not danger desir punish crime hester stori begin outsid jail hous american sex crime read trust dover good cheap reprint', 'love book great read intrigu start finish cant find anyth wrong say would reccomend begin advanc reader', 'rememb high school eon ago purchas kindl surgeri hand one first item download enjoy read look forwa free classic kindl store way go amazon', 'classic love book high school love tale strong woman let societi bring', 'typo irrit part read book typo book alreadi difficult read hawthorn prolix write check differ edit scarlet letter confirm whether not typo also would nice footnot like edit', 'decent book defin not hanri david theraou good book read given classic american literatur much rather like theraou book walden', 'bore tred enjoy novel fact battl halfway hope would get better seem silli pretenti novel histori life era mildli enjoy applaud anyon enough tenac stay whole journey', 'hi c f thi f f hertzberg toughen bc tini c v jim bc cobb h cc mcg cc', 'great great interest book read great experi pl tri soon', 'scarlet letter book wonder good condit purchas daughter highschool book arriv around time state would price great', 'review one book time hate give classic bad review book not noth captur attent found forc read longer would stop catch interest littl end not enough redeem book way', 'amazingli good came book read assign school bit dread heard hawthorn write could hard read actual delight supris find captiv plot well written easi read enjoy thoroughli book woman affair choos bear scarlet letter reveal lover ident along side ilegitam daughter delight hillari strang charact book scarlet letter good book melancholi redeem end defin classic check better expect', 'interest book though not nativ english speaker find difficult read clearli repres period american histori probabl mani would like forget sorri high school student understand someth need done order improv read comprehens interest cultur', 'not idea good read read wors take lot mental energi wade comma figur point paragraph seem lot longer page read forc school introductori thing tortur', 'good book read bore death read book summer time go librari bookstor gotten book birthday aunt back may usual read time good book read less day sometim even take hour book took week believ long took turn read year school ugh pleas read book love old book hard understand', 'well written book scarlet letter great book kept read not bore sens alot symbol make sens purpos instead', 'scarlett letter verbos read scarlett letter honor english class found author verbos describ peopl place situat stori gener book wordi often found forget topic particular paragraph also disturb find ever day reverand dimmesdal would beat stay till earli morn hour', 'bad book student point view not reader type book aw see peopl might like storylin great theme everyth thing book turn hawthorn style come time author get paid word let say take age get point across', 'duller dirt teach high school english requir teach thisto student know suffer fair one america first novel interestingel hawthorn good job hand excruci read nosuspens littl sympath empath evenless enjoy better writer could told samestori half number page labelledthi book tragedi right sens thatit tragic bad', 'must say like book read high school still read everyth could get hand love literatur even major creativ write colleg understood book tri say plot etc thought good job say tri say unnecessarili vagu reason behind tri confus somebodi wordi high flown big stori could told effect short stori even half length reccommend', 'hard follow way charact book speak make dificult follow along tri follow along boar also book mainli base thought not lot human interact main charact', 'histor accur may bore read read classic novel class must admit thoroughli disappoint hawthorn stuck write non fiction book puritan settler book pill mani american author novel could taught school could far exceed entertain level date stori two thumb', 'wonder classic enjoy book much time classic happi copi', 'worth effort read book twice high school pertin written difficult read got book easier becam old english languag extinct beauti worth reviv plan read know see complet differ light recommend cliff note help navig languag theme', 'puritan ostrac easi explain best relat way must robot greatest book ever', 'wast time absolut noth captiv novel throughout novel major event occur one begin one middl one end charact flat difficult relat overal book decent best could complet page hawthorn write total ridicul goe state irrelev detail fill page page unnecessari imageri page consist long paragraph encompass multipl page read class definit would not read not say difficult novel unpleas one end look read great american novel skip one go read steinbeck twain', 'tragic beauti descript tragic stori littl pearl captiv charact opinion good read would recommend jane austen fan', 'great great american classic get free kindl suppos read back high school not interest time benefit age realli appreci', 'nice nice nice good inde like nathaniel hawthorn excit ye agre hester dimmesdal pearl chillingworth', 'classic tale love book well movi alway stray book pleasantli surpris taken charact', 'classic worth read son read school end realli like stori open dialog us parent social situat opinion moral ask review chose review titl star rate', 'not read book pleas beg respect time whatsoev not read book mayb coupl gener completey ignor ceas call classic first written pretti difficult languag fine good book worth effort one definit not author knowledg subtleti messag wrong believ poorli convey second star given use languag sometim impress would sooner read taudri romanc novel read scarlet letter', 'favorit classic anybodi enjoy book read keep scarlet letter librari classic must anybodi valu concept read like first time read give second chanc read six time get better time cherish book', 'scarlet letter review finish book love littl pearl favorit charact languag littl unfamiliar descript eloqu recommend anyon interest religios coloni time', 'excel romanc excel edit hawthorn best work central understand trajectori american cultur puritan modern still mani book allus cryptic contemporari reader footnot appendic make book avail without weight norton edit', 'scarlet letter realli good piec literatur thought scarlet letter great piec literatur brave step hawthorn take book time wrote would definatli recommend reader', 'terribl book not read hawthorn dull prose realli get book fill antiqu languag basic account puritan woman suffer adulteri forc read book english class terribl wast time hawthorn hit face run sentenc take entir page one good thing say book howev insomniac read induc sleep minut zzzzzzzzzzzz', 'meaningless drivel stongli dislik book much meaningless read seven page someth state one paragraph aw webster would abl read not use dictionari understood two chapter see english teacher would like book full empti sentenc hard one read book without mind wander state not kind book', 'worst book ever invari correct opinion call author respons overli extravag flamboy style write drag street summarili execut extrem prejudic crime human english languag', 'choos classic see book get much attent one best novel ever short bore written old english add difficulti even understand finish book say ok point absolut point novel entir chapter novel void dialogu appear wall text descript vagu even tell charact half time', 'hallelujah said finish book novel bore book ever read would never put anoth person tortur read long wind dull attempt scandal excit romanc even though much symbol found one suppos find sleep anoth factor displeasur book love read hesit pick anoth hawthorn piec book becom classic', 'must read everyon need read classic amaz look pious earli settler realli appreci lot', 'teacher not best novel hawthorn work includ one show author remain one celebr american literatur subject matter kid recept like hous seven gabl perhap adult would forcef scarlet letter complet custom hous filler high school lest reader find teacher cynic note five star also dog name hawthorn anoth name prynn', 'good unlik movi avid reader special book english languag movi scarlet letter favorit mine read review novel edit amazon prompt read peopl kept say dissapoint movi vice versa peopl kept say could not deal hawthorn th centuri languag could deal perfectli idiom even though not first languag movi novel excel although differ', 'not kindl readi hard put togeth nice word transcript not kindl readi although textual complet freebi', 'good book seem take awhil get still came within specifi time frame well guess condit book quit accept', 'bore book may one best book th centuri languag theme relat us much scarlet letter bore never seem end realli dislik book', 'bore english teacher assign book one would never read year old enjoy read book good point messag incred dull point hard get understood point discuss class book rather good stori conceal endless symbol refer suggest cliff note version', 'realli hard follow anoth classic book world find extrem hard follow hawthorn lot good point book understand point get puritan time period literatur suggest read lot symbol book', 'fascin look anoth time more cours classic american literatur mind good reason stori engag put one time requir modern reader stretch exercis reward', 'one word outdat book one last masterpiec written american literatur move call old english use much clich old must new english trust show virtual everi book ever written period essenti twain huckleberri finn bear mark incred lavish diction complex structur syntax element make gener hard follow novel elev read next level see beyond simpl plot perciev hawthorn master use symbol metaphor abl appreci probabl last great novel written literari reviv late consid book worthwhil read', 'fore read scarlet letter good long discript book tell anybodi read unless classic book hawthorn fan book also hous seven gabl base one unli rule hawthorn descript book long would gotton plot get wrong plot book good movi even better read deal know hold attenion long fell asleep coupl time', 'tragedi tragedi two way everyon die end choos read experi tragedi compar book lobster peopl say lobster delecaci get shell get meat book classic dissect everi sentenc get gener understand avoid book cost read school better fake concus', 'read find old english word hard understand hard read got far yet take forev get', 'simpli wors book ever read book high school english class hate everi bit actual never finish book not belong list classic must read colleg student thought would give book second chanc someth read person joy read still day wors book ever read life could anyon actual like back enough rate star much less rate neg star', 'activ tabl content rate electron format book realli feel like right complain sinc book free get pay book start introduct stori goe book file actual text book start locat unfortun way find page begin would nice tabl content least bookmaark start actual book', 'not requir high school book would turn young person like self away key enjoy read book extens mistak difficult read unless inerpret everi paragraph say sentenc mayb classic feel word classic come old p reason put star express opinion novel', 'like bad dream wake book like bad soap action drama predict woman cheat husband anoth man babi dad preacher coupl gotten divorc beyond write horribl mayb webster would fun book not high schooler forc read read like punch testicl hurt book hell earth read way give one star', 'landscap book guess read last review even fact descript say landscap think necessari book right guess suppos easier read bed thought would cool scarlet letter red book buy book hold book like wall calendar read two column first two column top page two column bottom seem realli irrit', 'simpl concept sin taboo book great classic exploit idea preacher would unthink make woman pregnant not marri spirit will flesh weak like candid realiti book not white wash everyth complet stori still make sens modern world still happen even day howev type behavior worst possibl outcom exampl not', 'excel gift year daughter delight receiv scarlet letter enjoy read x ma vacat forgotten good literatur excel gift', 'great classic price first time read classic recommend love may want nicer version bookshelf nice qualiti book though print small neither book fit right paperback bookshelf perfectli other like stori could go mani page search review classic outliv us lot say human be cultur past futur one best classic great one get start read', 'miss custom hous daughter need book school specif need edit custom hous look insid book line show includ custom hous book arriv not includ custom hous disappoint took time check need class', 'incred engross absolut love book engross could not put hawthorn wonder descript fascin time histori bring aliv flawless book', 'character scarlet letter scarlet letter overload mani superflu word requir reader sift get actual stori howev strong charact reveal action hawthorn descript stori take place th centuri boston puritan law heavili enforc young woman hester imprison get pregnant commit adulteri babi month old stand center town shame whole town husband happen come town stand scaffold thu stori continu dark spiral hidden friendship reveng immens guilt sin stori histor fiction told year later full symbol ironi human natur societi end rather abrupt hawthorn write deadlin got tire stori', 'illiteraci gener frankli read neg review clear grow bodi illiter among us seem book make one think negaiv review receiv reader agre particular kindl edit cumbersom navig due format still except book worth read not charact developmet quit thorough enjoy give us glimps societi written alway find fascin like classic human natur power consequ action end theme endur feed desir look heart soul other voyeur make classic classic', 'scarlet letter e book great book seen movi book much hold attent easi read even better e book free amazon', 'get avid reader read mani call classic book plain bore yawn realli tri get finish kept fall asleep book contain serious long sentenc reader said skip first chapter seem wrong go read book tri read sorri say not read scarlet letter sorri hawthorn realli realli tri', 'favorit classic love high school love adult great book inform book written well abil keep reader interest book offer charact plot', 'childish novel travesti novel even classifi classic far one bore pointless novel exist plot dribbl sin adultri argument contrast light dark shadow light color overdon quit childish third grade student classifi puriti light sin dark hundr page belabor point real conclus end novel headach fallen asleep dozen time', 'jeff scorn hate stori long preachi bore unless interest catch battl puritan avoid book', 'ugh read book ap english blue book assign word ugh summar experi book written th centuri belong nearli bad someon modern languag use book read dost thou dost thou fun howev highli recommend read richard armour take sl book classic reclassifi', 'book dumb know say book dumb nullifi hard work put not like sure main idea well written summari make book whole good help actual context one bit hard follow comprehend', 'avg rate high bought book underlin everi hint symbol found evid romantic follow everi quot involv themat opposit note everi exampl pearl rebelli natur social alien cannot find one posit aspect novel make hard work feel reward way novel could give warm feel place furnac', 'receiv differ book order specif isbn receiv differ tini book differ appear differ isbn pictur seen onlin not one receiv', 'oh novel absolut aw although receiv review feel duti help bring averag star level belong zero begin perhap run sentenc failur creat signific rise action flat two dimension charact novel full thing not bore reader frustrat well fatal flaw piec literatur inabl stay relev post modern societi not realli care babi daddi revel made end begin novel reproduc daili morn televis la mauri unfortun nathaniel hawthorn father literari disast', 'far littl crime fist fight heard friend comi con not know much heard peopl talk food court thought sound awesom like read die meet cross green lantern crimson crusad order thought graphic novel turn novel less graphic noth like expect unless shame super power unlik hester puritan ladi radioact spider even exist serious think bang pow zort show anywher book almost gave one star roger chillingworth awesom super villain name physiognomi dead well like comic let us know clear bad guy not relat sinc bad guy least fit expect get star', 'get point alreadi long read rememb much hawthorn style irrit interest stori within take way long tell', 'slow move predict stori stori simpl one action speak realli happen final third book battl get dri middl unfortun stori also except easi guessand turn stori not surpris least plu side book give good glimps life puritan earli american commun moral strucutr', 'good book look scarlet letter not dull book get true languag hard read understand time not make uninterest main stori may not consid excit novel full literari element make good book sever fault point perfect puritain town stori take place book use good element like foreshadow foil charact lot symbol main point book hester admit guilt compar lover hide guilt not go tell affair soon figuar see sign scarlet letter book may not excit let keep read realli good', 'great read read read call sucker classic well novel bring forth issu still us today ye book written year ago deal singl mother two parent societi outsid situat townspeopl deal hestor prynn daughter pearl even today seem look upon singl mother noth even though best rais child ren surviv nathaniel hawthorn seem write not earli settler also time time book give five star beauti discript trial tribul singl parenthood', 'horrif forc read never understand forc book school children sure mani classic stori could includ curriculum', 'read page novel stop yet actual complet novel dog gone hard understand top essay due tomorrow relief', 'get assign book sophomor high school year ago get cliff note version help pass test found turgid labori read graduat top high school class master degre despit academ success understand book classic understand hester pack pearl stuff move anoth town tell everyon widow would save everyon alot grief especi young reader like', 'hate book worst book ever read attempt symbol bog unnecessari detail languag top even time period hurl across room one point agit disgust', 'read book got auido book cuz time read book english report exam listen one week great book report great final exam better listen read', 'way bore son forc read book high school english class consid cruel unusu punish believ consitut law prevent school give kid big slop bore insid page reason kid day hate read time read anyth excit interest read stuff like scarlet letter reason nathaniel hawthorn classic wrote fanci dead fact hawthorn never wrote interest word life like went way bore peopl death know much around inspir good stori back think bad drag plot last page whole freakin novel pure insan kid forc read terribl bore fest like hawthorn', 'great plot horribl write believ plot scarlet letter could wonder someth would love read event interest idea think mr hawthorn made bore write style sometim drag forev realli think book consist descript dialogu enjoy book like think written differ author mainli plot could wonder terribl bore', 'get away usual noth say good thing book read book interest point get rather would burn stake read remain chapter finish english class deserv stood read book book one hand dictionari end read chapter time inform get way author address reader want scream sure wonder book messag state back year afterward peopl seem lose interest fact make hs student read book plain homicid stop assign book put student tortur', 'overr pretenti trash novel wide regard overr plot not interest write style tortur plot twist predict typic exampl pre th centuri bad write not say book era crap book certainli', 'scarlet letter one ofth greatest novel literatur scarlet letter nathaniel hawthorn tell life vastli differ live today reject present permiss lifestyl accustom reader entrench gloom doom puritan societi exposur law tell wear think love scarlet letter stori law versu human natur hypocrisi undeni passion enlighten refresh reader taken adventur fulli understand risk live passion beyond limit societi set novel enjoy age scarlet letter masterpiec time', 'classic novel contemporari messag hawthorn masterpiec beauti written skill construct messag subtl yet pervas peopl punish sinner often far nobl punish judg not lest ye judg best worst stori still wonder applic contemporari life perhap presid clinton ought wear big scarlet letter chest rest term', 'read like peel layer rose greater journey delv human heart everi emot one nurtur bare examin hester forthright complex serv guid wander lambrynth privat neart fall sin disappoint still find redempt confess make messag scarlet letter comfort tract day', 'better read adult not great choic teenag well pace surprisingli easi follow despit languag use read year found much palat adult teenag must lesson somewher', 'pay kindl unless correct size font difficult time read book kindl not set text wrap correctli therefor full line text next line singl word anoth full line', 'strong woman worddi realli like book hester protagonist refus obey soceti rule role model women wish free sure made mistak adulteri not right learn mistak realli like read time period differ hard believ hawthorn writer time period', 'slow overwritten drama start great plot actual wrote overwritten take page someth happen protagonist hard like bore sappi novel written tri imit victorian prose coupl twist main charact moron underscor littl action happen', 'great stori bad write sue like nathani hawthorn think plot brilliant find method tell stori annoy afraid assert back lot concret exampl write give vagu feel malais find true short stori well never bother novel read scarlet letter school anyway borrow librari', 'wonder wonder thank erika vaus posit review absolut love book heard novel never consid read plot simpli not interest read academ english class th grader absolut astonish not magnific book theme guilt redempt power heart wrench ignor peer obviou dislik sprung fact not understand pleas pleas read book not sorri promis', 'aw admit right front stupid would rather enjoy book instead tri find way maze confus endless prose hawthorn use found empath chillingworth dimmesdal book not dissect disscuss understood clearli portray themat structur without resort smokescreen vagu symbol word classic stamp forc peopl appreci ye heavili themat full symbol meati whatev deep power dri slow bore even someon gener enjoy classic fall asleep everytim tri read book not tri speed read book place high school english cours need span sever year muddl plod thru tri unravl', 'bore english teacher get book tough nathaniel hawthorn make sex sound bore', 'okay book hawthorn scarlet letter okay book okay plot okay charact book not one teen read book english teacher tell truth not grade would not read teen today not want read ancient custom puritan societi scandal affair hester rev dimmsdal would still best seller think book read voluntarili think read may need reconsid', 'hate book sure would abl understand vivid descript symbol book much better hawthorn not write sort moon man languag know product narcot honestli think hawthorn natur high know say', 'read book book sux care pearl anyway someon shoot head die boredom', 'look fall asleep perfect well im year old english teacher assign book class read chapter gave mayb somewhat interest would read noth modern life assign book time teen life pointless like realli care happen hester fail quizz teacher gave us kid class one book read page sudden realiz think wear today read page book extrem bore not recommend', 'slowli fall asleep book bore tri read without good look movi first get easier understand your class fail everi singl test teacher give decid explain go later bore fell asleep everytim went read', 'one worst book ever read typic forc read even worst book class fun think read book english cours quickli realiz one worst book ever not taken lightli serious certainli not worthi classic bore endless detail one care blah blah blah terribl bore might difficult th grader read either hand brother love', 'gave star worst book ever read lost confus first sentenc would think classic level good book worst piec filth ever read entir life wonder hawthorn lock mother attic mental ill ever wrote book high school student like know hell go guess never want put read book not never commit enough sin put type hell book offer reader not read book oh way decid classic romant book noth romant novel anyth good mood good romanc shoot nora robert sandra brown actual write', 'paralyz fear pain brought archaicli verbos peic literari kindl great read greatli tempt goug eye prevent futur encount mr hawthorn work pleas love thing sacr use cliffnot save year therapi scar live soul torment death forc walk earth search reconcili', 'sin human not talk hester crime talk stupid book hawthorn kept job custom hous see prologu abomin would never spawn cess ridden depth hawthorn twist think organ figur book untoler bore proven cure insomnia mind side effect descript ridicul entangl word mr hawthorn book ignomini dull preserv saniti never read never sleep', 'forc read horribl book ever bloodi begin ah junior year everyon els class forc read book watch horribl origan slow bore movi got done almost everyon whole dang room yell suck right time great gatsbi suck dd surprisngli enjoy great gatsbi movi toward end', 'book wast good paper oh man begin one first want say star rate flatter novel beyond mean scarlett letter one bore piec junk ever assign read realiz ton symbol novel stay awak find point also realli help hawthorn decid use letter word everi sentenc person would recommend novel insomnia patient one rank right tale two citi anoth classic', 'scarlet letter novel cours set england eighteeth centuryh young woman jail crime commt outsid themarriag brand scarlett letter bossom tipic ear time', 'looooooooooooooooong read readili understand old english may abl enjoy novel found pain long even care finish unheard', 'unabl review unfortun say disappoint order order book sept daughter read write report school report due oct date octob not receiv yet contact vendor report last week basic receiv sorri luck leav hand realli care type respons total not impress', 'pain one bore book ever read unfortun not give hawthorn read novel mistak pass one must read school highli suggest get summari onlin', 'incred confus dictionari hand probabl confus worst book ever read author use incred larg word constantli use dictionari els like know hat read point view high school mostli good english student would not recommend book high school age student author need get point not drag page thing not import long setenc also make book drag read book book report would put first page two usual finish everi book start book tear difficult ask english teacher explain read book risk not reccommend anyon', 'save agre hawthorn brillaint writer book horribl simpl phrase action hester walk street would page reflect read alot huge fan john steinbeck j saling mark twian hate book took long nearli imposs read read school good luck otherwis avoid much better classic', 'ick three word describ feel book hate hawthorn write dull dri word mean bad start charact bore', 'confus good high school took littl bit understand abl get basic point stori know read school futur read ahead time way read deadlin make wors read pace understand also second time read see mani thing miss stori much meaning better test quizz even not requir read check not call classic noth', 'sad book repres time past countri asham not time witchcraft witchunt societi will ostrac human adulteri punish enough hester wear chest everyon stare peculiarli not accept normal societi think overli harsh yet whole book reflect time took place well would recommend', 'next best thing sleep pill book liter put sleep could wake morn find book lap stress finish assign read english class mean sentenc line long plot plot incred slow author would tell like not drag page book would third length bore bore bore', 'great never heard author read bit gambl like sound well glad took risk suck charact live anxiou discov thier outcom fate plotlin fell place well wonder despit fact full suspens still page turner love way book written line meant someth line meant new page like new poem made concentr not kind book read half asleep bed time book requir full attent', 'beauti done stori hester master piec worthi highli commend statu howev annot version realli help reader understand histor refer mani archaic word', 'not made shock scarlet letter taught book nation may much symbol convolut mess author complet detach audienc bizarr reason feel explain everi littl thing happen great detail also irrelev modern time day peopl need read thing like huxley orwel fitzgerald bradburi hemmingway steinbeck saling mani great th centuri writer book relev interest time period discuss', 'hate new format didnt realiz order type turn side way bought gift not sure give guess someon might like format dont', 'wonder get past languag barrier book amaz read see tragedi women went one point histori great thing remind us never let histori repeat', 'need dictionari scarlet letter interest book read book fill mani feel enjoy chapter loath one describ charact felt hawthorn could told stori effici describ charact came onto scene book made feel inferior uneduc made mani trip get dictionari leg got tire enjoy gener stori line could left adject behind pearl favorit charact priceless intuit help read book would lost without pearl hint would not read book not requir english teacher attack dare', 'excel portait puritan new england nathaniel hawthorn scarlet letter vivid accur portay life puritan new england prejudic superstit institut societi express well contemporari reader littl knowledg new england histori abl feel oppress religi pressur common societi inde work compar not superior arthur miller crucibl', 'leav one bibliophil ye yr old high school kid tell good book bad one scarlet letter classic tale lover concis novel wordi enjoy peopl say classic romant novel good charact develop good theme ironi blah blah blah like peopl judg book check trap metaphor leav book doctor puritan philosophi your look entertain classic read huck finn twain', 'ye anoth victim read school ok first start book thought dumbest thing could not beliv classic still chapter thought littl better that gave two star also one better book read school still feel littl bore hard follow class discuss understood lot still reccommend book anyon', 'book valu classic book read virtual everi high school student america bargian price', 'good read good read', 'not interest suppos read english class interest heard peopl teacher say american classic good heard friend start read say difficult bore got book audio assist got chapter tri guess mani page left end uniterest difficult stori wander absolutli direct highli recomend get cliff note got easi understand compar book possibl movi might not book visual aid demi moor certainli help mind focu better', 'book incred bore one time bore book not recommend read introduct incred long incred bore also realli sort plot would make book put person fell asleep four differ time read book much higher expect book look classic read would recommend count mont cristo not book', 'forward backward idea first found book dull listen tape abbrevi yet still danger bore listen drive found inde hawthorn introduc advanc idea time write singl mother well muse women right obsess victorian theme deific children fixat bodili sin well overdramat simplif plot equal predict annoy reader book could probabl consid classic tolstoy anna karenina better classifi care craft literari exercis rather engag stori', 'go bring hawthorn back grave hit aghhhhhhhhhhhhhhhhhhh worst book ever read consid open fine lteratur absolut hate book write superb', 'not worth read ye write poetic book say thing feel like learn anyth read book charact rather flat symbol far obviou mani like hawrthorn contest see mani symbol could cram', 'power women read book total fell love love power hand women hawthorn great job illustr kind prejudic societi extend women action equal distribut men even show determin woman overcom whatev advers may present renew pride digniti', 'slow hawthorn excel writer th centuri howev book slow often dialog chapter descript get long bore tediou read book mind start wander rememb happen chapter time abl get read cliff note book', 'good start read book great enthusiasm th grade english gt class summer homework read read start hear name peopl make sens could never figur reverend whatev guy talk went long skim book not abl feel plot whatesoev complet bore book need dictionari whatsoev either probabl need cliff note could understand stori anyon help pleas', 'ugh book keep requir read high school havent author recent time would provid student relev obvious appeal truli literatur lover fantast kid give someth enjoy read mayb learn love literatur book like antagon demor not natur literatur lover', 'classic one worst book ever point life may read snooz fest piti day requir read hawthorn take day make point statement start unbear introduct custom hous last page action humor joy charact studi puritan societi brave woman favor get cliffnot use antistudi com anyon truli believ good either pseudo intellectu enjoy style melvil anyth written hawthorn would give star possibl', 'sex sin bore throughout entir book one part brain state wonder tri imagin anyon could make book scandal sin adulteri public shame cowardic dull finish book test accomplish hate leav thing undon mani fine engag interest novel age hawthorn imagin one would want slog one', 'unfinish classic hardli time book may ruffl feather day struggl get hawthorn write style dreari dread captiv reader aim fail miser', 'american classic complet predict novel seem like beginn attempt write book rather american classic author treat reader complet lack brain state understood complet beat concept death note refer', 'hawthorn masterpiec hawthorn scarlet letter tale secret love adulteri sad everi person read timeless american novel point life strength hester prynn unusu novel compos time publish therefor revolutionari literari work complaint length custom hous howev horribl sound would skip not add plot novel anyway', 'use ap lit read nathaniel hawthorn scarlet letter advanc english class not book would normal pick read glad read scarlet letter deal theme love societi oppress secret charact find well numer classic literatur theme found book challeng read like stori hawthorn explor feel passion conflict religion fascin consid religi perspect although not enjoy book much time read prove quit use took ap literatur composit test year choos one book frantic review day test book chose sure enough book use ap test refer essenti book anyon take ap literatur', 'timeless classic enjoy book lot got past slow part hester prynn found pregnant wedlock sinc reveal ident father forc wear scarlet letter chest rest life give birth girl chang life around end book peopl refer angel instead adulter timeless tale situat could easili happen time period someth wrong way live live afterward determin factor moral charact one event not defin us entir live taken account think nathaniel hawthorn point redempt possibl anyon regardless sin also father remain unknown societi not reader suffer enorm confess good point hide sin person ultim hurt us', 'one greatest book ever written scarlet letter excel book hawthorn spend much time discuss charact thought motiv end book understand peopl act way make seem almost real relat natur charact experienc make stori even power one place told rose bush grew prison seem natur say even though peopl abandon someon could alway count natur love beauti written stori adulteri jealou spous happen day make scarlet letter relat reader great book feel one best ever written', 'not true plumeria scent use live hawaii plumeria abund grow lei excit scent lotion lotion averag bodi lotion consist howev way true plumeria scent would not order plumeria product expens base lotion', 'describ bench easi assembl would suggest someon els help hold part screw togeth otherwis might difficult not design hold larg piec right place put bench front patio uncov usual snow seattl year bench remain uneffect bench also stood seattl rain bench state element proof great summer yard loung well satisfi', 'ultim women wife sever workout book state not one match arnold book not cover subject like eat also goe great detail workout work muscl great book', 'bore love arnold accomplish supris suggest women start use lb weight sorri get result like book good senior limit physic abil', 'dual languag select quixot found excel tool vocabulari build abl understand mean immediatli hope continu buy dual languag book reason', 'best one tomato trilog return killer tomato hilari anthoni stark great j stephen rock peac back lt wilbur finlett best movi killer tomato triolgi', 'pretti fricken sweet know movi look page probabl love bottom line get classic campi dvd case good price dvd hard find person look return horror high quit time decid get set well worth money disappoint', 'ft rule talk hokey plot cheezi act movi great never forgotten decad realli sad movi god georg clooney look young mop hair wait see killer tomato take franc', 'time better first best movi sinc monsturd wait movi better monsturd even not find much better film first film even close good star way excel come back', 'stupid bought grandson love cheesi movi even said movi stupid first killer tomato movi least funni part movi wast money', 'decept warn two song list littl steve written not origin perform', 'warn not download littl steven tri download forev littl steven discipl soul decept list accident download substandard cover version not cent stolen worri local bar band cheat peopl list origin artist perform know perfectli well never studio littl steven', 'warm dish sooooo help sassi babi warm dish great add hot water let sit get babi readi eat away go also keep food warm babi eat bright color also hold babi attent bought two one home one grandma hous sassi babi warm dish color may vari', 'not expect suction dish not realli work thing could get suction glass never realli want warm part suction not satisfi purchas', 'not user friendli dish not easi take apart clean wish could put microwav', 'not worth tri dish coupl time warm food much put warm food plate feed hungri babi anoth unnecessari step feed progress wast time', 'great warm dish love dish tri keep microwav babi food put realli hot water base bowl warm babi food even food fridg keep warm anoth review said dish difficult separ', 'not user freindli product good idea howev fill hole not larg enough fill bottom dishwith hot tap water without get water serv tray put micro extrem hard open bottom compart clean extrem hard open close daughter use abutt knife pri open not good grandmoth hand joint problem keep food warm long perhap go back draw board would help product', 'disappoint mayb time figur plate cannot get suction work direct take apart use suction clean may seem simpl harri mother need detail disappoint utterli useless least far stay put dish purchas', 'not user friendli noth say bpa free nearli imposs disassembl clean hole water tini bottom get hot handl food take awhil warm remain warm minut importantli dish bpa free not seen list bpa free list web noth packag product descript deem', 'sassi babi warm dish vs gerber bowl keep food warm stick tray high chair gerber bowl stick littl divid nice serv complaint difficult get divid bowl bottom', 'look not use warm food tri pain purchas bowl divid stick high chair great would not recommend get look warm dish', 'must children librari order book part third grade curriculum son everyman titl realli wonder beauti bind heavi page amaz illustr not disappoint book kind book read hope pass next gener hawthorn rendit myth fabl classic engag rackham illustr worth price', 'inform return month long trip vietnam cambodia found book extrem use cambodia not much hotel list etc nonsens background inform angkor phnomh penh siem reap vietnam portion help well reli lone planet rough guid vietnam edit countri would definit recommend book someon travel cambodia lone planet edit realli outdat', 'purchas book attempt use resourc trip cambodia juli current inform entir countri section pol pot die cambodia fascin place visit much chang book use', 'edit book outdat book good time everyth relat travel area se asia especi lao chang drastic past three year frankli edit sold remaind someon want info peopl templ could get ethnograph info lao past august publish info except internet updat australian nong khai thailand visa lao wrong outdat especi import thing like avail visa safeti bu road travel real travel info book like old could mislead', 'disappoint book get mix review seem like friend author say great tri actual use book disappoint everyth date edit not updat sinc first edit realli date thing chang sloppi research alway style', 'arriv broken well one get pay kind review pay much expect much basic function would nice gener came broken probabl miswir intern yep check out meter finagl probe insid touch right spot got voltag not extern much troubl return convinc year old go real light power batteri', 'complic still figur put light togeth wire appear delic doubt even work direct atroci least requir batteri feel good not destroy environ much', 'junk thing noth piec junk came broke didnt work wouldnt rate not buy iteam noth piec junk', 'entertain not everybodi although certain sens not like movi one thing find like entertain dare movi take rare look miss today corper hectic kiss butt cultur emot honesti like releas drug even bad music enjoy allow us express know not necessarili act everyday life defin need movi like despit critic may say', 'adam sandler lame ever told decent movi care find adam sandler funni jerri lewi not anim pretti good howev', 'one worst ever seen not buy rent adam sandler offici talent hack not children anyon matter unless lame brain scattolog humor absolut point thing', 'nauseat adam watch movi despit neg review pleas holliday season depress sad pathet sarcast cruel movi ever seen life movi felt go cri depress rest day basic movi guy lost parent childhood twin seriou genet disord singl mom somebodi could find funni beyond want kill holiday spirit get deep depress movi perfect not skip', 'spare movi bizarr combin moral immor seem like one would realli like alway except look sweet christma tale watch christma carol grinch look potti humor watch beavi butthead movi tri end sick humor complet mean cancel moral messag plot tri portray leav viewer noth anyon impress review moral movi pleas bewar far far glimmer moral good humor eclips nasti', 'adam sandler eight crazi night thought big dissapoint crude beyond good tast wish could return dvd receipt trash', 'disappoint movi sad anim clearli made attract children made rude humor disrespect toward other anim could recomend anyon beyond shame adam sandler abil not use postiv purpos', 'crazi night not wast money one review state funniest christma movi ever could not farther truth like mani sandler movi howev movi suck realli bad crude not funni reindeer poop eat poop come irrit not funni old man voic grate made want scream five minut movi movi bore embarrass watch mix compani still believ wast rent', 'clean stori appropri part realli funni horribl sickest humor done movi seen defin not kid expect better mr deed adam sandler realli talent reason produc trash love chanukah song not jew make want celebr chanukah two real redeem featur movi littl old man whitey love everyon action even though treat like stone repent lack better word end', 'star sinc zero star avail believ review turn first minut world anyon watch minut watch minut movi start way one not get time hairdress highli recommend say give day job becom movi critic total garbag', 'eight crazi night tell movi end turn first half hour not appropri children not enterta adult dog even left room wast money', 'parent let kid watch movi someon know bought discount rack think pretend children holiday cartoon noth could truth could not believ disgust piec filth full pervert sexual innuendo movi like not market toward children matter rate tri target make look like children holiday cartoon kept back room video store restrict adult could see absolut tast moral fortitud whatsoev give strongli neg review deserv gave one star let give none', 'sandler da bomb crazi night movi touch hilari adam sandler good seen famili', 'thrid string flop sandler eight crazi night thrid back back unfunni movi follow littl nicki mr deed adam sandler made past two year eight crazi night full toiler humor unfunni one liner may laugh twice movi call eight crazi way ruin comic carrer', 'want money back like one worst movi ever seen went see movi friend want money back movi not funni believ love adam sandler isnt even comedi alot sad part label comedi movi actual happen fairi tale littl kid huge wast money want see real adam sandler comedi wait anger manag rent happi gilmor', 'terribl movi use fan simpson much south park kinda guy near imposs offend realli humor good spot overal fould annoy pointless emot gener plot pretti good alway like sandler sing abil snl work movi bad sing okay person like half content incred gross could make vomit eat sandler great gold', 'not good hanukkah christam movi movi terribl warn spolier may possibl well start davey drunk crude mean get troubl doom commun servic town migiet whitney offenc littl peopl not intent offend anyon whitney sound like woodi allen crack fernal twin sister elenaor better well davey offend whitney place burn move whitney sister set ground rule movi goe make big deal davey littl emot cri sudden big deal reason deer wood talk help whitney whitney suppost santa clau hate music voic annoy charact mostli unlik warn parent keep children lock total bad movi', 'worst movi ever made yeah sound like cheeri holiday movi kid mean spirit movi goe nowher crude rude would expect sandler not even funni way imagin sandler push littl old man port potti hill becom frozen sh tsicl imagin reindeer come lick get sh stuck teeth yup extent humor therein pleas buy sure watch give gift let children watch', 'ive seen worst comedi evericould tell adam sandler movi right startit compil weak joke past movi album actor song put togeth make dissapoint comedi known movi bad hope someon would brought attent yesterday', 'ugh packag come back packag box distort want give christma present even look new', 'awesom huge adam sandler fan year love movi make laugh hard would recommend anyon want chang old old holiday movi two thumb', 'hilari love movi hilari sandler fan especi crack must admit crude part although cover look appeal youngster probabl suitabl young one although must admit lot joke go right head messag good overal stori messag cri whitey think movi move person point cri worth watch hilari tripl breast ladi whitey sister deer signific realli understand must see anyon good stupid sens humour desir coupl laugh', 'adam sandler awesom movi great disc special edit make even better special featur shiznit', 'crazi crazi night movi awesom perfect movi holiday season absolut crazi whitey old man refere movi elenor davey also hilari love movi watch whole famili someth buy great smell later poopsicl funni line best movi world', 'children humor not suitabl children want say first adam sandler fan love snl enjoy everyth billi madison punch drunk love mind high hope eight crazi night say let would understat one worst movi seen recent memori thing remot close funni old man name whitey line might warrant slight chuckl sandler davey stone charact annoy probabl tempt turn movi within first minut treat joke hairi butt woman three breast man eat jock strap deer lick frozen fece sound appeal sure diehard sandler fan think funni hope first anim movi last', 'nightmar hannukah love adam sandler well use love made eight crazi night not cartoon not funni downright trash would not recommend featur anyon eight crazi night short stori long time wear patienc kept watch hope cartoon would redeem need justif wast hour life never get back needless say stuck credit live fact watch movi never get time back sit type away review doubt anyon read wast preciou life ridicul movi humbug watch ishtar get oh award one star amazon insist give everyth least one star protest', 'okay movi wors stargat let start say enjoy adam sandler movi like billi madison happi gilmor sure not great film given plenti laugh tell one dread movi ever watch know bia mr sandler may worst movi ever made cloy stupid unfunni weird pathet bad way could go aw stori grate voic clich schmaltz bad song ye virginia music worst music ever unleash film seen everi music need order fulli understand depth film sink see buy rent send signal make cr p like', 'wors movi seen age gave star let star movi plain horribl year old audienc enjoy juvenil flatul bodili function humor audienc pass ga theater laugh long time wast money anoth adam sandler film', 'honest honest thought movi bore sappi cartoon old guy got nerv movi unlik adam mean come know could done way better stupid movi im sorri think movi horribl', 'suck yeah well movi terribl sandler tri parod classic cartoon music fail everi way possibl mean stupid movi one song great mall anoth song logo differ store sing almost market ploy get peopl go holiday shop film also tri make audienc sympath sandler charact fail seen grinch christma carol mani time actual care jewish scroog movi suck around cheap gross humor may work better live action would defeat purpos film one last comment hell doubl disc dvd sandler good funni movi singular yet movi terrib get extra featur treatment movi suck', 'return forev proto type three musician five effort form return forev imagin strong resembl ecm first album alway love corea farrel puls sound chick add behind joe flute sax etc like rain drop storm nice soprano elvin jone put around joe farrel quartet album buster william bass great much miss mclaughlin dave holland fresh sound unparrel even make want see outback movi album cover beauti final price outstand joe tri funki disco sound lost way', 'inappropri young children two episod word shut use son three year old instantli pick repeat told bad word jame duck train said would stay away one especi young impression youngster gave one star sinc wooden dragon train came', 'dvd featur perci dragonout augest storytel georg carlinstori stop perci dragon donald doglass deput time troubl scarf perci dieasel edward expliotsdvd featur dvd game sing along web fun charat galleryand morealso look upcom dvdsthoma get trick dvdbetter late never dvdon site thoma dvdandcom ride rail dvdand forgetthoma halloween adventur dvdto countinu', 'littl thoma fan love dvd littl thoma fan love thoma dvd matter mani time watch favorit think chang long time thoma provid great life lesson like share care friendship get thumb well', 'yo ho ho arrr matey yer not gonna sail seven sea without ye flag stand yer extrem swashbuckl', 'illeg illeg photocopi appear someon took pictur everi page origin principl scienc fax pictur printer order produc book return immedi', 'boot husband wear boot well made husband wear work love hold well even everi day wear got year last pair also say comfort', 'expens seri need much expens tv show especi consid even origin soundtrack first thing think think three son great music went along show miss way price version much love three son wait origin version releas reason price buy', 'spun best thing heavili formula vehicl elvi open product number includ nice stage adam evil deborah walley girl drummer role deusenberg elvi close product number medium walk blue back everyth els redund', 'road love full danger sign three love young ladi want elvi gearstick craptast music comedi bad rock love titl song sequenc le guy provid elvi lot lot girl chick blond short crop hair liter shove chikade asid get spinout king look like prove realli score never saw part move like elvi look embarrass anyway cross doubl line spinout want simpli aw mean great way', 'els would three beauti women spinout elvi play sing race car driver three beauti women want race aisl marriag shelley fabar dian mcbain deborah walley look like elvi tough decis decid spinout find two veteran star height stardom cecil kellaway una merkel one last role also man play shelley fabar father carl betz also star father donna reed show tri not knock movi got great song titl tune top hit much treat swing film understand elvi want stay singl', 'presley worst film spinout repres nadir elvi cinema bad sitcom without laugh track redeem featur memor song back stop look listen buy soundtrack skip movi', 'music better movi spinout anoth hard movi sit thank weak dialogu even weaker storylin elvi play sing race car driver second time chase three women includ spoil brat shelley fabar erot author dian mcbain drummer deborah walley music actual listen pictur highlight includ stop look listen back elvi appear sleepwalk one appear also disturb slightli overweight hair look like big black ball head not quit worst far best buy someth worthwhil first', 'not good spin presley not presley best vehicl outing not allow act anyway appear go though motion movi song not real treat either seem sing everyon includ enemi music come sing anyway ask movi presley said', 'spinout husband love auto race kind husband love movi write review not much elvi presley fan', 'piec junk would nifti littl contrapt fact chang top primari impetu buy handspr visor lost stylu want pay ship new stylu pack handspr went best buy purchas instead not not chang top fit visor properli entir headpiec fall constantli bottom part stylu get stuck stylu holder oh mention light function work part time not worth time effort', 'work easi use drop fix number drop fix amount water measur enclos test tube given line number drop use list right bottl minut compar color water color chart card give nitrit level plenti easi effect could even easier chart bottl need extra card lie around test stuck gaug water got valu never seen anyth like expir point', 'great buy item arriv well pack undamag look exactli like pictur fairli easi assembl sturdi well made cours assembl requir piec furnitur put togeth look like realli nice qualiti piec daughter love size child small adult think abl use age also conveni hole back hutch comput wire poke look item everywher includ ebay amazon cheapest chair come includ buy extra chair separ', 'great desk best kid desk find money almost guarante come well packag requir littl assembl wood solid not cheap particl board find big box store', 'good qualiti price desk realli pretti good size not overli big room learn review chair includ desk purchas not order chair separ also order match shelf bookcas slightli differ shade white noth notic especi sinc rub beeswax bottom drawer slide easili would recommend anyon want spend fortun still want someth look nice', 'great desk great buy thank amazon bought desk seven year old daughter keep lap top homework not disappoint desk perfect size sit work high qualiti easi put togeth would highli recommend product other', 'love kidkraft love desk fact two one daughter one son beauti flawless go togeth easili sturdi last mani year happi purchas', 'great valu less money search hi low desk would work son small room want desk made wood avail honey finish match furnitur small hutch larg hutch work reason price kidcraft avalon desk perfect took one star realiz short ok yr old son grow afraid outgrow desk would great kidcraft offer taller replac leg desk could rais higher child grow feel desk sturdi enough go child colleg not short height dear kidcraft pleas make taller replac leg desk normal desk height later year make teen kraft desk thank', 'nice desk definit worth money daughter want white desk hutch pick mani not includ chair order one without know first upset hutch not big assembl love love littl cubbi hutch everyth packag nice not one scratch ding funni smell hardwar everyth need extra separ baggi chair desk put togeth hour replac knob blue glass knob hardwar store make littl uniqu guess look great free supersav ship sale tax better buy trust look', 'satisfi pleas desk chair abl assembl fairli easi daughter enjoy much desk quit sturdi chair strong deliveri product expedit quickli thank much', 'great valu good qualiti product love desk chair set bought kg er enjoy use art craft project well homework good qualiti took less hour put togeth definit sturdi materi come mom rambuncti yr old thing see kid grow yr not high chair small cater younger kid would say probabl yr younger', 'good enough popey alway keep fine product person never know palooka wot squar gonna need put place alway leav ya strong finish', 'must aspect love devote huge aspect love fan extrem excit find anoth cast record sceptic howev read review record listen fear put asid wonder record possess brisk conduct deep emot music director felt cast extrem dramat piec well sung listen sever alw cast record feel cast excel must aspect love devote', 'cheap danger though month start go put shard sharp plastic food search net find experi not uniqu either not buy better brand includ unicorn recommend famou cook magazin peugeot firth william bound', 'skip buy full size version one make small fine grind pepper use cook crank away thing ten minut get enough crush pepper flavor anyth', 'slow bought grinder could oper one hand howev disappoint volum pepper put per squeez look good wrist strength train exercis grinder', 'multilevel market meet educ purchas book commun colleg class take textbook complet disappoint scienc sketchi research shoddi huge hole logic brush explan like prove nearli anyth empir educ straight page concept present interest sinc mr jensen hold doctor provid almost citat claim way check assert determin theori come book read like multilevel market sale pitch fact encourag share friend colleagu direct websit could empti bank account get certifi mr jensen uniqu empir unproven techniqu', 'well research easi read practic mr jensen save teacher time gather togeth latest inform brain learn much made scholarli research access fun read wish deadwood school would least read book hope would also use great idea student sake', 'pop psycholog wors mr jensen wife develop verit cottag industri replet workshop seminar present public certif got money someth sell center around term brain base learn book present littl page scientif unsubstanti claim recommend exampl claim color yellow somehow enhanc intellectu perform henc classroom paint yellow howev offer shred evid back claim ridicul stuff ever make print', 'get dead hors old school educ seek outlin educ need practic child left behind book start point peopl learn flow book easi follow consid research find brain learn stage life unlik consid brain research fad know applic knowledg book influenti chang produc posit result student world account tool brain base teach allow student teacher solut level field student less fortun environ politician clueless regard obstacl survivalist poverti highli reccommend book wish get dead hors provid product environ educ st centuri', 'easi read brain inform book purchas phd level cours easi read give practic applic latest brain research note not lot refer document within text jensen quot studi give extens bibliographi book use parent read child brain work teacher within school system good book read want basic inform brain educ standpoint', 'fuzzi around edg read first page book need read rest far though interest seem fuzzi writer make lot claim rare sure proven specul kind sentenc make queasi given activ happen brain physic perform probabl use precent brain p probabl one activ use percent brain physic perform import', 'brain base learn new paradigm teach current read kindl version book book easi read full materi tri class room unfortun page number correspond paper version book text book imposs cite materi page taken realli unaccept text book one thing literatur book even would better physic page number actual book known page number contain kindl version would not purchas would purchas use hard copi', 'brain base learn text book order class teacher certif book easi read realli enjoy present info end section recaptur essenc read would suggest teach class learn much book buy text book amazon much cheaper sometim get free ship far not book could not find amazon', 'pop psycholog worst find hard believ peopl fall stuff write much stuff pull mid air supposedli base brain research unfortun enough take class requir read care jump conclus littl evid back plu neither teacher neurologist found someth write sound like expert plu write seem written let say young reader simplist not alway bad case read care analyz statement look actual scientif proof hard press find either book elsewher total fluff', 'scienc averag breath one nostril three hour tissu becom slightli engorg switch side nostril breath affect brain hemispher use p femal brain process languag feel time far effici male brain p two quot tell need know qualiti scienc contain book lord teach teacher']\n"
          ]
        }
      ]
    },
    {
      "cell_type": "code",
      "source": [
        "len(corpus)"
      ],
      "metadata": {
        "colab": {
          "base_uri": "https://localhost:8080/"
        },
        "id": "F7N73s-xkdU9",
        "outputId": "4ca3b7bf-6318-4781-affa-9636042f151c"
      },
      "execution_count": null,
      "outputs": [
        {
          "output_type": "execute_result",
          "data": {
            "text/plain": [
              "1000"
            ]
          },
          "metadata": {},
          "execution_count": 39
        }
      ]
    },
    {
      "cell_type": "code",
      "source": [],
      "metadata": {
        "id": "JTk7OW_OkdXL"
      },
      "execution_count": null,
      "outputs": []
    },
    {
      "cell_type": "markdown",
      "source": [
        "# Back of words"
      ],
      "metadata": {
        "id": "ezLELMhLkgs7"
      }
    },
    {
      "cell_type": "code",
      "source": [
        "from sklearn.feature_extraction.text import CountVectorizer"
      ],
      "metadata": {
        "id": "eXwJwYawkdcO"
      },
      "execution_count": null,
      "outputs": []
    },
    {
      "cell_type": "code",
      "source": [
        "cv = CountVectorizer(max_features=1500)"
      ],
      "metadata": {
        "id": "d1W7homZkder"
      },
      "execution_count": null,
      "outputs": []
    },
    {
      "cell_type": "code",
      "source": [
        "x = cv.fit_transform(corpus).toarray()\n",
        "y = dataset.iloc[:1000, 0].values"
      ],
      "metadata": {
        "id": "HYjyllqYkk7V"
      },
      "execution_count": null,
      "outputs": []
    },
    {
      "cell_type": "code",
      "source": [
        "x.shape"
      ],
      "metadata": {
        "colab": {
          "base_uri": "https://localhost:8080/"
        },
        "id": "wJKkIkWXlCEG",
        "outputId": "872faa77-0322-45ed-a275-179ed15aee7f"
      },
      "execution_count": null,
      "outputs": [
        {
          "output_type": "execute_result",
          "data": {
            "text/plain": [
              "(1000, 1500)"
            ]
          },
          "metadata": {},
          "execution_count": 42
        }
      ]
    },
    {
      "cell_type": "code",
      "source": [
        "y.shape"
      ],
      "metadata": {
        "colab": {
          "base_uri": "https://localhost:8080/"
        },
        "id": "MoXDaALWlDOV",
        "outputId": "65a5317f-3722-45da-9a7a-d52258c0ed92"
      },
      "execution_count": null,
      "outputs": [
        {
          "output_type": "execute_result",
          "data": {
            "text/plain": [
              "(1000,)"
            ]
          },
          "metadata": {},
          "execution_count": 43
        }
      ]
    },
    {
      "cell_type": "code",
      "source": [],
      "metadata": {
        "id": "VQDHd5Q6lERq"
      },
      "execution_count": null,
      "outputs": []
    },
    {
      "cell_type": "markdown",
      "source": [
        "# Split the dataset"
      ],
      "metadata": {
        "id": "8zJTa3_ymB2g"
      }
    },
    {
      "cell_type": "code",
      "source": [
        "from sklearn.model_selection import train_test_split\n",
        "x_train, x_test, y_train, y_test = train_test_split(x,y, test_size =0.2)"
      ],
      "metadata": {
        "id": "LaZ4NH3YmDaG"
      },
      "execution_count": null,
      "outputs": []
    },
    {
      "cell_type": "code",
      "source": [
        "x_train.shape"
      ],
      "metadata": {
        "colab": {
          "base_uri": "https://localhost:8080/"
        },
        "id": "Ihe1Ny98mFCQ",
        "outputId": "e9f75029-67ab-4979-ecfd-88cc80eb87dd"
      },
      "execution_count": null,
      "outputs": [
        {
          "output_type": "execute_result",
          "data": {
            "text/plain": [
              "(800, 1500)"
            ]
          },
          "metadata": {},
          "execution_count": 45
        }
      ]
    },
    {
      "cell_type": "code",
      "source": [
        "y_test.shape"
      ],
      "metadata": {
        "colab": {
          "base_uri": "https://localhost:8080/"
        },
        "id": "N-wTeZlnmGHn",
        "outputId": "410f642a-2e43-46ba-c038-e1f74db5f3af"
      },
      "execution_count": null,
      "outputs": [
        {
          "output_type": "execute_result",
          "data": {
            "text/plain": [
              "(200,)"
            ]
          },
          "metadata": {},
          "execution_count": 46
        }
      ]
    },
    {
      "cell_type": "code",
      "source": [],
      "metadata": {
        "id": "vZXLDuxemIcP"
      },
      "execution_count": null,
      "outputs": []
    },
    {
      "cell_type": "markdown",
      "source": [
        "# Model"
      ],
      "metadata": {
        "id": "2bJxgtG-mJyY"
      }
    },
    {
      "cell_type": "markdown",
      "source": [
        "naive bayes"
      ],
      "metadata": {
        "id": "m95-vMIFrPrF"
      }
    },
    {
      "cell_type": "code",
      "source": [
        "from sklearn.naive_bayes import GaussianNB\n",
        "classifier_nb = GaussianNB()\n",
        "classifier_nb.fit(x_train, y_train)"
      ],
      "metadata": {
        "colab": {
          "base_uri": "https://localhost:8080/",
          "height": 75
        },
        "id": "w7Rl8v7TmKXk",
        "outputId": "8102e90f-0bef-4e84-c1ab-b63b51ddd760"
      },
      "execution_count": null,
      "outputs": [
        {
          "output_type": "execute_result",
          "data": {
            "text/plain": [
              "GaussianNB()"
            ],
            "text/html": [
              "<style>#sk-container-id-1 {color: black;background-color: white;}#sk-container-id-1 pre{padding: 0;}#sk-container-id-1 div.sk-toggleable {background-color: white;}#sk-container-id-1 label.sk-toggleable__label {cursor: pointer;display: block;width: 100%;margin-bottom: 0;padding: 0.3em;box-sizing: border-box;text-align: center;}#sk-container-id-1 label.sk-toggleable__label-arrow:before {content: \"▸\";float: left;margin-right: 0.25em;color: #696969;}#sk-container-id-1 label.sk-toggleable__label-arrow:hover:before {color: black;}#sk-container-id-1 div.sk-estimator:hover label.sk-toggleable__label-arrow:before {color: black;}#sk-container-id-1 div.sk-toggleable__content {max-height: 0;max-width: 0;overflow: hidden;text-align: left;background-color: #f0f8ff;}#sk-container-id-1 div.sk-toggleable__content pre {margin: 0.2em;color: black;border-radius: 0.25em;background-color: #f0f8ff;}#sk-container-id-1 input.sk-toggleable__control:checked~div.sk-toggleable__content {max-height: 200px;max-width: 100%;overflow: auto;}#sk-container-id-1 input.sk-toggleable__control:checked~label.sk-toggleable__label-arrow:before {content: \"▾\";}#sk-container-id-1 div.sk-estimator input.sk-toggleable__control:checked~label.sk-toggleable__label {background-color: #d4ebff;}#sk-container-id-1 div.sk-label input.sk-toggleable__control:checked~label.sk-toggleable__label {background-color: #d4ebff;}#sk-container-id-1 input.sk-hidden--visually {border: 0;clip: rect(1px 1px 1px 1px);clip: rect(1px, 1px, 1px, 1px);height: 1px;margin: -1px;overflow: hidden;padding: 0;position: absolute;width: 1px;}#sk-container-id-1 div.sk-estimator {font-family: monospace;background-color: #f0f8ff;border: 1px dotted black;border-radius: 0.25em;box-sizing: border-box;margin-bottom: 0.5em;}#sk-container-id-1 div.sk-estimator:hover {background-color: #d4ebff;}#sk-container-id-1 div.sk-parallel-item::after {content: \"\";width: 100%;border-bottom: 1px solid gray;flex-grow: 1;}#sk-container-id-1 div.sk-label:hover label.sk-toggleable__label {background-color: #d4ebff;}#sk-container-id-1 div.sk-serial::before {content: \"\";position: absolute;border-left: 1px solid gray;box-sizing: border-box;top: 0;bottom: 0;left: 50%;z-index: 0;}#sk-container-id-1 div.sk-serial {display: flex;flex-direction: column;align-items: center;background-color: white;padding-right: 0.2em;padding-left: 0.2em;position: relative;}#sk-container-id-1 div.sk-item {position: relative;z-index: 1;}#sk-container-id-1 div.sk-parallel {display: flex;align-items: stretch;justify-content: center;background-color: white;position: relative;}#sk-container-id-1 div.sk-item::before, #sk-container-id-1 div.sk-parallel-item::before {content: \"\";position: absolute;border-left: 1px solid gray;box-sizing: border-box;top: 0;bottom: 0;left: 50%;z-index: -1;}#sk-container-id-1 div.sk-parallel-item {display: flex;flex-direction: column;z-index: 1;position: relative;background-color: white;}#sk-container-id-1 div.sk-parallel-item:first-child::after {align-self: flex-end;width: 50%;}#sk-container-id-1 div.sk-parallel-item:last-child::after {align-self: flex-start;width: 50%;}#sk-container-id-1 div.sk-parallel-item:only-child::after {width: 0;}#sk-container-id-1 div.sk-dashed-wrapped {border: 1px dashed gray;margin: 0 0.4em 0.5em 0.4em;box-sizing: border-box;padding-bottom: 0.4em;background-color: white;}#sk-container-id-1 div.sk-label label {font-family: monospace;font-weight: bold;display: inline-block;line-height: 1.2em;}#sk-container-id-1 div.sk-label-container {text-align: center;}#sk-container-id-1 div.sk-container {/* jupyter's `normalize.less` sets `[hidden] { display: none; }` but bootstrap.min.css set `[hidden] { display: none !important; }` so we also need the `!important` here to be able to override the default hidden behavior on the sphinx rendered scikit-learn.org. See: https://github.com/scikit-learn/scikit-learn/issues/21755 */display: inline-block !important;position: relative;}#sk-container-id-1 div.sk-text-repr-fallback {display: none;}</style><div id=\"sk-container-id-1\" class=\"sk-top-container\"><div class=\"sk-text-repr-fallback\"><pre>GaussianNB()</pre><b>In a Jupyter environment, please rerun this cell to show the HTML representation or trust the notebook. <br />On GitHub, the HTML representation is unable to render, please try loading this page with nbviewer.org.</b></div><div class=\"sk-container\" hidden><div class=\"sk-item\"><div class=\"sk-estimator sk-toggleable\"><input class=\"sk-toggleable__control sk-hidden--visually\" id=\"sk-estimator-id-1\" type=\"checkbox\" checked><label for=\"sk-estimator-id-1\" class=\"sk-toggleable__label sk-toggleable__label-arrow\">GaussianNB</label><div class=\"sk-toggleable__content\"><pre>GaussianNB()</pre></div></div></div></div></div>"
            ]
          },
          "metadata": {},
          "execution_count": 47
        }
      ]
    },
    {
      "cell_type": "code",
      "source": [
        "y_pred = classifier_nb.predict(x_test)"
      ],
      "metadata": {
        "id": "1ImUIxpXmMIZ"
      },
      "execution_count": null,
      "outputs": []
    },
    {
      "cell_type": "code",
      "source": [
        "from sklearn.metrics import accuracy_score, confusion_matrix\n",
        "\n",
        "acc = accuracy_score(y_test, y_pred)\n",
        "print(acc*100)"
      ],
      "metadata": {
        "colab": {
          "base_uri": "https://localhost:8080/"
        },
        "id": "OJhqabBNmOgs",
        "outputId": "6f6dd957-573b-441b-8985-a0dc80b174a4"
      },
      "execution_count": null,
      "outputs": [
        {
          "output_type": "stream",
          "name": "stdout",
          "text": [
            "63.0\n"
          ]
        }
      ]
    },
    {
      "cell_type": "code",
      "source": [
        "cm = confusion_matrix(y_test, y_pred)\n",
        "print(cm)"
      ],
      "metadata": {
        "colab": {
          "base_uri": "https://localhost:8080/"
        },
        "id": "tr-fb8bpmP2g",
        "outputId": "bcc7f3b8-8446-40a8-bbbc-8f287fea0a1e"
      },
      "execution_count": null,
      "outputs": [
        {
          "output_type": "stream",
          "name": "stdout",
          "text": [
            "[[64 43]\n",
            " [31 62]]\n"
          ]
        }
      ]
    },
    {
      "cell_type": "code",
      "source": [],
      "metadata": {
        "id": "_7tpsJW3mRKp"
      },
      "execution_count": null,
      "outputs": []
    },
    {
      "cell_type": "markdown",
      "source": [
        "xgb"
      ],
      "metadata": {
        "id": "G07vwhGwmSxp"
      }
    },
    {
      "cell_type": "code",
      "source": [
        "from xgboost import XGBClassifier\n",
        "classifier_xgb = XGBClassifier()\n",
        "classifier_xgb.fit(x_train, y_train)"
      ],
      "metadata": {
        "colab": {
          "base_uri": "https://localhost:8080/",
          "height": 248
        },
        "id": "bYX_QXiwmTpi",
        "outputId": "0d850895-a4f1-4476-92e3-8000b5649894"
      },
      "execution_count": null,
      "outputs": [
        {
          "output_type": "execute_result",
          "data": {
            "text/plain": [
              "XGBClassifier(base_score=None, booster=None, callbacks=None,\n",
              "              colsample_bylevel=None, colsample_bynode=None,\n",
              "              colsample_bytree=None, device=None, early_stopping_rounds=None,\n",
              "              enable_categorical=False, eval_metric=None, feature_types=None,\n",
              "              gamma=None, grow_policy=None, importance_type=None,\n",
              "              interaction_constraints=None, learning_rate=None, max_bin=None,\n",
              "              max_cat_threshold=None, max_cat_to_onehot=None,\n",
              "              max_delta_step=None, max_depth=None, max_leaves=None,\n",
              "              min_child_weight=None, missing=nan, monotone_constraints=None,\n",
              "              multi_strategy=None, n_estimators=None, n_jobs=None,\n",
              "              num_parallel_tree=None, random_state=None, ...)"
            ],
            "text/html": [
              "<style>#sk-container-id-2 {color: black;background-color: white;}#sk-container-id-2 pre{padding: 0;}#sk-container-id-2 div.sk-toggleable {background-color: white;}#sk-container-id-2 label.sk-toggleable__label {cursor: pointer;display: block;width: 100%;margin-bottom: 0;padding: 0.3em;box-sizing: border-box;text-align: center;}#sk-container-id-2 label.sk-toggleable__label-arrow:before {content: \"▸\";float: left;margin-right: 0.25em;color: #696969;}#sk-container-id-2 label.sk-toggleable__label-arrow:hover:before {color: black;}#sk-container-id-2 div.sk-estimator:hover label.sk-toggleable__label-arrow:before {color: black;}#sk-container-id-2 div.sk-toggleable__content {max-height: 0;max-width: 0;overflow: hidden;text-align: left;background-color: #f0f8ff;}#sk-container-id-2 div.sk-toggleable__content pre {margin: 0.2em;color: black;border-radius: 0.25em;background-color: #f0f8ff;}#sk-container-id-2 input.sk-toggleable__control:checked~div.sk-toggleable__content {max-height: 200px;max-width: 100%;overflow: auto;}#sk-container-id-2 input.sk-toggleable__control:checked~label.sk-toggleable__label-arrow:before {content: \"▾\";}#sk-container-id-2 div.sk-estimator input.sk-toggleable__control:checked~label.sk-toggleable__label {background-color: #d4ebff;}#sk-container-id-2 div.sk-label input.sk-toggleable__control:checked~label.sk-toggleable__label {background-color: #d4ebff;}#sk-container-id-2 input.sk-hidden--visually {border: 0;clip: rect(1px 1px 1px 1px);clip: rect(1px, 1px, 1px, 1px);height: 1px;margin: -1px;overflow: hidden;padding: 0;position: absolute;width: 1px;}#sk-container-id-2 div.sk-estimator {font-family: monospace;background-color: #f0f8ff;border: 1px dotted black;border-radius: 0.25em;box-sizing: border-box;margin-bottom: 0.5em;}#sk-container-id-2 div.sk-estimator:hover {background-color: #d4ebff;}#sk-container-id-2 div.sk-parallel-item::after {content: \"\";width: 100%;border-bottom: 1px solid gray;flex-grow: 1;}#sk-container-id-2 div.sk-label:hover label.sk-toggleable__label {background-color: #d4ebff;}#sk-container-id-2 div.sk-serial::before {content: \"\";position: absolute;border-left: 1px solid gray;box-sizing: border-box;top: 0;bottom: 0;left: 50%;z-index: 0;}#sk-container-id-2 div.sk-serial {display: flex;flex-direction: column;align-items: center;background-color: white;padding-right: 0.2em;padding-left: 0.2em;position: relative;}#sk-container-id-2 div.sk-item {position: relative;z-index: 1;}#sk-container-id-2 div.sk-parallel {display: flex;align-items: stretch;justify-content: center;background-color: white;position: relative;}#sk-container-id-2 div.sk-item::before, #sk-container-id-2 div.sk-parallel-item::before {content: \"\";position: absolute;border-left: 1px solid gray;box-sizing: border-box;top: 0;bottom: 0;left: 50%;z-index: -1;}#sk-container-id-2 div.sk-parallel-item {display: flex;flex-direction: column;z-index: 1;position: relative;background-color: white;}#sk-container-id-2 div.sk-parallel-item:first-child::after {align-self: flex-end;width: 50%;}#sk-container-id-2 div.sk-parallel-item:last-child::after {align-self: flex-start;width: 50%;}#sk-container-id-2 div.sk-parallel-item:only-child::after {width: 0;}#sk-container-id-2 div.sk-dashed-wrapped {border: 1px dashed gray;margin: 0 0.4em 0.5em 0.4em;box-sizing: border-box;padding-bottom: 0.4em;background-color: white;}#sk-container-id-2 div.sk-label label {font-family: monospace;font-weight: bold;display: inline-block;line-height: 1.2em;}#sk-container-id-2 div.sk-label-container {text-align: center;}#sk-container-id-2 div.sk-container {/* jupyter's `normalize.less` sets `[hidden] { display: none; }` but bootstrap.min.css set `[hidden] { display: none !important; }` so we also need the `!important` here to be able to override the default hidden behavior on the sphinx rendered scikit-learn.org. See: https://github.com/scikit-learn/scikit-learn/issues/21755 */display: inline-block !important;position: relative;}#sk-container-id-2 div.sk-text-repr-fallback {display: none;}</style><div id=\"sk-container-id-2\" class=\"sk-top-container\"><div class=\"sk-text-repr-fallback\"><pre>XGBClassifier(base_score=None, booster=None, callbacks=None,\n",
              "              colsample_bylevel=None, colsample_bynode=None,\n",
              "              colsample_bytree=None, device=None, early_stopping_rounds=None,\n",
              "              enable_categorical=False, eval_metric=None, feature_types=None,\n",
              "              gamma=None, grow_policy=None, importance_type=None,\n",
              "              interaction_constraints=None, learning_rate=None, max_bin=None,\n",
              "              max_cat_threshold=None, max_cat_to_onehot=None,\n",
              "              max_delta_step=None, max_depth=None, max_leaves=None,\n",
              "              min_child_weight=None, missing=nan, monotone_constraints=None,\n",
              "              multi_strategy=None, n_estimators=None, n_jobs=None,\n",
              "              num_parallel_tree=None, random_state=None, ...)</pre><b>In a Jupyter environment, please rerun this cell to show the HTML representation or trust the notebook. <br />On GitHub, the HTML representation is unable to render, please try loading this page with nbviewer.org.</b></div><div class=\"sk-container\" hidden><div class=\"sk-item\"><div class=\"sk-estimator sk-toggleable\"><input class=\"sk-toggleable__control sk-hidden--visually\" id=\"sk-estimator-id-2\" type=\"checkbox\" checked><label for=\"sk-estimator-id-2\" class=\"sk-toggleable__label sk-toggleable__label-arrow\">XGBClassifier</label><div class=\"sk-toggleable__content\"><pre>XGBClassifier(base_score=None, booster=None, callbacks=None,\n",
              "              colsample_bylevel=None, colsample_bynode=None,\n",
              "              colsample_bytree=None, device=None, early_stopping_rounds=None,\n",
              "              enable_categorical=False, eval_metric=None, feature_types=None,\n",
              "              gamma=None, grow_policy=None, importance_type=None,\n",
              "              interaction_constraints=None, learning_rate=None, max_bin=None,\n",
              "              max_cat_threshold=None, max_cat_to_onehot=None,\n",
              "              max_delta_step=None, max_depth=None, max_leaves=None,\n",
              "              min_child_weight=None, missing=nan, monotone_constraints=None,\n",
              "              multi_strategy=None, n_estimators=None, n_jobs=None,\n",
              "              num_parallel_tree=None, random_state=None, ...)</pre></div></div></div></div></div>"
            ]
          },
          "metadata": {},
          "execution_count": 51
        }
      ]
    },
    {
      "cell_type": "code",
      "source": [
        "y_pred = classifier_xgb.predict(x_test)"
      ],
      "metadata": {
        "id": "vwBKepyFmT5p"
      },
      "execution_count": null,
      "outputs": []
    },
    {
      "cell_type": "code",
      "source": [
        "acc = accuracy_score(y_test, y_pred)\n",
        "print(acc*100)"
      ],
      "metadata": {
        "colab": {
          "base_uri": "https://localhost:8080/"
        },
        "id": "b9tshGcAmVgT",
        "outputId": "337032d4-c262-460c-e7bc-b105a455617f"
      },
      "execution_count": null,
      "outputs": [
        {
          "output_type": "stream",
          "name": "stdout",
          "text": [
            "79.5\n"
          ]
        }
      ]
    },
    {
      "cell_type": "code",
      "source": [
        "cm = confusion_matrix(y_test, y_pred)\n",
        "print(cm)"
      ],
      "metadata": {
        "colab": {
          "base_uri": "https://localhost:8080/"
        },
        "id": "2f9wwsqVmWso",
        "outputId": "4a86b6bb-9fed-4d07-9d01-fcaf29d3f036"
      },
      "execution_count": null,
      "outputs": [
        {
          "output_type": "stream",
          "name": "stdout",
          "text": [
            "[[87 20]\n",
            " [21 72]]\n"
          ]
        }
      ]
    },
    {
      "cell_type": "code",
      "source": [],
      "metadata": {
        "id": "C-n9-0INmYf1"
      },
      "execution_count": null,
      "outputs": []
    }
  ]
}