{
 "cells": [
  {
   "cell_type": "code",
   "execution_count": null,
   "metadata": {},
   "outputs": [],
   "source": []
  },
  {
   "cell_type": "markdown",
   "metadata": {},
   "source": [
    "dataset: https://www.kaggle.com/datasets/drgfreeman/rockpaperscissors"
   ]
  },
  {
   "cell_type": "markdown",
   "metadata": {},
   "source": [
    "# Image Classification using CNN"
   ]
  },
  {
   "cell_type": "code",
   "execution_count": 1,
   "metadata": {},
   "outputs": [],
   "source": [
    "# Rock paper scissors classification"
   ]
  },
  {
   "cell_type": "code",
   "execution_count": 2,
   "metadata": {},
   "outputs": [
    {
     "name": "stdout",
     "output_type": "stream",
     "text": [
      "WARNING:tensorflow:From c:\\Users\\seung\\anaconda3\\Lib\\site-packages\\keras\\src\\losses.py:2976: The name tf.losses.sparse_softmax_cross_entropy is deprecated. Please use tf.compat.v1.losses.sparse_softmax_cross_entropy instead.\n",
      "\n"
     ]
    }
   ],
   "source": [
    "import zipfile\n",
    "import numpy as np\n",
    "from IPython.display import Image\n",
    "\n",
    "import tensorflow as tf\n",
    "from tensorflow.keras.layers import Conv2D, MaxPooling2D, Flatten, Dropout, Dense\n",
    "from tensorflow.keras.models import Sequential\n",
    "from tensorflow.keras.preprocessing.image import ImageDataGenerator\n",
    "from tensorflow.keras.callbacks import ModelCheckpoint"
   ]
  },
  {
   "cell_type": "code",
   "execution_count": 12,
   "metadata": {},
   "outputs": [
    {
     "name": "stdout",
     "output_type": "stream",
     "text": [
      "Dataset is extracted to: C:/Users/seung/Desktop/Learning/side_projects/extracted_dataset/\n"
     ]
    }
   ],
   "source": [
    "# Path to the local zip file\n",
    "local_zip = 'C:/Users/seung/Desktop/Learning/side_projects/archive.zip'\n",
    "\n",
    "# Directory where you want to extract the contents\n",
    "extraction_dir = 'C:/Users/seung/Desktop/Learning/side_projects/extracted_dataset'\n",
    "\n",
    "# Extract the zip file\n",
    "zip_ref = zipfile.ZipFile(local_zip, 'r')\n",
    "zip_ref.extractall(extraction_dir)\n",
    "zip_ref.close()\n",
    "\n",
    "# Set TRAINING_DIR to the directory where the dataset has been extracted\n",
    "# Assuming the dataset structure is directly under 'extracted_dataset'\n",
    "TRAINING_DIR = extraction_dir + '/'\n",
    "\n",
    "print(f\"Dataset is extracted to: {TRAINING_DIR}\")"
   ]
  },
  {
   "cell_type": "code",
   "execution_count": 13,
   "metadata": {},
   "outputs": [],
   "source": [
    "training_datagen = ImageDataGenerator(\n",
    "    rescale=1. / 255,\n",
    "    rotation_range=20,\n",
    "    width_shift_range=0.2,\n",
    "    height_shift_range=0.2,\n",
    "    shear_range=0.2,\n",
    "    zoom_range=0.2,\n",
    "    horizontal_flip=True,\n",
    "    fill_mode='nearest', \n",
    "    validation_split=0.2\n",
    "    )"
   ]
  },
  {
   "cell_type": "code",
   "execution_count": 20,
   "metadata": {},
   "outputs": [
    {
     "name": "stdout",
     "output_type": "stream",
     "text": [
      "Found 1751 images belonging to 3 classes.\n"
     ]
    }
   ],
   "source": [
    "training_generator = training_datagen.flow_from_directory(TRAINING_DIR, \n",
    "                                                          batch_size=128, \n",
    "                                                          target_size=(130, 130), \n",
    "                                                          class_mode='categorical', \n",
    "                                                          subset='training',\n",
    "                                                         )"
   ]
  },
  {
   "cell_type": "code",
   "execution_count": 21,
   "metadata": {},
   "outputs": [
    {
     "name": "stdout",
     "output_type": "stream",
     "text": [
      "Found 437 images belonging to 3 classes.\n"
     ]
    }
   ],
   "source": [
    "validation_generator = training_datagen.flow_from_directory(TRAINING_DIR, \n",
    "                                                          batch_size=128, \n",
    "                                                          target_size=(130, 130), \n",
    "                                                          class_mode='categorical',\n",
    "                                                          subset='validation', \n",
    "                                                         )"
   ]
  },
  {
   "cell_type": "code",
   "execution_count": 22,
   "metadata": {},
   "outputs": [],
   "source": [
    "model = Sequential([\n",
    "    \n",
    "    Conv2D(64, (3, 3), activation='relu', input_shape=(130, 130, 3)),\n",
    "    MaxPooling2D(2, 2), \n",
    "    Conv2D(64, (3, 3), activation='relu'),\n",
    "    MaxPooling2D(2, 2), \n",
    "    Conv2D(128, (3, 3), activation='relu'),\n",
    "    MaxPooling2D(2, 2), \n",
    "    Conv2D(128, (3, 3), activation='relu'),\n",
    "    MaxPooling2D(2, 2),\n",
    "    \n",
    "    Flatten(),\n",
    "    # dropout\n",
    "    Dropout(0.5),\n",
    "    Dense(512, activation='relu'),\n",
    "    # Dense\n",
    "    # Classification Softmax \n",
    "    Dense(3, activation='softmax'),\n",
    "    \n",
    "])"
   ]
  },
  {
   "cell_type": "code",
   "execution_count": 23,
   "metadata": {},
   "outputs": [
    {
     "name": "stdout",
     "output_type": "stream",
     "text": [
      "Model: \"sequential_2\"\n",
      "_________________________________________________________________\n",
      " Layer (type)                Output Shape              Param #   \n",
      "=================================================================\n",
      " conv2d_8 (Conv2D)           (None, 128, 128, 64)      1792      \n",
      "                                                                 \n",
      " max_pooling2d_8 (MaxPoolin  (None, 64, 64, 64)        0         \n",
      " g2D)                                                            \n",
      "                                                                 \n",
      " conv2d_9 (Conv2D)           (None, 62, 62, 64)        36928     \n",
      "                                                                 \n",
      " max_pooling2d_9 (MaxPoolin  (None, 31, 31, 64)        0         \n",
      " g2D)                                                            \n",
      "                                                                 \n",
      " conv2d_10 (Conv2D)          (None, 29, 29, 128)       73856     \n",
      "                                                                 \n",
      " max_pooling2d_10 (MaxPooli  (None, 14, 14, 128)       0         \n",
      " ng2D)                                                           \n",
      "                                                                 \n",
      " conv2d_11 (Conv2D)          (None, 12, 12, 128)       147584    \n",
      "                                                                 \n",
      " max_pooling2d_11 (MaxPooli  (None, 6, 6, 128)         0         \n",
      " ng2D)                                                           \n",
      "                                                                 \n",
      " flatten_2 (Flatten)         (None, 4608)              0         \n",
      "                                                                 \n",
      " dropout_2 (Dropout)         (None, 4608)              0         \n",
      "                                                                 \n",
      " dense_4 (Dense)             (None, 512)               2359808   \n",
      "                                                                 \n",
      " dense_5 (Dense)             (None, 3)                 1539      \n",
      "                                                                 \n",
      "=================================================================\n",
      "Total params: 2621507 (10.00 MB)\n",
      "Trainable params: 2621507 (10.00 MB)\n",
      "Non-trainable params: 0 (0.00 Byte)\n",
      "_________________________________________________________________\n"
     ]
    }
   ],
   "source": [
    "model.summary()"
   ]
  },
  {
   "cell_type": "code",
   "execution_count": 24,
   "metadata": {},
   "outputs": [],
   "source": [
    "model.compile(optimizer='adam', loss='categorical_crossentropy', metrics=['acc'])"
   ]
  },
  {
   "cell_type": "code",
   "execution_count": 25,
   "metadata": {},
   "outputs": [
    {
     "name": "stdout",
     "output_type": "stream",
     "text": [
      "Epoch 1/25\n",
      "14/14 [==============================] - 9s 641ms/step - loss: 1.0953 - acc: 0.3792 - val_loss: 1.0203 - val_acc: 0.5721\n",
      "Epoch 2/25\n",
      "14/14 [==============================] - 9s 620ms/step - loss: 0.9061 - acc: 0.5854 - val_loss: 0.6463 - val_acc: 0.7506\n",
      "Epoch 3/25\n",
      "14/14 [==============================] - 8s 596ms/step - loss: 0.5722 - acc: 0.7613 - val_loss: 0.4460 - val_acc: 0.8284\n",
      "Epoch 4/25\n",
      "14/14 [==============================] - 8s 598ms/step - loss: 0.4280 - acc: 0.8281 - val_loss: 0.4003 - val_acc: 0.8330\n",
      "Epoch 5/25\n",
      "14/14 [==============================] - 8s 611ms/step - loss: 0.4834 - acc: 0.8127 - val_loss: 0.3660 - val_acc: 0.8719\n",
      "Epoch 6/25\n",
      "14/14 [==============================] - 8s 596ms/step - loss: 0.4107 - acc: 0.8487 - val_loss: 0.3225 - val_acc: 0.8833\n",
      "Epoch 7/25\n",
      "14/14 [==============================] - 8s 598ms/step - loss: 0.3265 - acc: 0.8955 - val_loss: 0.2810 - val_acc: 0.9039\n",
      "Epoch 8/25\n",
      "14/14 [==============================] - 8s 597ms/step - loss: 0.2766 - acc: 0.9023 - val_loss: 0.2196 - val_acc: 0.9153\n",
      "Epoch 9/25\n",
      "14/14 [==============================] - 8s 600ms/step - loss: 0.2169 - acc: 0.9292 - val_loss: 0.1665 - val_acc: 0.9405\n",
      "Epoch 10/25\n",
      "14/14 [==============================] - 8s 596ms/step - loss: 0.1916 - acc: 0.9372 - val_loss: 0.1663 - val_acc: 0.9359\n",
      "Epoch 11/25\n",
      "14/14 [==============================] - 8s 596ms/step - loss: 0.1374 - acc: 0.9566 - val_loss: 0.1214 - val_acc: 0.9565\n",
      "Epoch 12/25\n",
      "14/14 [==============================] - 8s 592ms/step - loss: 0.1330 - acc: 0.9606 - val_loss: 0.1368 - val_acc: 0.9542\n",
      "Epoch 13/25\n",
      "14/14 [==============================] - 8s 595ms/step - loss: 0.1367 - acc: 0.9560 - val_loss: 0.1110 - val_acc: 0.9542\n",
      "Epoch 14/25\n",
      "14/14 [==============================] - 8s 597ms/step - loss: 0.1080 - acc: 0.9634 - val_loss: 0.0781 - val_acc: 0.9771\n",
      "Epoch 15/25\n",
      "14/14 [==============================] - 8s 595ms/step - loss: 0.1072 - acc: 0.9686 - val_loss: 0.1060 - val_acc: 0.9611\n",
      "Epoch 16/25\n",
      "14/14 [==============================] - 8s 600ms/step - loss: 0.1069 - acc: 0.9692 - val_loss: 0.0623 - val_acc: 0.9794\n",
      "Epoch 17/25\n",
      "14/14 [==============================] - 8s 600ms/step - loss: 0.0953 - acc: 0.9669 - val_loss: 0.1074 - val_acc: 0.9565\n",
      "Epoch 18/25\n",
      "14/14 [==============================] - 8s 600ms/step - loss: 0.1150 - acc: 0.9674 - val_loss: 0.0824 - val_acc: 0.9725\n",
      "Epoch 19/25\n",
      "14/14 [==============================] - 8s 598ms/step - loss: 0.0761 - acc: 0.9777 - val_loss: 0.0644 - val_acc: 0.9771\n",
      "Epoch 20/25\n",
      "14/14 [==============================] - 8s 599ms/step - loss: 0.0679 - acc: 0.9777 - val_loss: 0.1015 - val_acc: 0.9703\n",
      "Epoch 21/25\n",
      "14/14 [==============================] - 8s 596ms/step - loss: 0.0606 - acc: 0.9806 - val_loss: 0.0406 - val_acc: 0.9840\n",
      "Epoch 22/25\n",
      "14/14 [==============================] - 8s 614ms/step - loss: 0.0688 - acc: 0.9789 - val_loss: 0.0577 - val_acc: 0.9840\n",
      "Epoch 23/25\n",
      "14/14 [==============================] - 8s 600ms/step - loss: 0.0596 - acc: 0.9840 - val_loss: 0.0509 - val_acc: 0.9794\n",
      "Epoch 24/25\n",
      "14/14 [==============================] - 8s 595ms/step - loss: 0.0612 - acc: 0.9794 - val_loss: 0.0702 - val_acc: 0.9703\n",
      "Epoch 25/25\n",
      "14/14 [==============================] - 8s 595ms/step - loss: 0.0723 - acc: 0.9749 - val_loss: 0.0692 - val_acc: 0.9771\n"
     ]
    }
   ],
   "source": [
    "history = model.fit(training_generator, \n",
    "                    validation_data=(validation_generator),\n",
    "                    epochs=25,\n",
    "                    \n",
    "                    )"
   ]
  },
  {
   "cell_type": "code",
   "execution_count": null,
   "metadata": {},
   "outputs": [],
   "source": []
  }
 ],
 "metadata": {
  "kernelspec": {
   "display_name": "base",
   "language": "python",
   "name": "python3"
  },
  "language_info": {
   "codemirror_mode": {
    "name": "ipython",
    "version": 3
   },
   "file_extension": ".py",
   "mimetype": "text/x-python",
   "name": "python",
   "nbconvert_exporter": "python",
   "pygments_lexer": "ipython3",
   "version": "3.11.5"
  }
 },
 "nbformat": 4,
 "nbformat_minor": 2
}
